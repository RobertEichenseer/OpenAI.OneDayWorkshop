{
 "cells": [
  {
   "cell_type": "markdown",
   "metadata": {},
   "source": [
    "# 02 Chat Completion | 02 .NET SDK\n",
    "\n",
    "## Azure Environment\n",
    "\n",
    "To execute the sample code Azure service specific information like endpoint, api key etc. is needed ([Details and instructions can be found here](../01_CreateEnvironment/01_Environment.ipynb))\n",
    "\n",
    "## Step 1: Create OpenAIClient\n",
    "\n",
    "The OpenAIClient from Azure.AI.OpenAI is a .NET client library that acts as the centralized point for all .NET functionality that want to interact with a deployed Azure OpenAI Large Language Model. It provides methods to access the OpenAI REST APIs for various tasks such as text completion, text embedding, and chat completion, etc.. It also allows developers to specify the model, engine, and options for each request, such as temperature, frequency penalty, presence penalty, and stop sequences. \n",
    "\n",
    "The OpenAIClient can connect to any Azure OpenAI resource or to the non-Azure OpenAI inference endpoint, making it a versatile and powerful tool for .NET development with OpenAI."
   ]
  },
  {
   "cell_type": "code",
   "execution_count": null,
   "metadata": {
    "dotnet_interactive": {
     "language": "csharp"
    },
    "polyglot_notebook": {
     "kernelName": "csharp"
    }
   },
   "outputs": [],
   "source": [
    "#r \"nuget: Azure.AI.OpenAI, 2.0.0-beta.2\"\n",
    "#r \"nuget: DotNetEnv, 2.5.0\"\n",
    "\n",
    "using Azure; \n",
    "using Azure.AI.OpenAI;\n",
    "using OpenAI.Chat;\n",
    "using DotNetEnv;\n",
    "using System.IO;\n",
    "using System.Text.Json; \n",
    "\n",
    "//configuration file is created during environment creation\n",
    "static string _configurationFile = @\"../Configuration/application.env\";\n",
    "Env.Load(_configurationFile);\n",
    "\n",
    "\n",
    "string assetsFolder = Path.Combine(Directory.GetCurrentDirectory(), \"..\", \"..\", \"assets\");\n",
    "\n",
    "string oAiApiKey = Environment.GetEnvironmentVariable(\"WS_AOAI_APIKEY\") ?? \"WS_AOAI_APIKEY not found\";\n",
    "string oAiEndpoint = Environment.GetEnvironmentVariable(\"WS_AOAI_ENDPOINT\") ?? \"WS_AOAI_ENDPOINT not found\";\n",
    "string chatCompletionDeploymentName = Environment.GetEnvironmentVariable(\"WS_CHATCOMPLETION_DEPLOYMENTNAME\") ?? \"WS_CHATCOMPLETION_DEPLOYMENTNAME not found\";\n",
    "\n",
    "AzureKeyCredential azureKeyCredential = new AzureKeyCredential(oAiApiKey);\n",
    "AzureOpenAIClient azureOpenAIClient = new AzureOpenAIClient(new Uri(oAiEndpoint), azureKeyCredential);\n",
    "ChatClient chatClient = azureOpenAIClient.GetChatClient(chatCompletionDeploymentName);\n",
    "\n",
    "Console.WriteLine($\"AzureOpenAI Client created...\");\n",
    "Console.WriteLine($\"ChatClient created...\");"
   ]
  },
  {
   "cell_type": "markdown",
   "metadata": {},
   "source": [
    "**Expected output:**\n",
    "\n",
    "Installed Packages\n",
    "\n",
    "  - Azure.AI.OpenAI, 2.0.0-beta.2\n",
    "  - DotNetEnv, 2.5.0\n",
    "\n",
    "AzureOpenAI client created ...\n",
    "\n",
    "ChatClient created ..."
   ]
  },
  {
   "cell_type": "markdown",
   "metadata": {},
   "source": [
    "## Step 1: Basic Interaction\n",
    "\n",
    "The following cell, demonstrate a basic interaction with OpenAI Client. In this case, the system message is used to provide instructions or settings for the assistant, such as its personality or behavior. The user message is used to provide queries or inputs from the human user. The assistant message is used to provide responses or outputs from the model.\n",
    "\n",
    "System prompt: `\"You are an AI assistance who helps finding information around international sport events\"`\n",
    "\n",
    "Prompt: `\"Who won the super bowl 2024?\"`"
   ]
  },
  {
   "cell_type": "code",
   "execution_count": null,
   "metadata": {
    "dotnet_interactive": {
     "language": "csharp"
    },
    "polyglot_notebook": {
     "kernelName": "csharp"
    }
   },
   "outputs": [],
   "source": [
    "string systemMessage = \"You are an AI assistance who helps finding information around international sport events\";\n",
    "string userMessage = \"Who won the super bowl 2024?\";\n",
    "\n",
    "ChatCompletionOptions chatComletionOptions = new ChatCompletionOptions(){\n",
    "    MaxTokens = 500,\n",
    "    Temperature = 0.0f,\n",
    "    TopP = 1.0f,\n",
    "    FrequencyPenalty = 0.7f,\n",
    "    PresencePenalty = 0.7f,\n",
    "};\n",
    "chatComletionOptions.StopSequences.Add(\"\\n\");\n",
    "\n",
    "ChatCompletion chatCompletion = await chatClient.CompleteChatAsync(\n",
    "    messages: [\n",
    "        new SystemChatMessage(systemMessage),\n",
    "        new UserChatMessage(userMessage)\n",
    "    ], \n",
    "    options: chatComletionOptions\n",
    ");\n",
    "\n",
    "Console.WriteLine($\"Model response: \\n {chatCompletion.Content[0]}\"); \n"
   ]
  },
  {
   "cell_type": "markdown",
   "metadata": {},
   "source": [
    "**Expected outcome:**\n",
    "\n",
    "Model response:\n",
    "\n",
    "[Some information that the event will happen in the future]"
   ]
  },
  {
   "cell_type": "markdown",
   "metadata": {},
   "source": [
    "## Step 2: Complex interaction - Chat History\n",
    "\n",
    "### Prepare chat history\n",
    "\n",
    "System Prompt: \n",
    "```html\n",
    "    You extract intention from provided text. The two intentions you identify are: product information and order status. \n",
    "    You answer with a valid JSON string. \n",
    "    The JSON string must have the format {\"\"Intention\"\": \"\"ProductInformation\"\"} or {\"\"Intention\"\": \"\"OrderInfo\"\"}. \n",
    "    You don't provide additional information. \n",
    "    If you can't identify intention answer with {\"\"Intention\"\": \"\"Unknown\"\"}\n",
    "```\n",
    "\n",
    "Chat History: \n",
    "\n",
    "```html\n",
    "    - I've purchased three weeks ago new training shoes. When will they will be delivered?\n",
    "    - Still waiting for the delivery. Any idea when it will arrive? I'm Robert and I'm calling on behalf of company Contoso.\n",
    "    - Do you have training shoes? If yes, I'm interested in running equipment specifically running shoes.\n",
    "    - What is the average price for running shoes?\n",
    "```\n",
    "\n"
   ]
  },
  {
   "cell_type": "code",
   "execution_count": null,
   "metadata": {
    "dotnet_interactive": {
     "language": "csharp"
    },
    "polyglot_notebook": {
     "kernelName": "csharp"
    }
   },
   "outputs": [],
   "source": [
    "// Define System Prompt\n",
    "string systemMessage = @\" \n",
    "    You extract intention from provided text. The two intentions you identify are: product information and order status. \n",
    "    You answer with a valid JSON string. \n",
    "    The JSON string must have the format {\"\"Intention\"\": \"\"ProductInformation\"\"} or {\"\"Intention\"\": \"\"OrderInfo\"\"}. \n",
    "    You don't provide additional information. \n",
    "    If you can't identify intention answer with {\"\"Intention\"\": \"\"Unknown\"\"}\n",
    "\";\n",
    "\n",
    "List<ChatMessage> chatMessages = new List<ChatMessage>();\n",
    "chatMessages.Add(new SystemChatMessage(systemMessage));\n",
    "chatMessages.Add(new UserChatMessage(\"I've purchased three weeks ago new training shoes. When will they will be delivered?\"));\n",
    "chatMessages.Add(new UserChatMessage(\"Still waiting for the delivery. Any idea when it will arrive? I'm Robert and I'm calling on behalf of company Contoso.\"));\n",
    "chatMessages.Add(new UserChatMessage(\"Do you have training shoes? If yes, I'm interested in running equipment specifically running shoes.\"));\n",
    "chatMessages.Add(new UserChatMessage(\"What is the average price for running shoes?\"));\n",
    "\n",
    "Console.WriteLine($\"Chat messages created ...\");\n"
   ]
  },
  {
   "cell_type": "markdown",
   "metadata": {},
   "source": [
    "**Expected outcome:**\n",
    "\n",
    "Chat messages created ..."
   ]
  },
  {
   "cell_type": "markdown",
   "metadata": {},
   "source": [
    "### Model call\n",
    "\n",
    "The complex chat history is provided to the model for completion"
   ]
  },
  {
   "cell_type": "code",
   "execution_count": null,
   "metadata": {
    "dotnet_interactive": {
     "language": "csharp"
    },
    "polyglot_notebook": {
     "kernelName": "csharp"
    }
   },
   "outputs": [],
   "source": [
    "ChatCompletionOptions chatCompletionOptions = new ChatCompletionOptions(){\n",
    "    MaxTokens = 500,\n",
    "    Temperature = 0.0f,\n",
    "    TopP = 1.0f,\n",
    "    FrequencyPenalty = 0.7f,\n",
    "    PresencePenalty = 0.7f,\n",
    "};\n",
    "chatCompletionOptions.StopSequences.Add(\"\\n\");\n",
    "\n",
    "ChatCompletion chatCompletion = await chatClient.CompleteChatAsync(\n",
    "    messages: chatMessages, \n",
    "    options: chatComletionOptions\n",
    ");\n",
    "\n",
    "foreach (ChatMessageContentPart chatMessageContentPart in chatCompletion.Content){\n",
    "    Console.WriteLine($\"Model response: \\n {chatMessageContentPart}\"); \n",
    "}"
   ]
  },
  {
   "cell_type": "markdown",
   "metadata": {},
   "source": [
    "**Expected outcome:**\n",
    "\n",
    "Model response: \n",
    "\n",
    "{\"Intention\": ProductInformation}"
   ]
  },
  {
   "cell_type": "markdown",
   "metadata": {},
   "source": [
    "## Step 3: Check additional response values\n",
    "\n",
    "### Token Usage\n",
    "\n",
    "Provide tokens consumed by the `GetChatCompletionsAsync()` call."
   ]
  },
  {
   "cell_type": "code",
   "execution_count": null,
   "metadata": {
    "dotnet_interactive": {
     "language": "csharp"
    },
    "polyglot_notebook": {
     "kernelName": "csharp"
    }
   },
   "outputs": [],
   "source": [
    "Console.WriteLine($\"Input Tokens: {chatCompletion.Usage.InputTokens}\");\n",
    "Console.WriteLine($\"Output Tokens: {chatCompletion.Usage.OutputTokens}\");\n",
    "Console.WriteLine($\"Total Tokens:  {chatCompletion.Usage.TotalTokens}\");"
   ]
  },
  {
   "cell_type": "markdown",
   "metadata": {},
   "source": [
    "**Expected outcome:**\n",
    "\n",
    "Input Tokens: 174\n",
    "\n",
    "Output Tokens: 8\n",
    "\n",
    "Total Tokens: 182"
   ]
  },
  {
   "cell_type": "markdown",
   "metadata": {},
   "source": [
    "### Filter \n",
    "\n",
    "If the LLM detects:\n",
    "- hate\n",
    "- indirect attach\n",
    "- jailbreak\n",
    "- profanity\n",
    "- self harm\n",
    "- secual\n",
    "- violence\n",
    "  \n",
    "content within the provided prompt this is indicated in the response.\n",
    "\n",
    "If the LLM detects:\n",
    "- hate\n",
    "- profanity\n",
    "- protected code\n",
    "- protected text\n",
    "- self harm\n",
    "- sexual\n",
    "   \n",
    "content within the provided results this is indicated as well.\n",
    "\n",
    "**Attention:** Ín the current SDK this is Alpha functionality - Expect changes in the final version\n"
   ]
  },
  {
   "cell_type": "code",
   "execution_count": null,
   "metadata": {
    "dotnet_interactive": {
     "language": "csharp"
    },
    "polyglot_notebook": {
     "kernelName": "csharp"
    }
   },
   "outputs": [],
   "source": [
    "//Alpha Feature - Suppress diagnostics message\n",
    "#pragma warning disable AOAI001\n",
    "ContentFilterResultForPrompt contentFilterResultForPrompt = AzureChatCompletionExtensions.GetContentFilterResultForPrompt(chatCompletion);\n",
    "\n",
    "Console.WriteLine($\"Prompt; Hate: filtered/severity: {contentFilterResultForPrompt?.Hate?.Filtered} - {contentFilterResultForPrompt?.Hate?.Severity}\");\n",
    "Console.WriteLine($\"Prompt; IndirectAttack: {contentFilterResultForPrompt?.IndirectAttack?.Detected} - {contentFilterResultForPrompt?.IndirectAttack?.Filtered}\");\n",
    "Console.WriteLine($\"Prompt; Jailbreak: {contentFilterResultForPrompt?.Jailbreak?.Detected} - {contentFilterResultForPrompt?.Jailbreak?.Filtered}\");\n",
    "Console.WriteLine($\"Prompt; Profanity: {contentFilterResultForPrompt?.Profanity?.Detected} - {contentFilterResultForPrompt?.Profanity?.Filtered}\");\n",
    "Console.WriteLine($\"Prompt; SelfHarm: {contentFilterResultForPrompt?.SelfHarm?.Filtered} - {contentFilterResultForPrompt?.SelfHarm?.Severity}\");\n",
    "Console.WriteLine($\"Prompt; Sexual: {contentFilterResultForPrompt?.Sexual?.Filtered} - {contentFilterResultForPrompt?.Sexual?.Severity}\");\n",
    "Console.WriteLine($\"Prompt; Violence: {contentFilterResultForPrompt?.Violence?.Filtered} - {contentFilterResultForPrompt?.Violence?.Severity}\");\n",
    "\n",
    "ContentFilterResultForResponse contentFilterResultForResponse = AzureChatCompletionExtensions.GetContentFilterResultForResponse(chatCompletion);\n",
    "Console.WriteLine($\"Response; Hate: filtered/severity: {contentFilterResultForResponse?.Hate?.Filtered} - {contentFilterResultForResponse?.Hate?.Severity}\");\n",
    "Console.WriteLine($\"Response; Profanity: {contentFilterResultForResponse?.Profanity?.Detected} - {contentFilterResultForResponse?.Profanity?.Filtered}\");\n",
    "Console.WriteLine($\"Response; ProtectedMaterialCode: {contentFilterResultForResponse?.ProtectedMaterialCode?.Detected} - {contentFilterResultForResponse?.ProtectedMaterialCode?.Filtered}\");\n",
    "Console.WriteLine($\"Response; ProtectedMaterialText: {contentFilterResultForResponse?.ProtectedMaterialText?.Detected} - {contentFilterResultForResponse?.ProtectedMaterialText?.Filtered}\");\n",
    "Console.WriteLine($\"Response; SelfHarm: {contentFilterResultForResponse?.SelfHarm?.Filtered} - {contentFilterResultForResponse?.SelfHarm?.Severity}\");\n",
    "Console.WriteLine($\"Response; Sexual: {contentFilterResultForResponse?.Sexual?.Filtered} - {contentFilterResultForResponse?.Sexual?.Severity}\");\n",
    "#pragma warning restore AOAI001"
   ]
  },
  {
   "cell_type": "markdown",
   "metadata": {},
   "source": [
    "**Expected result:**\n",
    "\n",
    "Prompt; Hate: filtered/severity: False - safe\n",
    "\n",
    "Prompt; IndirectAttack:  - \n",
    "\n",
    "Prompt; Jailbreak:  - \n",
    "\n",
    "Prompt; Profanity:  - \n",
    "\n",
    "Prompt; SelfHarm: False - safe\n",
    "\n",
    "Prompt; Sexual: False - safe\n",
    "\n",
    "Prompt; Violence: False - safe\n",
    "\n",
    "Response; Hate: filtered/severity: False - safe\n",
    "\n",
    "Response; Profanity:  - \n",
    "\n",
    "Response; ProtectedMaterialCode:  - \n",
    "\n",
    "Response; ProtectedMaterialText:  - \n",
    "\n",
    "Response; SelfHarm: False - safe\n",
    "\n",
    "Response; Sexual: False - safe\n"
   ]
  }
 ],
 "metadata": {
  "kernelspec": {
   "display_name": ".NET (C#)",
   "language": "C#",
   "name": ".net-csharp"
  },
  "language_info": {
   "name": "polyglot-notebook"
  },
  "polyglot_notebook": {
   "kernelInfo": {
    "defaultKernelName": "csharp",
    "items": [
     {
      "aliases": [],
      "languageName": "csharp",
      "name": "csharp"
     }
    ]
   }
  }
 },
 "nbformat": 4,
 "nbformat_minor": 2
}
