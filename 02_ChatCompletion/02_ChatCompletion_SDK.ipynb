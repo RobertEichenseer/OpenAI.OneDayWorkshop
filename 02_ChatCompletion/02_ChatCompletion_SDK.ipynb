{
 "cells": [
  {
   "cell_type": "markdown",
   "metadata": {},
   "source": [
    "# 02 Chat Completion | 02 .NET SDK\n",
    "\n",
    "## Azure Environment\n",
    "\n",
    "To execute the sample code Azure service specific information like endpoint, api key etc. is needed ([Details and instructions can be found here](../01_CreateEnvironment/01_Environment.ipynb))\n",
    "\n",
    "## Step 1: Create OpenAIClient\n",
    "\n",
    "The OpenAIClient from Azure.AI.OpenAI is a .NET client library that acts as the centralized point for all .NET functionality that want to interact with a deployed Azure OpenAI Large Language Model. It provides methods to access the OpenAI REST APIs for various tasks such as text completion, text embedding, and chat completion, etc.. It also allows developers to specify the model, engine, and options for each request, such as temperature, frequency penalty, presence penalty, and stop sequences. \n",
    "\n",
    "The OpenAIClient can connect to any Azure OpenAI resource or to the non-Azure OpenAI inference endpoint, making it a versatile and powerful tool for .NET development with OpenAI."
   ]
  },
  {
   "cell_type": "code",
   "execution_count": 1,
   "metadata": {
    "dotnet_interactive": {
     "language": "csharp"
    },
    "polyglot_notebook": {
     "kernelName": "csharp"
    }
   },
   "outputs": [
    {
     "data": {
      "text/html": [
       "<div><div></div><div></div><div><strong>Installed Packages</strong><ul><li><span>Azure.AI.OpenAI, 1.0.0-beta.16</span></li><li><span>DotNetEnv, 2.5.0</span></li></ul></div></div>"
      ]
     },
     "metadata": {},
     "output_type": "display_data"
    },
    {
     "name": "stdout",
     "output_type": "stream",
     "text": [
      "OpenAI Client created...\r\n"
     ]
    }
   ],
   "source": [
    "#r \"nuget: Azure.AI.OpenAI, 1.0.0-beta.16\"\n",
    "#r \"nuget: DotNetEnv, 2.5.0\"\n",
    "\n",
    "using Azure; \n",
    "using Azure.AI.OpenAI;\n",
    "using DotNetEnv;\n",
    "using System.IO;\n",
    "using System.Text.Json; \n",
    "\n",
    "//configuration file is created during environment creation\n",
    "static string _configurationFile = @\"../Configuration/application.env\";\n",
    "Env.Load(_configurationFile);\n",
    "\n",
    "\n",
    "string assetsFolder = Path.Combine(Directory.GetCurrentDirectory(), \"..\", \"..\", \"assets\");\n",
    "\n",
    "string oAiApiKey = Environment.GetEnvironmentVariable(\"WS_AOAI_APIKEY\") ?? \"WS_AOAI_APIKEY not found\";\n",
    "string oAiEndpoint = Environment.GetEnvironmentVariable(\"WS_AOAI_ENDPOINT\") ?? \"WS_AOAI_ENDPOINT not found\";\n",
    "string chatCompletionDeploymentName = Environment.GetEnvironmentVariable(\"WS_CHATCOMPLETION_DEPLOYMENTNAME\") ?? \"WS_CHATCOMPLETION_DEPLOYMENTNAME not found\";\n",
    "\n",
    "AzureKeyCredential azureKeyCredential = new AzureKeyCredential(oAiApiKey);\n",
    "OpenAIClient openAIClient = new OpenAIClient(new Uri(oAiEndpoint), azureKeyCredential);\n",
    "\n",
    "Console.WriteLine($\"OpenAI Client created...\");"
   ]
  },
  {
   "cell_type": "markdown",
   "metadata": {},
   "source": [
    "## Step 1: Basic Interaction\n",
    "\n",
    "The following cell, demonstrate a basic interaction with OpenAI Client. In this case, the system message is used to provide instructions or settings for the assistant, such as its personality or behavior. The user message is used to provide queries or inputs from the human user. The assistant message is used to provide responses or outputs from the model.\n",
    "\n",
    "System prompt: `\"You are an AI assistance who helps finding information around international sport events\"`\n",
    "\n",
    "Prompt: `\"Who won the super bowl 2024?\"`"
   ]
  },
  {
   "cell_type": "code",
   "execution_count": 2,
   "metadata": {
    "dotnet_interactive": {
     "language": "csharp"
    },
    "polyglot_notebook": {
     "kernelName": "csharp"
    }
   },
   "outputs": [
    {
     "name": "stdout",
     "output_type": "stream",
     "text": [
      "ChatChoiceIndex: 0\n",
      "Content: I'm sorry, but I cannot provide real-time information as my knowledge is limited to publicly available data up to September 2021. I recommend checking the latest news or sports websites for the most recent Super Bowl winner.\n"
     ]
    }
   ],
   "source": [
    "string sys_prompt = \"You are an AI assistance who helps finding information around international sport events\";\n",
    "ChatCompletionsOptions simpleOption = new ChatCompletionsOptions();\n",
    "\n",
    "simpleOption.Messages.Add(new ChatRequestSystemMessage(sys_prompt));\n",
    "\n",
    "simpleOption.Messages.Add(new ChatRequestUserMessage( \"Who won the super bowl 2024?\"));\n",
    "\n",
    "//Request Properties\n",
    "simpleOption.MaxTokens = 500;\n",
    "simpleOption.Temperature = 0.0f;\n",
    "simpleOption.NucleusSamplingFactor = 0.0f;\n",
    "simpleOption.FrequencyPenalty = 0.7f;\n",
    "simpleOption.PresencePenalty = 0.7f;\n",
    "simpleOption.StopSequences.Add(\"\\n\"); \n",
    "simpleOption.DeploymentName = chatCompletionDeploymentName;\n",
    "\n",
    "Response<ChatCompletions> simpleResponse = await openAIClient.GetChatCompletionsAsync(simpleOption);\n",
    "\n",
    "// Get the first choice from the response\n",
    "ChatCompletions simpleCompletions = simpleResponse.Value;\n",
    "foreach (ChatChoice chatChoice in simpleCompletions.Choices) {\n",
    "    Console.WriteLine($\"ChatChoiceIndex: {chatChoice.Index}\");\n",
    "    Console.WriteLine($\"Content: {chatChoice.Message.Content}\");\n",
    "}"
   ]
  },
  {
   "cell_type": "markdown",
   "metadata": {},
   "source": [
    "## Step 2: Complex interaction - Chat History\n",
    "\n",
    "System Prompt: \n",
    "```html\n",
    "    You extract intention from provided text. The two intentions you identify are: product information and order status. \n",
    "    You answer with a valid JSON string. \n",
    "    The JSON string must have the format {\"\"Intention\"\": \"\"ProductInformation\"\"} or {\"\"Intention\"\": \"\"OrderInfo\"\"}. \n",
    "    You don't provide additional information. \n",
    "    If you can't identify intention answer with {\"\"Intention\"\": \"\"Unknown\"\"}\n",
    "```\n",
    "\n",
    "Chat History: \n",
    "\n",
    "```html\n",
    "    - I've purchased three weeks ago new training shoes. When will they will be delivered?\n",
    "    - Still waiting for the delivery. Any idea when it will arrive? I'm Robert and I'm calling on behalf of company Contoso.\n",
    "    - Do you have training shoes? If yes, I'm interested in running equipment specifically running shoes.\n",
    "    - What is the average price for running shoes?\n",
    "```\n",
    "\n"
   ]
  },
  {
   "cell_type": "code",
   "execution_count": 3,
   "metadata": {
    "dotnet_interactive": {
     "language": "csharp"
    },
    "polyglot_notebook": {
     "kernelName": "csharp"
    }
   },
   "outputs": [
    {
     "name": "stdout",
     "output_type": "stream",
     "text": [
      "ChatCompletionsOptions created...\n",
      "ChatChoiceIndex: 0\n",
      "Content: {\"Intention\": \"ProductInformation\"}\n"
     ]
    }
   ],
   "source": [
    "// Define System Prompt\n",
    "string systemPrompt = @\" \n",
    "    You extract intention from provided text. The two intentions you identify are: product information and order status. \n",
    "    You answer with a valid JSON string. \n",
    "    The JSON string must have the format {\"\"Intention\"\": \"\"ProductInformation\"\"} or {\"\"Intention\"\": \"\"OrderInfo\"\"}. \n",
    "    You don't provide additional information. \n",
    "    If you can't identify intention answer with {\"\"Intention\"\": \"\"Unknown\"\"}\n",
    "\";\n",
    "\n",
    "// Compose Chat (Few Shot Learning)\n",
    "ChatCompletionsOptions chatCompletionsOptions = new ChatCompletionsOptions();\n",
    "\n",
    "// Add messages using the new methods\n",
    "chatCompletionsOptions.Messages.Add(new ChatRequestSystemMessage(systemPrompt));\n",
    "\n",
    "chatCompletionsOptions.Messages.Add(new ChatRequestUserMessage(\"I've purchased three weeks ago new training shoes. When will they will be delivered?\"));\n",
    "// Assuming that the assistant responses are generated by the AI and not predefined, we don't add them here\n",
    "\n",
    "chatCompletionsOptions.Messages.Add(new ChatRequestUserMessage(\"Still waiting for the delivery. Any idea when it will arrive? I'm Robert and I'm calling on behalf of company Contoso.\"));\n",
    "\n",
    "chatCompletionsOptions.Messages.Add(new ChatRequestUserMessage(\"Do you have training shoes? If yes, I'm interested in running equipment specifically running shoes.\"));\n",
    "\n",
    "chatCompletionsOptions.Messages.Add(new ChatRequestUserMessage(\"What is the average price for running shoes?\"));\n",
    "\n",
    "// Request Properties\n",
    "chatCompletionsOptions.MaxTokens = 500;\n",
    "chatCompletionsOptions.Temperature = 0.0f;\n",
    "chatCompletionsOptions.NucleusSamplingFactor = 0.0f;\n",
    "chatCompletionsOptions.FrequencyPenalty = 0.7f;\n",
    "chatCompletionsOptions.PresencePenalty = 0.7f;\n",
    "chatCompletionsOptions.StopSequences.Add(\"\\n\"); \n",
    "\n",
    "// Deployment Name\n",
    "chatCompletionsOptions.DeploymentName = chatCompletionDeploymentName;\n",
    "\n",
    "Console.WriteLine(\"ChatCompletionsOptions created...\");\n",
    "\n",
    "// Get Chat Completions\n",
    "Response<ChatCompletions> response = await openAIClient.GetChatCompletionsAsync(chatCompletionsOptions);\n",
    "\n",
    "// Handle the response\n",
    "ChatCompletions chatCompletions = response.Value;\n",
    "foreach (ChatChoice chatChoice in chatCompletions.Choices) {\n",
    "    Console.WriteLine($\"ChatChoiceIndex: {chatChoice.Index}\");\n",
    "    Console.WriteLine($\"Content: {chatChoice.Message.Content}\");\n",
    "}\n"
   ]
  },
  {
   "cell_type": "markdown",
   "metadata": {},
   "source": [
    "## Step 3: Check additional response values\n",
    "\n",
    "### Token Usage\n",
    "\n",
    "Provide tokens consumed by the `GetChatCompletionsAsync()` call."
   ]
  },
  {
   "cell_type": "code",
   "execution_count": 5,
   "metadata": {
    "dotnet_interactive": {
     "language": "csharp"
    },
    "polyglot_notebook": {
     "kernelName": "csharp"
    }
   },
   "outputs": [
    {
     "name": "stdout",
     "output_type": "stream",
     "text": [
      "Completion Tokens: 2\n",
      "Prompt Tokens: 198\n",
      "Total Tokens: 200\n"
     ]
    }
   ],
   "source": [
    "//Get Raw Response\n",
    "var rawResponse = response.GetRawResponse();\n",
    "if (!rawResponse.IsError) {\n",
    "    //Get Raw Response Content\n",
    "    JsonElement jsonElement = JsonSerializer.Deserialize<JsonElement>(rawResponse.Content.ToString());\n",
    "    JsonElement tokenUsage = jsonElement.GetProperty(\"usage\");\n",
    "    tokenUsage.TryGetProperty(\"completion_tokens\", out JsonElement completionTokens);\n",
    "    Console.WriteLine($\"Completion Tokens: {completionTokens.ToString()}\");\n",
    "    tokenUsage.TryGetProperty(\"prompt_tokens\", out JsonElement promptTokens);\n",
    "    Console.WriteLine($\"Prompt Tokens: {promptTokens.ToString()}\");\n",
    "    tokenUsage.TryGetProperty(\"total_tokens\", out JsonElement totalTokens);\n",
    "    Console.WriteLine($\"Total Tokens: {totalTokens.ToString()}\");\n",
    "}    "
   ]
  },
  {
   "cell_type": "markdown",
   "metadata": {},
   "source": [
    "### Filter \n",
    "\n",
    "If the LLM detects:\n",
    "- hate\n",
    "- self harm\n",
    "- violence\n",
    "- sexual\n",
    "content within the provided prompt or in the result it will be filtered and reported"
   ]
  },
  {
   "cell_type": "code",
   "execution_count": 6,
   "metadata": {
    "dotnet_interactive": {
     "language": "csharp"
    },
    "polyglot_notebook": {
     "kernelName": "csharp"
    }
   },
   "outputs": [
    {
     "name": "stdout",
     "output_type": "stream",
     "text": [
      "Prompt Filter Results\n",
      "PromptIndex: 0\n",
      "\t ContentFilterResults: Hate\n",
      "\t\t Filtered: False\n",
      "\t\t Severity: safe\n",
      "\t ContentFilterResults: SelfHarm\n",
      "\t\t Filtered: False\n",
      "\t\t Severity: safe\n",
      "\t ContentFilterResults: Violence\n",
      "\t\t Filtered: False\n",
      "\t\t Severity: safe\n",
      "\t ContentFilterResults: Sexual\n",
      "\t\t Filtered: False\n",
      "\t\t Severity: safe\n",
      "ChatChoiceIndex: 0\n",
      "\t ContentFilterResults: Hate\n",
      "\t\t Filtered: False\n",
      "\t\t Severity: safe\n",
      "\t ContentFilterResults: SelfHarm\n",
      "\t\t Filtered: False\n",
      "\t\t Severity: safe\n",
      "\t ContentFilterResults: Violence\n",
      "\t\t Filtered: False\n",
      "\t\t Severity: safe\n",
      "\t ContentFilterResults: Sexual\n",
      "\t\t Filtered: False\n",
      "\t\t Severity: safe\n"
     ]
    }
   ],
   "source": [
    "//Prompt Filter\n",
    "Console.WriteLine($\"Prompt Filter Results\");\n",
    "foreach(ContentFilterResultsForPrompt promptFilterResult in chatCompletions.PromptFilterResults) {\n",
    "    Console.WriteLine($\"PromptIndex: {promptFilterResult.PromptIndex}\");\n",
    "    Console.WriteLine($\"\\t ContentFilterResults: Hate\");\n",
    "    Console.WriteLine($\"\\t\\t Filtered: {promptFilterResult.ContentFilterResults.Hate.Filtered}\");\n",
    "    Console.WriteLine($\"\\t\\t Severity: {promptFilterResult.ContentFilterResults.Hate.Severity}\");\n",
    "    Console.WriteLine($\"\\t ContentFilterResults: SelfHarm\");\n",
    "    Console.WriteLine($\"\\t\\t Filtered: {promptFilterResult.ContentFilterResults.SelfHarm.Filtered}\");\n",
    "    Console.WriteLine($\"\\t\\t Severity: {promptFilterResult.ContentFilterResults.SelfHarm.Severity}\");\n",
    "    Console.WriteLine($\"\\t ContentFilterResults: Violence\");\n",
    "    Console.WriteLine($\"\\t\\t Filtered: {promptFilterResult.ContentFilterResults.Violence.Filtered}\");\n",
    "    Console.WriteLine($\"\\t\\t Severity: {promptFilterResult.ContentFilterResults.Violence.Severity}\");\n",
    "    Console.WriteLine($\"\\t ContentFilterResults: Sexual\");\n",
    "    Console.WriteLine($\"\\t\\t Filtered: {promptFilterResult.ContentFilterResults.Sexual.Filtered}\");\n",
    "    Console.WriteLine($\"\\t\\t Severity: {promptFilterResult.ContentFilterResults.Sexual.Severity}\");\n",
    "}\n",
    "\n",
    "//Response Filter\n",
    "foreach (ChatChoice chatChoice in chatCompletions.Choices) {\n",
    "    Console.WriteLine($\"ChatChoiceIndex: {chatChoice.Index}\");\n",
    "    Console.WriteLine($\"\\t ContentFilterResults: Hate\");\n",
    "    Console.WriteLine($\"\\t\\t Filtered: {chatChoice.ContentFilterResults.Hate.Filtered}\");\n",
    "    Console.WriteLine($\"\\t\\t Severity: {chatChoice.ContentFilterResults.Hate.Severity}\");\n",
    "    Console.WriteLine($\"\\t ContentFilterResults: SelfHarm\");\n",
    "    Console.WriteLine($\"\\t\\t Filtered: {chatChoice.ContentFilterResults.SelfHarm.Filtered}\");\n",
    "    Console.WriteLine($\"\\t\\t Severity: {chatChoice.ContentFilterResults.SelfHarm.Severity}\");\n",
    "    Console.WriteLine($\"\\t ContentFilterResults: Violence\");\n",
    "    Console.WriteLine($\"\\t\\t Filtered: {chatChoice.ContentFilterResults.Violence.Filtered}\");\n",
    "    Console.WriteLine($\"\\t\\t Severity: {chatChoice.ContentFilterResults.Violence.Severity}\");\n",
    "    Console.WriteLine($\"\\t ContentFilterResults: Sexual\");\n",
    "    Console.WriteLine($\"\\t\\t Filtered: {chatChoice.ContentFilterResults.Sexual.Filtered}\");\n",
    "    Console.WriteLine($\"\\t\\t Severity: {chatChoice.ContentFilterResults.Sexual.Severity}\");\n",
    "}"
   ]
  }
 ],
 "metadata": {
  "kernelspec": {
   "display_name": ".NET (C#)",
   "language": "C#",
   "name": ".net-csharp"
  },
  "language_info": {
   "name": "polyglot-notebook"
  },
  "polyglot_notebook": {
   "kernelInfo": {
    "defaultKernelName": "csharp",
    "items": [
     {
      "aliases": [],
      "languageName": "csharp",
      "name": "csharp"
     }
    ]
   }
  }
 },
 "nbformat": 4,
 "nbformat_minor": 2
}
