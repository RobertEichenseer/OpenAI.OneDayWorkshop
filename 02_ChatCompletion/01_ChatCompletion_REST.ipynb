{
 "cells": [
  {
   "cell_type": "markdown",
   "metadata": {},
   "source": [
    "# 02 Chat Completion | 01 REST Call\n",
    "\n",
    "## Azure Environment\n",
    "\n",
    "To execute the sample code Azure service specific information like endpoint, api key etc. is needed ([Details and instructions can be found here](../01_CreateEnvironment/01_Environment.ipynb))\n",
    "\n",
    "## Intro\n",
    "\n",
    "Chat models take a series of messages as input, and return a model-generated message as output. The main input is the messages parameter. Messages must be an array of message objects, where each object has a role (either \"system\", \"user\", or \"assistant\") and content (the content of the message)."
   ]
  },
  {
   "cell_type": "markdown",
   "metadata": {},
   "source": [
    "## Step 1:  Setup Parameters"
   ]
  },
  {
   "cell_type": "code",
   "execution_count": 1,
   "metadata": {
    "dotnet_interactive": {
     "language": "csharp"
    },
    "polyglot_notebook": {
     "kernelName": "csharp"
    },
    "vscode": {
     "languageId": "polyglot-notebook"
    }
   },
   "outputs": [
    {
     "data": {
      "text/html": [
       "<div><div></div><div></div><div><strong>Installed Packages</strong><ul><li><span>DotNetEnv, 2.5.0</span></li><li><span>Newtonsoft.Json, 13.0.1</span></li><li><span>System.Text.Json, 7.0.3</span></li></ul></div></div>"
      ]
     },
     "metadata": {},
     "output_type": "display_data"
    }
   ],
   "source": [
    "#r \"nuget: DotNetEnv, 2.5.0\"\n",
    "#r \"nuget: System.Text.Json, 7.0.3\"\n",
    "#r \"nuget: Newtonsoft.Json, 13.0.1\"\n",
    "using DotNetEnv;\n",
    "\n",
    "using System.Net;\n",
    "using System.Net.Http;\n",
    "using System.Text.Json.Nodes;\n",
    "using System.Text.Json;\n",
    "\n",
    "static string _configurationFile = @\"../Configuration/application.env\";\n",
    "Env.Load(_configurationFile);\n",
    "\n",
    "string apiBase = Environment.GetEnvironmentVariable(\"WS_AOAI_ENDPOINT\"); \n",
    "string apiKey = Environment.GetEnvironmentVariable(\"WS_AOAI_APIKEY\"); \n",
    "string deploymentName = Environment.GetEnvironmentVariable(\"WS_CHATCOMPLETION_DEPLOYMENTNAME\"); \n",
    "string apiVersion = \"2023-07-01-preview\";\n"
   ]
  },
  {
   "cell_type": "markdown",
   "metadata": {},
   "source": [
    "## Step 2:  Create completions for chat messages with GPT models\n",
    "\n",
    "The code cell is using an instance of `HttpClient` to call the REST API of the deployed Azure OpenAI instance.\n",
    "\n",
    "System prompt: `\"You are an AI assistance who helps finding information around international sport events\"`\n",
    "\n",
    "Prompt: `\"Who won the super bowl 2024?\"`"
   ]
  },
  {
   "cell_type": "code",
   "execution_count": 2,
   "metadata": {
    "dotnet_interactive": {
     "language": "csharp"
    },
    "polyglot_notebook": {
     "kernelName": "csharp"
    },
    "vscode": {
     "languageId": "polyglot-notebook"
    }
   },
   "outputs": [
    {
     "name": "stdout",
     "output_type": "stream",
     "text": [
      "Request payload defined ...\r\n"
     ]
    }
   ],
   "source": [
    "\n",
    "var requestPayload = new JsonObject\n",
    "{\n",
    "    { \"messages\", new JsonArray\n",
    "        {\n",
    "            new JsonObject\n",
    "            {\n",
    "                { \"role\", \"system\" },\n",
    "                { \"content\", \"You are an AI assistance who helps finding information around international sport events\" }\n",
    "                \n",
    "            },\n",
    "            new JsonObject\n",
    "            {\n",
    "                { \"role\", \"user\" },\n",
    "                { \"content\", \"Who won the super bowl 2024?\" }\n",
    "            }\n",
    "        }\n",
    "    },\n",
    "    { \"max_tokens\", 200 },\n",
    "    { \"temperature\", 0.7 },\n",
    "    { \"frequency_penalty\", 0 },\n",
    "    { \"presence_penalty\", 0 },\n",
    "    { \"top_p\", 0.95 },\n",
    "    { \"stop\", null }\n",
    "};\n",
    "\n",
    "string payload = JsonSerializer.Serialize(requestPayload, new JsonSerializerOptions\n",
    "{\n",
    "    WriteIndented = true // Optional: to make the JSON string more readable\n",
    "});\n",
    "\n",
    "Console.WriteLine($\"Request payload defined ...\");"
   ]
  },
  {
   "cell_type": "markdown",
   "metadata": {},
   "source": [
    "## Step 3:  Call Azure OpenAI REST endpoint\n",
    "\n",
    "The code cell is using an instance of `HttpClient` to call the REST API of the deployed Azure OpenAI instance."
   ]
  },
  {
   "cell_type": "code",
   "execution_count": 3,
   "metadata": {
    "dotnet_interactive": {
     "language": "csharp"
    },
    "polyglot_notebook": {
     "kernelName": "csharp"
    },
    "vscode": {
     "languageId": "polyglot-notebook"
    }
   },
   "outputs": [
    {
     "name": "stdout",
     "output_type": "stream",
     "text": [
      "Error: StatusCode: 400, ReasonPhrase: 'model_error', Version: 1.1, Content: System.Net.Http.HttpConnectionResponseContent, Headers:\r\n",
      "{\r\n",
      "  request-id: 9f02e439-8cab-48b7-9ab9-45783be142de\r\n",
      "  X-Content-Type-Options: nosniff\r\n",
      "  apim-request-id: 9f02e439-8cab-48b7-9ab9-45783be142de\r\n",
      "  x-ms-region: Sweden Central\r\n",
      "  x-ms-rai-invoked: true\r\n",
      "  X-Request-ID: 090df953-bdc2-44f0-a2c3-8f90274940c8\r\n",
      "  ms-azureml-model-error-reason: model_error\r\n",
      "  ms-azureml-model-error-statuscode: 400\r\n",
      "  x-ms-client-request-id: 9f02e439-8cab-48b7-9ab9-45783be142de\r\n",
      "  Strict-Transport-Security: max-age=31536000; includeSubDomains; preload\r\n",
      "  azureml-model-session: mmapi-v0202-0508-c\r\n",
      "  api-supported-versions: 1\r\n",
      "  x-envoy-upstream-service-time: 36\r\n",
      "  x-ratelimit-remaining-requests: 0\r\n",
      "  x-ratelimit-remaining-tokens: 800\r\n",
      "  Date: Tue, 18 Jun 2024 11:30:45 GMT\r\n",
      "  Content-Length: 191\r\n",
      "  Content-Type: application/json; charset=utf-8\r\n",
      "}\r\n"
     ]
    }
   ],
   "source": [
    "string endpoint = $\"{apiBase}openai/deployments/{deploymentName}/chat/completions?api-version={apiVersion}\";\n",
    "\n",
    "using (HttpClient httpClient = new HttpClient())\n",
    "{\n",
    "    httpClient.BaseAddress = new Uri(endpoint);\n",
    "    httpClient.DefaultRequestHeaders.Add(\"api-key\",apiKey);\n",
    "    httpClient.DefaultRequestHeaders.Accept.Add(new System.Net.Http.Headers.MediaTypeWithQualityHeaderValue(\"application/json\"));\n",
    "\n",
    "    var stringContent = new StringContent(payload, Encoding.UTF8, \"application/json\");\n",
    "\n",
    "    var response = await httpClient.PostAsync(endpoint, stringContent);\n",
    "\n",
    "    if (response.IsSuccessStatusCode)\n",
    "    {\n",
    "        using (var responseStream = await response.Content.ReadAsStreamAsync())\n",
    "        {\n",
    "            // Parse the JSON response using JsonDocument\n",
    "            using (var jsonDoc = await JsonDocument.ParseAsync(responseStream))\n",
    "            {\n",
    "                // Access the message content dynamically\n",
    "                var root = jsonDoc.RootElement;\n",
    "                var messageContent = root.GetProperty(\"choices\")[0].GetProperty(\"message\").GetProperty(\"content\").GetString();\n",
    "\n",
    "                // Output the message content\n",
    "                Console.WriteLine(\"Output: \" + messageContent);\n",
    "            }\n",
    "        }\n",
    "    }\n",
    "    else\n",
    "    {\n",
    "        Console.WriteLine($\"Error: {response}\");\n",
    "    }\n",
    "}"
   ]
  }
 ],
 "metadata": {
  "kernelspec": {
   "display_name": ".NET (C#)",
   "language": "C#",
   "name": ".net-csharp"
  },
  "language_info": {
   "name": "python"
  },
  "orig_nbformat": 4,
  "polyglot_notebook": {
   "kernelInfo": {
    "defaultKernelName": "csharp",
    "items": [
     {
      "aliases": [],
      "name": "csharp"
     }
    ]
   }
  }
 },
 "nbformat": 4,
 "nbformat_minor": 2
}
