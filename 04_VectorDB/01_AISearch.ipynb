{
 "cells": [
  {
   "cell_type": "markdown",
   "metadata": {},
   "source": [
    "# 03 Vector DB | 01 Azure Cognitive Search\n",
    "\n",
    "## Azure Environment\n",
    "\n",
    "To execute the sample code Azure service specific information like endpoint, api key etc. is needed ([Details and instructions can be found here](../01_CreateEnvironment/01_Environment.ipynb))\n",
    "\n",
    "## Step 1: Create OpenAIClient / SearchIndexClient\n",
    "\n",
    "The OpenAIClient from Azure.AI.OpenAI is a .NET client library that acts as the centralized point for all .NET functionality that want to interact with a deployed Azure OpenAI Large Language Model. It provides methods to access the OpenAI REST APIs for various tasks such as text completion, text embedding, and chat completion, etc.. It also allows developers to specify the model, engine, and options for each request, such as temperature, frequency penalty, presence penalty, and stop sequences. \n",
    "\n",
    "The OpenAIClient can connect to any Azure OpenAI resource or to the non-Azure OpenAI inference endpoint, making it a versatile and powerful tool for .NET development with OpenAI."
   ]
  },
  {
   "cell_type": "code",
   "execution_count": 1,
   "metadata": {
    "dotnet_interactive": {
     "language": "csharp"
    },
    "polyglot_notebook": {
     "kernelName": "csharp"
    }
   },
   "outputs": [
    {
     "data": {
      "text/html": [
       "<div><div></div><div></div><div><strong>Installed Packages</strong><ul><li><span>Azure.AI.OpenAI, 1.0.0-beta.16</span></li><li><span>Azure.Search.Documents, 11.5.0-beta.4</span></li><li><span>DotNetEnv, 2.5.0</span></li></ul></div></div>"
      ]
     },
     "metadata": {},
     "output_type": "display_data"
    },
    {
     "name": "stdout",
     "output_type": "stream",
     "text": [
      "Azure OpenAI client created...\n",
      "Cognitive Search client created...\n"
     ]
    }
   ],
   "source": [
    "#r \"nuget: Azure.AI.OpenAI, 1.0.0-beta.16\"\n",
    "#r \"nuget: DotNetEnv, 2.5.0\"\n",
    "#r \"nuget: Azure.Search.Documents, 11.5.0-beta.4\"\n",
    "\n",
    "using Azure;\n",
    "using Azure.AI.OpenAI;\n",
    "using Azure.Search.Documents;\n",
    "using Azure.Search.Documents.Indexes;\n",
    "using Azure.Search.Documents.Indexes.Models;\n",
    "using Azure.Search.Documents.Models;\n",
    "using DotNetEnv;\n",
    "\n",
    "\n",
    "//configuration file is created during environment creation\n",
    "static string _configurationFile = @\"../Configuration/application.env\";\n",
    "Env.Load(_configurationFile);\n",
    "\n",
    "string oAiApiKey = Environment.GetEnvironmentVariable(\"WS_AOAI_APIKEY\") ?? \"WS_AOAI_APIKEY not found\";\n",
    "string oAiEndpoint = Environment.GetEnvironmentVariable(\"WS_AOAI_ENDPOINT\") ?? \"WS_AOAI_ENDPOINT not found\";\n",
    "string embeddingDeploymentName = Environment.GetEnvironmentVariable(\"WS_EMBEDDING_DEPLOYMENTNAME\") ?? \"WS_EMBEDDING_DEPLOYMENTNAME not found\";\n",
    "\n",
    "string cognitiveSearchEndpoint = Environment.GetEnvironmentVariable(\"WS_SEARCH_ENDPOINT\") ?? \"\";\n",
    "string cognitiveSearchApiKey = Environment.GetEnvironmentVariable(\"WS_SEARCH_APIKEY\") ?? \"\";\n",
    "\n",
    "AzureKeyCredential azureKeyCredential = new AzureKeyCredential(oAiApiKey);\n",
    "OpenAIClient openAIClient = new OpenAIClient(new Uri(oAiEndpoint), azureKeyCredential);\n",
    "\n",
    "AzureKeyCredential searchCredential = new AzureKeyCredential(cognitiveSearchApiKey);\n",
    "SearchIndexClient searchIndexClient = new SearchIndexClient(new Uri(cognitiveSearchEndpoint), searchCredential);\n",
    "\n",
    "Console.WriteLine(\"Azure OpenAI client created...\");\n",
    "Console.WriteLine(\"Cognitive Search client created...\");    \n"
   ]
  },
  {
   "cell_type": "markdown",
   "metadata": {},
   "source": [
    "## Step 2 - Create Search Index\n",
    "\n",
    "To store data in an AI Search Instance a so called Search Index is needed. "
   ]
  },
  {
   "cell_type": "code",
   "execution_count": 2,
   "metadata": {
    "dotnet_interactive": {
     "language": "csharp"
    },
    "polyglot_notebook": {
     "kernelName": "csharp"
    }
   },
   "outputs": [
    {
     "name": "stdout",
     "output_type": "stream",
     "text": [
      "Search index created...\r\n"
     ]
    }
   ],
   "source": [
    "//Create search index\n",
    "string indexName = \"fact-index\"; \n",
    "string searchConfigName = \"fact-config\";\n",
    "\n",
    "int modelDimensions = 1536;\n",
    "SearchIndex searchIndex = new(indexName)\n",
    "{\n",
    "    Fields =\n",
    "    {\n",
    "        new SimpleField(\"FactId\", SearchFieldDataType.String) { IsKey = true, IsFilterable = true, IsSortable = true, IsFacetable = true },\n",
    "        new SearchableField(\"FactName\") { IsFilterable = true, IsSortable = true },\n",
    "        new SearchableField(\"FactDescription\") { IsFilterable = true },\n",
    "        new SearchField(\"FactVector\", SearchFieldDataType.Collection(SearchFieldDataType.Single))\n",
    "        {\n",
    "            IsSearchable = true,\n",
    "            VectorSearchDimensions = modelDimensions,\n",
    "            VectorSearchConfiguration = searchConfigName\n",
    "        },\n",
    "    },\n",
    "    VectorSearch = new()\n",
    "    {\n",
    "        AlgorithmConfigurations =\n",
    "        {\n",
    "            new HnswVectorSearchAlgorithmConfiguration(searchConfigName)\n",
    "        }\n",
    "    }\n",
    "}; \n",
    "\n",
    "try { await searchIndexClient.DeleteIndexAsync(indexName); } catch {}\n",
    "await searchIndexClient.CreateIndexAsync(searchIndex);   \n",
    "Console.WriteLine(\"Search index created...\");\n"
   ]
  },
  {
   "cell_type": "markdown",
   "metadata": {},
   "source": [
    "## Step 3 - Define Facts\n",
    "\n",
    "For demo purpose 3 facts about artificial companies are defined:\n",
    "\n",
    "- *Company Music:* Company Music is one of the world's leading record labels. It has signed famous singers and is very profitable! The flagship of Contoso Music is a group that performs under the name 'Contoso Only'!\n",
    "- *Company Maritim:* Company Heavy Industry Maritime products. The current bestseller is the container transporter 'Contoso XL Heavy 2000'.\n",
    "- *Company Agriculture:* Company Agriculture is a German start-up that focuses on the production of milk and grain. Since this is a start-up, no further information is available!"
   ]
  },
  {
   "cell_type": "code",
   "execution_count": 3,
   "metadata": {
    "dotnet_interactive": {
     "language": "csharp"
    },
    "polyglot_notebook": {
     "kernelName": "csharp"
    }
   },
   "outputs": [
    {
     "name": "stdout",
     "output_type": "stream",
     "text": [
      "Facts defined...\r\n"
     ]
    }
   ],
   "source": [
    "//Define facts\n",
    "public class Fact\n",
    "{\n",
    "    public string FactId { get; set; } = \"\";\n",
    "    public string FactName { get; set; } = \"\";\n",
    "    public string FactDescription { get; set; } = \"\";\n",
    "    public IReadOnlyList<float> FactVector { get; set; } = new List<float>(); \n",
    "}\n",
    "\n",
    "Fact[] facts = new[]\n",
    "{\n",
    "    new Fact()\n",
    "    {\n",
    "        FactId = \"1\",\n",
    "        FactName = \"Company Music\",\n",
    "        FactDescription = @\"Company Musik is one of the world's leading record labels. \n",
    "                            It has signed famous singers and is very profitable! \n",
    "                            The flagship of Contoso Music is a group that performs under the name 'Contoso Only'!\",\n",
    "        FactVector = new float[1536],\n",
    "    },\n",
    "    new Fact()\n",
    "    {\n",
    "        FactId = \"2\",\n",
    "        FactName = \"Company Maritim\",\n",
    "        FactDescription = @\"Company Heavy Industry Maritime products. \n",
    "                        The current bestseller is the container transporter 'Contoso XL Heavy 2000'.\",\n",
    "        FactVector = new float[1536],\n",
    "    },\n",
    "    new Fact()\n",
    "    {\n",
    "        FactId = \"3\",\n",
    "        FactName = \"Company Agriculture\",\n",
    "        FactDescription = @\"Company Agriculture is a German start-up that focuses on the production of milk and grain. \n",
    "                            Since this is a start-up, no further information is available!\",\n",
    "        FactVector = new float[1536], \n",
    "    },\n",
    "};\n",
    "\n",
    "Console.WriteLine(\"Facts defined...\");"
   ]
  },
  {
   "cell_type": "markdown",
   "metadata": {},
   "source": [
    "## Step 4 - Upload facts to Azure Cognitive Search\n",
    "\n",
    "The code cell calculates embeddings for the facts and uploads them to Azure Cognitive Search."
   ]
  },
  {
   "cell_type": "code",
   "execution_count": 5,
   "metadata": {
    "dotnet_interactive": {
     "language": "csharp"
    },
    "polyglot_notebook": {
     "kernelName": "csharp"
    }
   },
   "outputs": [
    {
     "name": "stdout",
     "output_type": "stream",
     "text": [
      "Fact Company Music embedded...\n",
      "Fact Company Maritim embedded...\n",
      "Fact Company Agriculture embedded...\n",
      "Facts uploaded...\n"
     ]
    }
   ],
   "source": [
    "foreach(Fact fact in facts) {\n",
    "    EmbeddingsOptions factEmbeddingsOptions = new EmbeddingsOptions(embeddingDeploymentName,new List<string> {fact.FactDescription});\n",
    "    var factEmbedding = await openAIClient.GetEmbeddingsAsync(factEmbeddingsOptions);\n",
    "    float[] embeddingData = factEmbedding.Value.Data[0].Embedding.ToArray();\n",
    "    fact.FactVector = embeddingData;\n",
    "    Console.WriteLine($\"Fact {fact.FactName} embedded...\");\n",
    "}\n",
    "\n",
    "SearchClient searchClient = searchIndexClient.GetSearchClient(indexName);\n",
    "await searchClient.IndexDocumentsAsync(IndexDocumentsBatch.Upload(facts));\n",
    "\n",
    "Console.WriteLine(\"Facts uploaded...\");"
   ]
  },
  {
   "cell_type": "markdown",
   "metadata": {},
   "source": [
    "## Step 5 - Vector search\n",
    "\n",
    "The code cell is using Azure Cognitive Search to search for the most relevant fact based on a user query. \n",
    "The query is converted to an embedding and compared to the embeddings of the facts. The most similar fact is returned.\n",
    "\n",
    "*Query:*: \"Who produces Container Ships?\""
   ]
  },
  {
   "cell_type": "code",
   "execution_count": 6,
   "metadata": {
    "dotnet_interactive": {
     "language": "csharp"
    },
    "polyglot_notebook": {
     "kernelName": "csharp"
    }
   },
   "outputs": [
    {
     "name": "stdout",
     "output_type": "stream",
     "text": [
      "Single Vector Search Results:\n",
      "Search result: 2: Company Maritim\n"
     ]
    }
   ],
   "source": [
    "//Search vectors\n",
    "EmbeddingsOptions embeddingsOptions; \n",
    "embeddingsOptions = new EmbeddingsOptions(embeddingDeploymentName, new List<string> {\"Who produces Container Ships?\"});\n",
    "var embedding = await openAIClient.GetEmbeddingsAsync(embeddingsOptions);\n",
    "float[] vectorizedResult = embedding.Value.Data[0].Embedding.ToArray();\n",
    "\n",
    "\n",
    "SearchResults<Fact> response = await searchClient.SearchAsync<Fact>(\n",
    "    null,\n",
    "    new SearchOptions {\n",
    "        Vectors = { new() { Value = vectorizedResult, KNearestNeighborsCount = 1, Fields = { \"FactVector\" } } },\n",
    "    }\n",
    ");\n",
    "\n",
    "Console.WriteLine($\"Single Vector Search Results:\");\n",
    "await foreach (SearchResult<Fact> result in response.GetResultsAsync())\n",
    "{\n",
    "    Console.WriteLine($\"Search result: {result.Document.FactId}: {result.Document.FactName}\");\n",
    "}"
   ]
  }
 ],
 "metadata": {
  "kernelspec": {
   "display_name": ".NET (C#)",
   "language": "C#",
   "name": ".net-csharp"
  },
  "language_info": {
   "name": "polyglot-notebook"
  },
  "polyglot_notebook": {
   "kernelInfo": {
    "defaultKernelName": "csharp",
    "items": [
     {
      "aliases": [],
      "languageName": "csharp",
      "name": "csharp"
     }
    ]
   }
  }
 },
 "nbformat": 4,
 "nbformat_minor": 2
}
