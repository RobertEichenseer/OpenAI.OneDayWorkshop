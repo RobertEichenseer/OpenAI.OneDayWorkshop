{
 "cells": [
  {
   "cell_type": "markdown",
   "metadata": {},
   "source": [
    "# 06 Assistants API | 01 Assistant Run Thread\n",
    "\n",
    "## Azure Environment\n",
    "\n",
    "To execute the sample code Azure service specific information like endpoint, api key etc. is needed ([Details and instructions can be found here](../01_CreateEnvironment/01_Environment.ipynb)\n",
    "\n",
    "## Step 1: Create Assistants Client\n",
    "\n",
    "The AssistantsClient from the NuGet package Azure.AI.OpenAI.Assistants serves as an interface for developers to interact with OpenAI's Assistants API, facilitating the integration of AI-powered conversational agents into applications. Through this client, developers can send queries to AI assistants, receive responses, and manage conversation sessions, enabling seamless deployment of virtual assistants for various tasks such as customer support, information retrieval, and task automation.\n",
    "\n",
    "The AssistantsClient from Azure.AI.OpenAI.Assistants is a .NET client library that acts as the centralized point for all .NET functionality that want to interact with a deployed Azure OpenAI Large Language Model using the Assistants API. It provides all methods to access the OpenAI Assistants REST API for various tasks such as Assistant creation, Thread creation, Run creation etc.. \n",
    "\n",
    "The OpenAIClient can connect to LLMs supporting the Assistants API. "
   ]
  },
  {
   "cell_type": "code",
   "execution_count": 1,
   "metadata": {
    "dotnet_interactive": {
     "language": "csharp"
    },
    "polyglot_notebook": {
     "kernelName": "csharp"
    }
   },
   "outputs": [
    {
     "data": {
      "text/html": [
       "<div><div></div><div></div><div><strong>Installed Packages</strong><ul><li><span>Azure.AI.OpenAI.Assistants, 1.0.0-beta.3</span></li><li><span>DotNetEnv, 2.5.0</span></li></ul></div></div>"
      ]
     },
     "metadata": {},
     "output_type": "display_data"
    },
    {
     "name": "stdout",
     "output_type": "stream",
     "text": [
      "AssistantClient created...\r\n"
     ]
    }
   ],
   "source": [
    "#r \"nuget: Azure.AI.OpenAI.Assistants, 1.0.0-beta.3\"\n",
    "#r \"nuget: DotNetEnv, 2.5.0\"\n",
    "\n",
    "using Azure;\n",
    "using Azure.AI.OpenAI.Assistants;\n",
    "using DotNetEnv;\n",
    "\n",
    "//configuration file is created during environment creation\n",
    "static string _configurationFile = @\"../Configuration/application.env\";\n",
    "Env.Load(_configurationFile);\n",
    "\n",
    "string oAiApiKey = Environment.GetEnvironmentVariable(\"WS_AOAI1106_APIKEY\") ?? \"WS_AOAI1106_APIKEY not found\";\n",
    "string oAiEndpoint = Environment.GetEnvironmentVariable(\"WS_AOAI1106_ENDPOINT\") ?? \"WS_AOAI1106_ENDPOINT not found\";\n",
    "string chatCompletionDeploymentName = Environment.GetEnvironmentVariable(\"WS_AOAI1106_DEPLOYMENTNAME\") ?? \"WS_AOAI1106_DEPLOYMENTNAME not found\";\n",
    "\n",
    "AzureKeyCredential azureKeyCredential = new AzureKeyCredential(oAiApiKey);\n",
    "AssistantsClient assistantsClient = new AssistantsClient(new Uri(oAiEndpoint), azureKeyCredential);\n",
    "\n",
    "Console.WriteLine($\"AssistantClient created...\");\n"
   ]
  },
  {
   "cell_type": "markdown",
   "metadata": {},
   "source": [
    "## Step 2: Create Assistant\n",
    "\n",
    "The following cell, demonstrate the creation of a basic Assistant. To create the Assistant the following information is provided: \n",
    "\n",
    "- Assistant name: A user friendly name for the to be created Assistant\n",
    "- Assistant instructions: The system message or system prompt which defines the Assistant.\n",
    "- Assistant description: A user friendly description of the to be created Assistant\n",
    "\n",
    "The `CreateAssistantAsync()` function call returns a unique id of the created Assistant which is used for all further interaction with the Assistant."
   ]
  },
  {
   "cell_type": "code",
   "execution_count": 2,
   "metadata": {
    "dotnet_interactive": {
     "language": "csharp"
    },
    "polyglot_notebook": {
     "kernelName": "csharp"
    }
   },
   "outputs": [
    {
     "name": "stdout",
     "output_type": "stream",
     "text": [
      "Assistant created: asst_1gfYShroLW2yf3Mn8cwpELgx\r\n"
     ]
    }
   ],
   "source": [
    "string assistantName = \"SimpleAssistant\";\n",
    "string assistantInstruction = @\"\n",
    "    You help people find information and answer questions.\n",
    "\";\n",
    "string assistantDescription = \"Assistant to help answer questions based on LLM training data\";\n",
    "\n",
    "AssistantCreationOptions assistantCreationOptions; \n",
    "assistantCreationOptions = new AssistantCreationOptions(chatCompletionDeploymentName){\n",
    "    Name = assistantName,\n",
    "    Description = assistantDescription,\n",
    "    Instructions = assistantInstruction,\n",
    "}; \n",
    "\n",
    "Response<Assistant> responseAssistant = await assistantsClient.CreateAssistantAsync(assistantCreationOptions);\n",
    "\n",
    "Console.WriteLine($\"Assistant created: {responseAssistant.Value.Id}\");\n"
   ]
  },
  {
   "cell_type": "markdown",
   "metadata": {},
   "source": [
    "## Step 3: Create Thread\n",
    "\n",
    "A Thread is used as container for user messages as well as LLM creates assistant messages. It stores the whole chat history within the server side LLM. The function call `CreateThreadAsync()` returns a unique Thread id which is used for all further interactions with the Thread."
   ]
  },
  {
   "cell_type": "code",
   "execution_count": 3,
   "metadata": {
    "dotnet_interactive": {
     "language": "csharp"
    },
    "polyglot_notebook": {
     "kernelName": "csharp"
    }
   },
   "outputs": [
    {
     "name": "stdout",
     "output_type": "stream",
     "text": [
      "Thread created: thread_cjwZnccrd7Fy2KfatxnrFI36\r\n"
     ]
    }
   ],
   "source": [
    "Response<AssistantThread> responseThread = await assistantsClient.CreateThreadAsync();\n",
    "\n",
    "Console.WriteLine($\"Thread created: {responseThread.Value.Id}\");"
   ]
  },
  {
   "cell_type": "markdown",
   "metadata": {},
   "source": [
    "## Step 4: Add Message to Thread\n",
    "\n",
    "LLM chat history is stored within a Thread. This means to provide a \"question\" to the LLM it needs to be stored within the created Thread. This is done calling the function `CreateMessageAsync()` where the user message, the Thread id as well as `MessageRole.User`is provided."
   ]
  },
  {
   "cell_type": "code",
   "execution_count": 4,
   "metadata": {
    "dotnet_interactive": {
     "language": "csharp"
    },
    "polyglot_notebook": {
     "kernelName": "csharp"
    }
   },
   "outputs": [
    {
     "name": "stdout",
     "output_type": "stream",
     "text": [
      "Message created: msg_CoFCK1W6Nx5UEVF7xFcFgUbw\r\n"
     ]
    }
   ],
   "source": [
    "string messageContent = \"What are the 3 biggest cloud provider based on regional presence?\";\n",
    "        \n",
    "Response<ThreadMessage> responseThreadMessage = await assistantsClient.CreateMessageAsync(\n",
    "    responseThread.Value.Id, \n",
    "    MessageRole.User, \n",
    "    messageContent\n",
    ");\n",
    "\n",
    "Console.WriteLine($\"Message created: {responseThreadMessage.Value.Id}\");"
   ]
  },
  {
   "cell_type": "markdown",
   "metadata": {},
   "source": [
    "## Step 5: Create Run\n",
    "\n",
    "After an Assistant and a Thread with user messages has been created both abstractions can be brought together in a so called RunThread to perform with the help of an LLM instance the completion. Which can be somehow described as \"answering the user question\". The Azure OpenAI instance to be used has been provided while creating the `AssistantsClient` object while the specific LLM deployment has been provided while creating the Assistants object. \n",
    "\n",
    "The function call `CreateRunAsync()` can be used to create the asynchronous Run. It provides a unique Run id which can be used to retrieve the state of the asynchronous execution. "
   ]
  },
  {
   "cell_type": "code",
   "execution_count": 5,
   "metadata": {
    "dotnet_interactive": {
     "language": "csharp"
    },
    "polyglot_notebook": {
     "kernelName": "csharp"
    }
   },
   "outputs": [
    {
     "name": "stdout",
     "output_type": "stream",
     "text": [
      "Run created: run_sZHZzKsCNY2KF6AY8U8Og7OE\r\n"
     ]
    }
   ],
   "source": [
    "CreateRunOptions createRunOptions = new CreateRunOptions(responseAssistant.Value.Id); \n",
    "\n",
    "Response<ThreadRun> responseThreadRun = await assistantsClient.CreateRunAsync(\n",
    "    responseThread.Value.Id, \n",
    "    createRunOptions\n",
    "); \n",
    "\n",
    "Console.WriteLine($\"Run created: {responseThreadRun.Value.Id}\");"
   ]
  },
  {
   "cell_type": "markdown",
   "metadata": {},
   "source": [
    "## Step 6: Check Status & Retrieve Message\n",
    "\n",
    "The sample cell waits for 5 seconds to allow some time for completion. It uses: \n",
    "\n",
    "- `GetRunAsync()`: to retrieve the current state of the Run\n",
    "- `GetMessagesAsync()`: to retrieve **all** messages from the Thread\n",
    "\n",
    "and shows the latest message from Thread which is the LLM completion\n"
   ]
  },
  {
   "cell_type": "code",
   "execution_count": 6,
   "metadata": {
    "dotnet_interactive": {
     "language": "csharp"
    },
    "polyglot_notebook": {
     "kernelName": "csharp"
    }
   },
   "outputs": [
    {
     "name": "stdout",
     "output_type": "stream",
     "text": [
      "Run status: completed\n",
      "Message created by/at: assistant - 4/23/2024 9:57:48 AM +00:00\n",
      "\t Content: The three biggest cloud providers based on regional presence are:\n",
      "\n",
      "1. Amazon Web Services (AWS): AWS has a strong global presence with data centers and availability zones in various regions around the world, making it one of the leading cloud providers.\n",
      "\n",
      "2. Microsoft Azure: Azure also has a significant global presence with data centers in multiple regions, providing services to customers in different geographical locations.\n",
      "\n",
      "3. Google Cloud Platform (GCP): Google Cloud has been expanding its presence with data centers in various regions to offer its services to customers across the globe.\n",
      "\n",
      "These providers have a strong foothold in multiple regions, offering a wide range of cloud services and solutions to organizations worldwide.\n"
     ]
    }
   ],
   "source": [
    "//Give some time to finalize Run\n",
    "System.Threading.Thread.Sleep(TimeSpan.FromSeconds(5));\n",
    "\n",
    "//Get Run status\n",
    "responseThreadRun = await assistantsClient.GetRunAsync(\n",
    "    responseThread.Value.Id,\n",
    "    responseThreadRun.Value.Id\n",
    "); \n",
    "\n",
    "Console.WriteLine($\"Run status: {responseThreadRun.Value.Status}\");\n",
    "\n",
    "//Wait for Run completion\n",
    "while(responseThreadRun.Value.Status != RunStatus.Completed) {\n",
    "    Console.WriteLine($\"Waiting for run completion...\");\n",
    "    System.Threading.Thread.Sleep(TimeSpan.FromSeconds(5));\n",
    "    responseThreadRun = await assistantsClient.GetRunAsync(\n",
    "        responseThread.Value.Id,\n",
    "        responseThreadRun.Value.Id\n",
    "    ); \n",
    "}\n",
    "\n",
    "//Get Run results\n",
    "Response<PageableList<ThreadMessage>> responseThreadMessages = await assistantsClient.GetMessagesAsync(\n",
    "    responseThread.Value.Id\n",
    ");\n",
    "\n",
    "//Get last assistant created message\n",
    "ThreadMessage threadMessage = responseThreadMessages.Value.First<ThreadMessage>();\n",
    "\n",
    "Console.WriteLine($\"Message created by/at: {threadMessage.Role} - {threadMessage.CreatedAt}\");\n",
    "foreach(MessageContent messageContent in threadMessage.ContentItems)\n",
    "{\n",
    "    if (messageContent is MessageTextContent textItem)\n",
    "        Console.WriteLine($\"\\t Content: {textItem.Text}\");\n",
    "}\n"
   ]
  },
  {
   "cell_type": "markdown",
   "metadata": {},
   "source": [
    "## Step 7: Clean up resources\n",
    "\n",
    "Assistant as well as Thread will be deleted. "
   ]
  },
  {
   "cell_type": "code",
   "execution_count": 7,
   "metadata": {
    "dotnet_interactive": {
     "language": "csharp"
    },
    "polyglot_notebook": {
     "kernelName": "csharp"
    }
   },
   "outputs": [
    {
     "name": "stdout",
     "output_type": "stream",
     "text": [
      "Assistant and Thread deleted...\r\n"
     ]
    }
   ],
   "source": [
    "await assistantsClient.DeleteAssistantAsync(responseAssistant.Value.Id);\n",
    "await assistantsClient.DeleteThreadAsync(responseThread.Value.Id);\n",
    "\n",
    "Console.WriteLine($\"Assistant and Thread deleted...\");\n",
    "\n",
    "        "
   ]
  }
 ],
 "metadata": {
  "kernelspec": {
   "display_name": ".NET (C#)",
   "language": "C#",
   "name": ".net-csharp"
  },
  "language_info": {
   "name": "polyglot-notebook"
  },
  "polyglot_notebook": {
   "kernelInfo": {
    "defaultKernelName": "csharp",
    "items": [
     {
      "aliases": [],
      "languageName": "csharp",
      "name": "csharp"
     }
    ]
   }
  }
 },
 "nbformat": 4,
 "nbformat_minor": 2
}
