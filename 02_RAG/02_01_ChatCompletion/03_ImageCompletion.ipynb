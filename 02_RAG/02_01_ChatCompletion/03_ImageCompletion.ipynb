{
 "cells": [
  {
   "cell_type": "markdown",
   "metadata": {},
   "source": [
    "# 02 RAG | 01 Chat Completion | 03 Chat Completion Image\n",
    "\n",
    "## Azure Environment\n",
    "\n",
    "To execute the sample code Azure service specific information like endpoint, api key etc. is needed ([Details and instructions can be found here](../01_CreateEnvironment/01_Environment.ipynb))\n",
    "\n",
    "## Step 1: Create OpenAIClient\n",
    "\n",
    "The Azure OpenAI client from the Azure.AI.OpenAI NuGet package offers a unified interface to interact with various specialized clients, each designed to handle specific tasks. \n",
    "\n",
    "These include clients for chat completion, embeddings, and the agent framework, among others, enabling developers to easily integrate and utilize OpenAI's capabilities for generating text, understanding context, and building intelligent applications within the Azure ecosystem."
   ]
  },
  {
   "cell_type": "code",
   "execution_count": null,
   "metadata": {
    "dotnet_interactive": {
     "language": "csharp"
    },
    "polyglot_notebook": {
     "kernelName": "csharp"
    }
   },
   "outputs": [],
   "source": [
    "#r \"nuget: Azure.AI.OpenAI, 2.0.0-beta.2\"\n",
    "#r \"nuget: DotNetEnv, 2.5.0\"\n",
    "\n",
    "using Azure; \n",
    "using Azure.AI.OpenAI;\n",
    "using OpenAI.Chat;\n",
    "using DotNetEnv;\n",
    "\n",
    "//configuration file is created during environment creation\n",
    "static string configurationFile = @\"../../Configuration/application.env\";\n",
    "Env.Load(configurationFile);\n",
    "\n",
    "string oAiApiKey = Environment.GetEnvironmentVariable(\"WS_AOAI_APIKEY\") ?? \"WS_AOAI_APIKEY not found\";\n",
    "string oAiEndpoint = Environment.GetEnvironmentVariable(\"WS_AOAI_ENDPOINT\") ?? \"WS_AOAI_ENDPOINT not found\";\n",
    "string chatCompletionDeploymentName = Environment.GetEnvironmentVariable(\"WS_CHATCOMPLETION_DEPLOYMENTNAME\") ?? \"WS_CHATCOMPLETION_DEPLOYMENTNAME not found\";\n",
    "\n",
    "AzureKeyCredential azureKeyCredential = new AzureKeyCredential(oAiApiKey);\n",
    "AzureOpenAIClient azureOpenAIClient = new AzureOpenAIClient(new Uri(oAiEndpoint), azureKeyCredential);\n",
    "ChatClient chatClient = azureOpenAIClient.GetChatClient(chatCompletionDeploymentName);\n",
    "\n",
    "Console.WriteLine($\"AzureOpenAI Client created...\");\n",
    "Console.WriteLine($\"ChatClient created...\");"
   ]
  },
  {
   "cell_type": "markdown",
   "metadata": {},
   "source": [
    "**Expected output:**\n",
    "\n",
    "Installed Packages\n",
    "\n",
    "  - Azure.AI.OpenAI, 2.0.0-beta.2\n",
    "  - DotNetEnv, 2.5.0\n",
    "\n",
    "AzureOpenAI client created ...\n",
    "\n",
    "ChatClient created ..."
   ]
  },
  {
   "cell_type": "markdown",
   "metadata": {},
   "source": [
    "## Step 1: Create Chat Messages\n",
    "\n",
    "The following cell, demonstrate a basic interaction using the `chatClient` object. In this case, the system message is used to provide instructions or settings for the assistant. It instructs the model to *'Describe the style of images!'*.\n",
    "\n",
    "The methods `CreateImageMessageContentPart()` and `CreateTextMessageContentPart` of the static object `ChatMessageContentPart` are used to create a n new UserChatMessage instance which can be added to the chat messages collection provided within the model call."
   ]
  },
  {
   "cell_type": "code",
   "execution_count": null,
   "metadata": {
    "dotnet_interactive": {
     "language": "csharp"
    },
    "polyglot_notebook": {
     "kernelName": "csharp"
    }
   },
   "outputs": [],
   "source": [
    "using System.IO;\n",
    "\n",
    "string systemMessage = \"You describe the style of images!\";\n",
    "string userMessage = \"In which style is the provided image? Is it Cartoon or Photorealistic?\";\n",
    "string imageFileName = \"../../Assets/Image/SuperBowl_Photorealistic.png\"; \n",
    "\n",
    "ChatMessageContentPart imageMessageContentPart = null;\n",
    "List<ChatMessage> chatMessages = new List<ChatMessage>();\n",
    "chatMessages.Add(new SystemChatMessage(systemMessage));\n",
    "\n",
    "FileStream fileStream = File.OpenRead(imageFileName); \n",
    "BinaryData binaryData = BinaryData.FromStream(fileStream);\n",
    "\n",
    "chatMessages.Add(\n",
    "    new UserChatMessage(\n",
    "        ChatMessageContentPart.CreateImageMessageContentPart(\n",
    "            binaryData,\n",
    "            \"image/png\",\n",
    "            ImageChatMessageContentPartDetail.High\n",
    "        ), \n",
    "        ChatMessageContentPart.CreateTextMessageContentPart(userMessage)\n",
    "    )\n",
    ");\n",
    "\n",
    "Console.WriteLine($\"ChatMessages created...\");"
   ]
  },
  {
   "cell_type": "markdown",
   "metadata": {},
   "source": [
    "**Expected outcome:**\n",
    "\n",
    "ChatMessages created..."
   ]
  },
  {
   "cell_type": "markdown",
   "metadata": {},
   "source": [
    "## Step 2: Call Model\n",
    "\n",
    "The `ChatCompletionsOptions` object allows a more fine granular control how the model should process the provided chat message collection.\n",
    "\n",
    "Just like with [text chat completion](../02_01_ChatCompletion/02_ChatCompletion_SDK.ipynb) the method `CompleteChatAsync()` of the `ChatClient` can be used to process the provided image."
   ]
  },
  {
   "cell_type": "code",
   "execution_count": null,
   "metadata": {
    "dotnet_interactive": {
     "language": "csharp"
    },
    "polyglot_notebook": {
     "kernelName": "csharp"
    }
   },
   "outputs": [],
   "source": [
    "ChatCompletionOptions chatCompletionOptions = new ChatCompletionOptions(){\n",
    "    MaxTokens = 500,\n",
    "    Temperature = 0.0f,\n",
    "    TopP = 1.0f,\n",
    "    FrequencyPenalty = 0.7f,\n",
    "    PresencePenalty = 0.7f,\n",
    "};\n",
    "chatCompletionOptions.StopSequences.Add(\"\\n\");\n",
    "\n",
    "ChatCompletion chatCompletion = await chatClient.CompleteChatAsync(\n",
    "    messages: chatMessages, \n",
    "    options: chatCompletionOptions\n",
    ");\n",
    "\n",
    "foreach (ChatMessageContentPart chatMessageContentPart in chatCompletion.Content){\n",
    "    Console.WriteLine($\"Model response: \\n {chatMessageContentPart}\"); \n",
    "}"
   ]
  },
  {
   "cell_type": "markdown",
   "metadata": {},
   "source": [
    "**Expected outcome:**\n",
    "\n",
    "Model response: \n",
    "\n",
    "  The provided image is in a photorealistic style."
   ]
  }
 ],
 "metadata": {
  "kernelspec": {
   "display_name": ".NET (C#)",
   "language": "C#",
   "name": ".net-csharp"
  },
  "language_info": {
   "name": "polyglot-notebook"
  },
  "polyglot_notebook": {
   "kernelInfo": {
    "defaultKernelName": "csharp",
    "items": [
     {
      "aliases": [],
      "languageName": "csharp",
      "name": "csharp"
     }
    ]
   }
  }
 },
 "nbformat": 4,
 "nbformat_minor": 2
}
