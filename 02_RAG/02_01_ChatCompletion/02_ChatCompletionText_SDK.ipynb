{
 "cells": [
  {
   "cell_type": "markdown",
   "metadata": {},
   "source": [
    "# 02 RAG | 01 Chat Completion Text | 02 SDK\n",
    "\n",
    "## Azure Environment\n",
    "\n",
    "To execute the sample code Azure service specific information like endpoint, api key etc. is needed ([Details and instructions can be found here](../01_CreateEnvironment/01_Environment.ipynb))\n",
    "\n",
    "## Step 1: Create OpenAIClient / ChatClient\n",
    "\n",
    "The `AzureOpenAIClient` from the Azure.AI.OpenAI NuGet package offers a unified interface to create various specialized clients, each designed to handle specific tasks.\n",
    "In this notebook the `ChatClient` is used.\n",
    "\n"
   ]
  },
  {
   "cell_type": "code",
   "execution_count": 1,
   "metadata": {
    "dotnet_interactive": {
     "language": "csharp"
    },
    "polyglot_notebook": {
     "kernelName": "csharp"
    }
   },
   "outputs": [
    {
     "data": {
      "text/html": [
       "<div><div></div><div></div><div><strong>Installed Packages</strong><ul><li><span>Azure.AI.OpenAI, 2.0.0-beta.2</span></li><li><span>DotNetEnv, 2.5.0</span></li></ul></div></div>"
      ]
     },
     "metadata": {},
     "output_type": "display_data"
    },
    {
     "name": "stdout",
     "output_type": "stream",
     "text": [
      "AzureOpenAI Client created...\n",
      "ChatClient created...\n"
     ]
    }
   ],
   "source": [
    "#r \"nuget: Azure.AI.OpenAI, 2.0.0-beta.2\"\n",
    "#r \"nuget: DotNetEnv, 2.5.0\"\n",
    "\n",
    "using Azure; \n",
    "using Azure.AI.OpenAI;\n",
    "using OpenAI.Chat;\n",
    "using DotNetEnv;\n",
    "using System.IO;\n",
    "using System.Text.Json; \n",
    "using System.ClientModel;\n",
    "\n",
    "//configuration file is created during environment creation\n",
    "static string configurationFile = @\"../../Configuration/application.env\";\n",
    "Env.Load(configurationFile);\n",
    "\n",
    "string oAiApiKey = Environment.GetEnvironmentVariable(\"WS_AOAI_APIKEY\") ?? \"WS_AOAI_APIKEY not found\";\n",
    "string oAiEndpoint = Environment.GetEnvironmentVariable(\"WS_AOAI_ENDPOINT\") ?? \"WS_AOAI_ENDPOINT not found\";\n",
    "string chatCompletionDeploymentName = Environment.GetEnvironmentVariable(\"WS_CHATCOMPLETION_DEPLOYMENTNAME\") ?? \"WS_CHATCOMPLETION_DEPLOYMENTNAME not found\";\n",
    "\n",
    "ApiKeyCredential apiKeyCredential = new ApiKeyCredential(oAiApiKey);\n",
    "AzureOpenAIClient azureOpenAIClient = new AzureOpenAIClient(new Uri(oAiEndpoint), apiKeyCredential);\n",
    "ChatClient chatClient = azureOpenAIClient.GetChatClient(chatCompletionDeploymentName);\n",
    "\n",
    "Console.WriteLine($\"AzureOpenAI Client created...\");\n",
    "Console.WriteLine($\"ChatClient created...\");"
   ]
  },
  {
   "cell_type": "markdown",
   "metadata": {},
   "source": [
    "## Step 1: Basic Interaction\n",
    "\n",
    "The following cell, demonstrate a basic interaction using the `chatClient` object. In this case, the system message is used to provide instructions or settings for the assistant, such as its personality or behavior.\n",
    "\n",
    "The `ChatCompletionsOptions` object gives more fine granular control how the model should process the provided prompt.\n",
    "\n",
    "System prompt: `\"You are an AI assistance who helps finding information around international sport events\"`\n",
    "\n",
    "Prompt: `\"Who won the super bowl 2024?\"`\n",
    "\n",
    "Because the GPT-4o model is trained with data up to October 2023 the model will answer with some information that the Super Bowl 2024 hasn't yet taken place."
   ]
  },
  {
   "cell_type": "code",
   "execution_count": 2,
   "metadata": {
    "dotnet_interactive": {
     "language": "csharp"
    },
    "polyglot_notebook": {
     "kernelName": "csharp"
    }
   },
   "outputs": [
    {
     "name": "stdout",
     "output_type": "stream",
     "text": [
      "Model response: \n",
      " As of my last update in October 2023, the Super Bowl LVIII (58) is scheduled to take place on February 11, 2024. The winner has not been determined yet. For the most current information, please check recent sports news or official NFL sources.\r\n"
     ]
    }
   ],
   "source": [
    "string systemMessage = \"You are an AI assistance who helps finding information around international sport events\";\n",
    "string userMessage = \"Who won the super bowl 2024?\";\n",
    "\n",
    "ChatCompletionOptions chatComletionOptions = new ChatCompletionOptions(){\n",
    "    MaxTokens = 500,\n",
    "    Temperature = 0.0f,\n",
    "    TopP = 1.0f,\n",
    "    FrequencyPenalty = 0.7f,\n",
    "    PresencePenalty = 0.7f,\n",
    "};\n",
    "chatComletionOptions.StopSequences.Add(\"\\n\");\n",
    "\n",
    "ChatCompletion chatCompletion = await chatClient.CompleteChatAsync(\n",
    "    messages: [\n",
    "        new SystemChatMessage(systemMessage),\n",
    "        new UserChatMessage(userMessage)\n",
    "    ], \n",
    "    options: chatComletionOptions\n",
    ");\n",
    "\n",
    "Console.WriteLine($\"Model response: \\n {chatCompletion.Content[0]}\"); \n"
   ]
  },
  {
   "cell_type": "markdown",
   "metadata": {},
   "source": [
    "## Step 2: Complex interaction - Chat History\n",
    "\n",
    "### Prepare chat history\n",
    "\n",
    "System Prompt: \n",
    "```html\n",
    "    You extract intention from provided text. The two intentions you identify are: product information and order status. \n",
    "    You answer with a valid JSON string. \n",
    "    The JSON string must have the format {\"\"Intention\"\": \"\"ProductInformation\"\"} or {\"\"Intention\"\": \"\"OrderInfo\"\"}. \n",
    "    You don't provide additional information. \n",
    "    If you can't identify intention answer with {\"\"Intention\"\": \"\"Unknown\"\"}\n",
    "```\n",
    "\n",
    "Chat History: \n",
    "\n",
    "```html\n",
    "    - I've purchased three weeks ago new training shoes. When will they will be delivered?\n",
    "    - Still waiting for the delivery. Any idea when it will arrive? I'm Robert and I'm calling on behalf of company Contoso.\n",
    "    - Do you have training shoes? If yes, I'm interested in running equipment specifically running shoes.\n",
    "    - What is the average price for running shoes?\n",
    "```\n",
    "\n"
   ]
  },
  {
   "cell_type": "code",
   "execution_count": 3,
   "metadata": {
    "dotnet_interactive": {
     "language": "csharp"
    },
    "polyglot_notebook": {
     "kernelName": "csharp"
    }
   },
   "outputs": [
    {
     "name": "stdout",
     "output_type": "stream",
     "text": [
      "Chat messages created ...\r\n"
     ]
    }
   ],
   "source": [
    "// Define System Prompt\n",
    "string systemMessage = @\" \n",
    "    You extract intention from provided text. The two intentions you identify are: product information and order status. \n",
    "    You answer with a valid JSON string. \n",
    "    The JSON string must have the format {\"\"Intention\"\": \"\"ProductInformation\"\"} or {\"\"Intention\"\": \"\"OrderInfo\"\"}. \n",
    "    You don't provide additional information. \n",
    "    If you can't identify intention answer with {\"\"Intention\"\": \"\"Unknown\"\"}\n",
    "\";\n",
    "\n",
    "List<ChatMessage> chatMessages = new List<ChatMessage>();\n",
    "chatMessages.Add(new SystemChatMessage(systemMessage));\n",
    "chatMessages.Add(new UserChatMessage(\"I've purchased three weeks ago new training shoes. When will they will be delivered?\"));\n",
    "chatMessages.Add(new UserChatMessage(\"Still waiting for the delivery. Any idea when it will arrive? I'm Robert and I'm calling on behalf of company Contoso.\"));\n",
    "chatMessages.Add(new UserChatMessage(\"Do you have training shoes? If yes, I'm interested in running equipment specifically running shoes.\"));\n",
    "chatMessages.Add(new UserChatMessage(\"What is the average price for running shoes?\"));\n",
    "\n",
    "Console.WriteLine($\"Chat messages created ...\");\n"
   ]
  },
  {
   "cell_type": "markdown",
   "metadata": {},
   "source": [
    "### Model call\n",
    "\n",
    "The complex chat history is provided to the model for completion"
   ]
  },
  {
   "cell_type": "code",
   "execution_count": 4,
   "metadata": {
    "dotnet_interactive": {
     "language": "csharp"
    },
    "polyglot_notebook": {
     "kernelName": "csharp"
    }
   },
   "outputs": [
    {
     "name": "stdout",
     "output_type": "stream",
     "text": [
      "Model response: \n",
      " {\"Intention\": \"ProductInformation\"}\r\n"
     ]
    }
   ],
   "source": [
    "ChatCompletionOptions chatCompletionOptions = new ChatCompletionOptions(){\n",
    "    MaxTokens = 500,\n",
    "    Temperature = 0.0f,\n",
    "    TopP = 1.0f,\n",
    "    FrequencyPenalty = 0.7f,\n",
    "    PresencePenalty = 0.7f,\n",
    "};\n",
    "chatCompletionOptions.StopSequences.Add(\"\\n\");\n",
    "\n",
    "ChatCompletion chatCompletion = await chatClient.CompleteChatAsync(\n",
    "    messages: chatMessages, \n",
    "    options: chatComletionOptions\n",
    ");\n",
    "\n",
    "foreach (ChatMessageContentPart chatMessageContentPart in chatCompletion.Content){\n",
    "    Console.WriteLine($\"Model response: \\n {chatMessageContentPart}\"); \n",
    "}"
   ]
  },
  {
   "cell_type": "markdown",
   "metadata": {},
   "source": [
    "## Step 3: Check additional response values\n",
    "\n",
    "### Token Usage\n",
    "\n",
    "Provide tokens consumed by the `GetChatCompletionsAsync()` call."
   ]
  },
  {
   "cell_type": "code",
   "execution_count": 5,
   "metadata": {
    "dotnet_interactive": {
     "language": "csharp"
    },
    "polyglot_notebook": {
     "kernelName": "csharp"
    }
   },
   "outputs": [
    {
     "name": "stdout",
     "output_type": "stream",
     "text": [
      "Input Tokens: 174\n",
      "Output Tokens: 8\n",
      "Total Tokens:  182\n"
     ]
    }
   ],
   "source": [
    "Console.WriteLine($\"Input Tokens: {chatCompletion.Usage.InputTokens}\");\n",
    "Console.WriteLine($\"Output Tokens: {chatCompletion.Usage.OutputTokens}\");\n",
    "Console.WriteLine($\"Total Tokens:  {chatCompletion.Usage.TotalTokens}\");"
   ]
  },
  {
   "cell_type": "markdown",
   "metadata": {},
   "source": [
    "### Filter \n",
    "\n",
    "If the LLM detects:\n",
    "- hate\n",
    "- indirect attach\n",
    "- jailbreak\n",
    "- profanity\n",
    "- self harm\n",
    "- secual\n",
    "- violence\n",
    "  \n",
    "content within the provided prompt this is indicated in the response.\n",
    "\n",
    "If the LLM detects:\n",
    "- hate\n",
    "- profanity\n",
    "- protected code\n",
    "- protected text\n",
    "- self harm\n",
    "- sexual\n",
    "   \n",
    "content within the provided results this is indicated as well.\n",
    "\n",
    "**Attention:** Ín the current SDK this is Alpha functionality - Expect changes in the final version\n"
   ]
  },
  {
   "cell_type": "code",
   "execution_count": 6,
   "metadata": {
    "dotnet_interactive": {
     "language": "csharp"
    },
    "polyglot_notebook": {
     "kernelName": "csharp"
    }
   },
   "outputs": [
    {
     "name": "stdout",
     "output_type": "stream",
     "text": [
      "Prompt; Hate: filtered/severity: False - safe\n",
      "Prompt; IndirectAttack:  - \n",
      "Prompt; Jailbreak:  - \n",
      "Prompt; Profanity:  - \n",
      "Prompt; SelfHarm: False - safe\n",
      "Prompt; Sexual: False - safe\n",
      "Prompt; Violence: False - safe\n",
      "Response; Hate: filtered/severity: False - safe\n",
      "Response; Profanity:  - \n",
      "Response; ProtectedMaterialCode:  - \n",
      "Response; ProtectedMaterialText:  - \n",
      "Response; SelfHarm: False - safe\n",
      "Response; Sexual: False - safe\n"
     ]
    }
   ],
   "source": [
    "//Alpha Feature - Suppress diagnostics message\n",
    "#pragma warning disable AOAI001\n",
    "ContentFilterResultForPrompt contentFilterResultForPrompt = AzureChatCompletionExtensions.GetContentFilterResultForPrompt(chatCompletion);\n",
    "\n",
    "Console.WriteLine($\"Prompt; Hate: filtered/severity: {contentFilterResultForPrompt?.Hate?.Filtered} - {contentFilterResultForPrompt?.Hate?.Severity}\");\n",
    "Console.WriteLine($\"Prompt; IndirectAttack: {contentFilterResultForPrompt?.IndirectAttack?.Detected} - {contentFilterResultForPrompt?.IndirectAttack?.Filtered}\");\n",
    "Console.WriteLine($\"Prompt; Jailbreak: {contentFilterResultForPrompt?.Jailbreak?.Detected} - {contentFilterResultForPrompt?.Jailbreak?.Filtered}\");\n",
    "Console.WriteLine($\"Prompt; Profanity: {contentFilterResultForPrompt?.Profanity?.Detected} - {contentFilterResultForPrompt?.Profanity?.Filtered}\");\n",
    "Console.WriteLine($\"Prompt; SelfHarm: {contentFilterResultForPrompt?.SelfHarm?.Filtered} - {contentFilterResultForPrompt?.SelfHarm?.Severity}\");\n",
    "Console.WriteLine($\"Prompt; Sexual: {contentFilterResultForPrompt?.Sexual?.Filtered} - {contentFilterResultForPrompt?.Sexual?.Severity}\");\n",
    "Console.WriteLine($\"Prompt; Violence: {contentFilterResultForPrompt?.Violence?.Filtered} - {contentFilterResultForPrompt?.Violence?.Severity}\");\n",
    "\n",
    "ContentFilterResultForResponse contentFilterResultForResponse = AzureChatCompletionExtensions.GetContentFilterResultForResponse(chatCompletion);\n",
    "Console.WriteLine($\"Response; Hate: filtered/severity: {contentFilterResultForResponse?.Hate?.Filtered} - {contentFilterResultForResponse?.Hate?.Severity}\");\n",
    "Console.WriteLine($\"Response; Profanity: {contentFilterResultForResponse?.Profanity?.Detected} - {contentFilterResultForResponse?.Profanity?.Filtered}\");\n",
    "Console.WriteLine($\"Response; ProtectedMaterialCode: {contentFilterResultForResponse?.ProtectedMaterialCode?.Detected} - {contentFilterResultForResponse?.ProtectedMaterialCode?.Filtered}\");\n",
    "Console.WriteLine($\"Response; ProtectedMaterialText: {contentFilterResultForResponse?.ProtectedMaterialText?.Detected} - {contentFilterResultForResponse?.ProtectedMaterialText?.Filtered}\");\n",
    "Console.WriteLine($\"Response; SelfHarm: {contentFilterResultForResponse?.SelfHarm?.Filtered} - {contentFilterResultForResponse?.SelfHarm?.Severity}\");\n",
    "Console.WriteLine($\"Response; Sexual: {contentFilterResultForResponse?.Sexual?.Filtered} - {contentFilterResultForResponse?.Sexual?.Severity}\");\n",
    "#pragma warning restore AOAI001"
   ]
  }
 ],
 "metadata": {
  "kernelspec": {
   "display_name": ".NET (C#)",
   "language": "C#",
   "name": ".net-csharp"
  },
  "language_info": {
   "name": "polyglot-notebook"
  },
  "polyglot_notebook": {
   "kernelInfo": {
    "defaultKernelName": "csharp",
    "items": [
     {
      "aliases": [],
      "languageName": "csharp",
      "name": "csharp"
     }
    ]
   }
  }
 },
 "nbformat": 4,
 "nbformat_minor": 2
}
