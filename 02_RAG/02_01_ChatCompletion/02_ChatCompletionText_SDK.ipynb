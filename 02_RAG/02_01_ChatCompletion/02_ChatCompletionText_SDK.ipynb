{
 "cells": [
  {
   "cell_type": "markdown",
   "metadata": {},
   "source": [
    "# 02 RAG | 01 Chat Completion Text | 02 SDK\n",
    "\n",
    "## Azure Environment\n",
    "\n",
    "Necessary parameter are imported from [./Configuration/application.env]. Check [Create Environment](../../01_CreateEnvironment/01_Environment.ipynb) to setup the necessary demo environment.\n",
    "\n",
    "## Step 1: Create OpenAIClient / ChatClient\n",
    "\n",
    "The `AzureOpenAIClient` from the Azure.AI.OpenAI NuGet package offers a unified interface to create various specialized clients, each designed to handle specific tasks.\n",
    "In this notebook the `ChatClient` is used.\n",
    "\n"
   ]
  },
  {
   "cell_type": "code",
   "execution_count": 1,
   "metadata": {
    "dotnet_interactive": {
     "language": "csharp"
    },
    "polyglot_notebook": {
     "kernelName": "csharp"
    }
   },
   "outputs": [
    {
     "data": {
      "text/html": [
       "<div><div></div><div></div><div><strong>Installed Packages</strong><ul><li><span>Azure.AI.OpenAI, 2.0.0-beta.2</span></li><li><span>DotNetEnv, 2.5.0</span></li></ul></div></div>"
      ]
     },
     "metadata": {},
     "output_type": "display_data"
    },
    {
     "name": "stdout",
     "output_type": "stream",
     "text": [
      "AzureOpenAI Client created...\n",
      "ChatClient created...\n"
     ]
    }
   ],
   "source": [
    "#r \"nuget: Azure.AI.OpenAI, 2.0.0-beta.2\"\n",
    "#r \"nuget: DotNetEnv, 2.5.0\"\n",
    "\n",
    "using Azure; \n",
    "using Azure.AI.OpenAI;\n",
    "using OpenAI.Chat;\n",
    "using DotNetEnv;\n",
    "using System.IO;\n",
    "using System.Text.Json; \n",
    "using System.ClientModel;\n",
    "\n",
    "//configuration file is created during environment creation\n",
    "static string configurationFile = @\"../../Configuration/application.env\";\n",
    "Env.Load(configurationFile);\n",
    "\n",
    "string oAiApiKey = Environment.GetEnvironmentVariable(\"WS_AOAI_APIKEY\") ?? \"WS_AOAI_APIKEY not found\";\n",
    "string oAiEndpoint = Environment.GetEnvironmentVariable(\"WS_AOAI_ENDPOINT\") ?? \"WS_AOAI_ENDPOINT not found\";\n",
    "string chatCompletionDeploymentName = Environment.GetEnvironmentVariable(\"WS_CHATCOMPLETION_DEPLOYMENTNAME\") ?? \"WS_CHATCOMPLETION_DEPLOYMENTNAME not found\";\n",
    "\n",
    "ApiKeyCredential apiKeyCredential = new ApiKeyCredential(oAiApiKey);\n",
    "AzureOpenAIClient azureOpenAIClient = new AzureOpenAIClient(new Uri(oAiEndpoint), apiKeyCredential);\n",
    "ChatClient chatClient = azureOpenAIClient.GetChatClient(chatCompletionDeploymentName);\n",
    "\n",
    "Console.WriteLine($\"AzureOpenAI Client created...\");\n",
    "Console.WriteLine($\"ChatClient created...\");"
   ]
  },
  {
   "cell_type": "markdown",
   "metadata": {},
   "source": [
    "## Step 1: Basic Interaction\n",
    "\n",
    "The following cell, demonstrate a basic interaction using the `chatClient` object. In this case, the system message is used to provide instructions or settings for the assistant, such as its personality or behavior.\n",
    "\n",
    "The `ChatCompletionsOptions` object gives more fine granular control how the model should process the provided prompt.\n",
    "\n",
    "System prompt: `\"You are an AI assistance who helps finding information around international sport events\"`\n",
    "\n",
    "Prompt: `\"Who won the super bowl 2024?\"`\n",
    "\n",
    "Because the GPT-4o model is trained with data up to October 2023 the model will answer with some information that the Super Bowl 2024 hasn't yet taken place."
   ]
  },
  {
   "cell_type": "code",
   "execution_count": 2,
   "metadata": {
    "dotnet_interactive": {
     "language": "csharp"
    },
    "polyglot_notebook": {
     "kernelName": "csharp"
    }
   },
   "outputs": [
    {
     "name": "stdout",
     "output_type": "stream",
     "text": [
      "Model response: \n",
      " As of my last update in October 2023, the Super Bowl LVIII (58) is scheduled to take place on February 11, 2024. The winner has not been determined yet. For the most current information, please check recent sports news or official NFL sources.\r\n"
     ]
    }
   ],
   "source": [
    "string systemMessage = \"You are an AI assistance who helps finding information around international sport events\";\n",
    "string userMessage = \"Who won the super bowl 2024?\";\n",
    "\n",
    "ChatCompletionOptions chatComletionOptions = new ChatCompletionOptions(){\n",
    "    MaxTokens = 500,\n",
    "    Temperature = 0.0f,\n",
    "    TopP = 1.0f,\n",
    "    FrequencyPenalty = 0.7f,\n",
    "    PresencePenalty = 0.7f,\n",
    "};\n",
    "chatComletionOptions.StopSequences.Add(\"\\n\");\n",
    "\n",
    "ChatCompletion chatCompletion = await chatClient.CompleteChatAsync(\n",
    "    messages: [\n",
    "        new SystemChatMessage(systemMessage),\n",
    "        new UserChatMessage(userMessage)\n",
    "    ], \n",
    "    options: chatComletionOptions\n",
    ");\n",
    "\n",
    "Console.WriteLine($\"Model response: \\n {chatCompletion.Content[0]}\"); \n"
   ]
  },
  {
   "cell_type": "markdown",
   "metadata": {},
   "source": [
    "## Step 2: Complex interaction - Chat History\n",
    "\n",
    "### Prepare chat history\n",
    "\n",
    "Chat history is prepared with additional grounding information, information who won the Super Bowl in 2024 is added.\n",
    "\n",
    "Chat History: \n",
    "\n",
    "```html\n",
    "    - Who won the Super Bowl in 2024?\n",
    "    - The Kansas City Chiefs won the Super Bowl in 2024!\n",
    "    \n",
    "```\n",
    "\n"
   ]
  },
  {
   "cell_type": "code",
   "execution_count": 7,
   "metadata": {
    "dotnet_interactive": {
     "language": "csharp"
    },
    "polyglot_notebook": {
     "kernelName": "csharp"
    }
   },
   "outputs": [
    {
     "name": "stdout",
     "output_type": "stream",
     "text": [
      "Chat messages created ...\r\n"
     ]
    }
   ],
   "source": [
    "string systemMessage = \"You are an AI assistance who helps finding information around international sport events\";\n",
    "string userMessage = \"Who won the super bowl 2024?\";\n",
    "\n",
    "List<ChatMessage> chatMessages = new List<ChatMessage>();\n",
    "chatMessages.Add(new SystemChatMessage(systemMessage));\n",
    "chatMessages.Add(new UserChatMessage(userMessage));\n",
    "chatMessages.Add(new UserChatMessage(\"The Kansas City Chiefs won the Super Bowl 2024!\"));\n",
    "\n",
    "Console.WriteLine($\"Chat messages created ...\");\n"
   ]
  },
  {
   "cell_type": "markdown",
   "metadata": {},
   "source": [
    "### Model call\n",
    "\n",
    "The chat history is provided to the model for completion"
   ]
  },
  {
   "cell_type": "code",
   "execution_count": 8,
   "metadata": {
    "dotnet_interactive": {
     "language": "csharp"
    },
    "polyglot_notebook": {
     "kernelName": "csharp"
    }
   },
   "outputs": [
    {
     "name": "stdout",
     "output_type": "stream",
     "text": [
      "Model response: \n",
      " Thank you for the update! The Kansas City Chiefs winning the Super Bowl 2024 is an exciting piece of news. If you have any more questions or need further information about the game, feel free to ask!\r\n"
     ]
    }
   ],
   "source": [
    "ChatCompletionOptions chatCompletionOptions = new ChatCompletionOptions(){\n",
    "    MaxTokens = 500,\n",
    "    Temperature = 0.0f,\n",
    "    TopP = 1.0f,\n",
    "    FrequencyPenalty = 0.7f,\n",
    "    PresencePenalty = 0.7f,\n",
    "};\n",
    "chatCompletionOptions.StopSequences.Add(\"\\n\");\n",
    "\n",
    "ChatCompletion chatCompletion = await chatClient.CompleteChatAsync(\n",
    "    messages: chatMessages, \n",
    "    options: chatComletionOptions\n",
    ");\n",
    "\n",
    "foreach (ChatMessageContentPart chatMessageContentPart in chatCompletion.Content){\n",
    "    Console.WriteLine($\"Model response: \\n {chatMessageContentPart}\"); \n",
    "}"
   ]
  },
  {
   "cell_type": "markdown",
   "metadata": {},
   "source": [
    "## Step 3: Check additional response values\n",
    "\n",
    "### Token Usage\n",
    "\n",
    "Provide tokens consumed by the `GetChatCompletionsAsync()` call."
   ]
  },
  {
   "cell_type": "code",
   "execution_count": 9,
   "metadata": {
    "dotnet_interactive": {
     "language": "csharp"
    },
    "polyglot_notebook": {
     "kernelName": "csharp"
    }
   },
   "outputs": [
    {
     "name": "stdout",
     "output_type": "stream",
     "text": [
      "Input Tokens: 49\n",
      "Output Tokens: 43\n",
      "Total Tokens:  92\n"
     ]
    }
   ],
   "source": [
    "Console.WriteLine($\"Input Tokens: {chatCompletion.Usage.InputTokens}\");\n",
    "Console.WriteLine($\"Output Tokens: {chatCompletion.Usage.OutputTokens}\");\n",
    "Console.WriteLine($\"Total Tokens:  {chatCompletion.Usage.TotalTokens}\");"
   ]
  },
  {
   "cell_type": "markdown",
   "metadata": {},
   "source": [
    "### Filter \n",
    "\n",
    "If the LLM detects:\n",
    "- hate\n",
    "- indirect attach\n",
    "- jailbreak\n",
    "- profanity\n",
    "- self harm\n",
    "- secual\n",
    "- violence\n",
    "  \n",
    "content within the provided prompt this is indicated in the response.\n",
    "\n",
    "If the LLM detects:\n",
    "- hate\n",
    "- profanity\n",
    "- protected code\n",
    "- protected text\n",
    "- self harm\n",
    "- sexual\n",
    "   \n",
    "content within the provided results this is indicated as well.\n",
    "\n",
    "**Attention:** Ín the current SDK this is Alpha functionality - Expect changes in the final version\n"
   ]
  },
  {
   "cell_type": "code",
   "execution_count": 10,
   "metadata": {
    "dotnet_interactive": {
     "language": "csharp"
    },
    "polyglot_notebook": {
     "kernelName": "csharp"
    }
   },
   "outputs": [
    {
     "name": "stdout",
     "output_type": "stream",
     "text": [
      "Prompt; Hate: filtered/severity: False - safe\n",
      "Prompt; IndirectAttack:  - \n",
      "Prompt; Jailbreak:  - \n",
      "Prompt; Profanity:  - \n",
      "Prompt; SelfHarm: False - safe\n",
      "Prompt; Sexual: False - safe\n",
      "Prompt; Violence: False - safe\n",
      "Response; Hate: filtered/severity: False - safe\n",
      "Response; Profanity:  - \n",
      "Response; ProtectedMaterialCode:  - \n",
      "Response; ProtectedMaterialText:  - \n",
      "Response; SelfHarm: False - safe\n",
      "Response; Sexual: False - safe\n"
     ]
    }
   ],
   "source": [
    "//Alpha Feature - Suppress diagnostics message\n",
    "#pragma warning disable AOAI001\n",
    "ContentFilterResultForPrompt contentFilterResultForPrompt = AzureChatCompletionExtensions.GetContentFilterResultForPrompt(chatCompletion);\n",
    "\n",
    "Console.WriteLine($\"Prompt; Hate: filtered/severity: {contentFilterResultForPrompt?.Hate?.Filtered} - {contentFilterResultForPrompt?.Hate?.Severity}\");\n",
    "Console.WriteLine($\"Prompt; IndirectAttack: {contentFilterResultForPrompt?.IndirectAttack?.Detected} - {contentFilterResultForPrompt?.IndirectAttack?.Filtered}\");\n",
    "Console.WriteLine($\"Prompt; Jailbreak: {contentFilterResultForPrompt?.Jailbreak?.Detected} - {contentFilterResultForPrompt?.Jailbreak?.Filtered}\");\n",
    "Console.WriteLine($\"Prompt; Profanity: {contentFilterResultForPrompt?.Profanity?.Detected} - {contentFilterResultForPrompt?.Profanity?.Filtered}\");\n",
    "Console.WriteLine($\"Prompt; SelfHarm: {contentFilterResultForPrompt?.SelfHarm?.Filtered} - {contentFilterResultForPrompt?.SelfHarm?.Severity}\");\n",
    "Console.WriteLine($\"Prompt; Sexual: {contentFilterResultForPrompt?.Sexual?.Filtered} - {contentFilterResultForPrompt?.Sexual?.Severity}\");\n",
    "Console.WriteLine($\"Prompt; Violence: {contentFilterResultForPrompt?.Violence?.Filtered} - {contentFilterResultForPrompt?.Violence?.Severity}\");\n",
    "\n",
    "ContentFilterResultForResponse contentFilterResultForResponse = AzureChatCompletionExtensions.GetContentFilterResultForResponse(chatCompletion);\n",
    "Console.WriteLine($\"Response; Hate: filtered/severity: {contentFilterResultForResponse?.Hate?.Filtered} - {contentFilterResultForResponse?.Hate?.Severity}\");\n",
    "Console.WriteLine($\"Response; Profanity: {contentFilterResultForResponse?.Profanity?.Detected} - {contentFilterResultForResponse?.Profanity?.Filtered}\");\n",
    "Console.WriteLine($\"Response; ProtectedMaterialCode: {contentFilterResultForResponse?.ProtectedMaterialCode?.Detected} - {contentFilterResultForResponse?.ProtectedMaterialCode?.Filtered}\");\n",
    "Console.WriteLine($\"Response; ProtectedMaterialText: {contentFilterResultForResponse?.ProtectedMaterialText?.Detected} - {contentFilterResultForResponse?.ProtectedMaterialText?.Filtered}\");\n",
    "Console.WriteLine($\"Response; SelfHarm: {contentFilterResultForResponse?.SelfHarm?.Filtered} - {contentFilterResultForResponse?.SelfHarm?.Severity}\");\n",
    "Console.WriteLine($\"Response; Sexual: {contentFilterResultForResponse?.Sexual?.Filtered} - {contentFilterResultForResponse?.Sexual?.Severity}\");\n",
    "#pragma warning restore AOAI001"
   ]
  }
 ],
 "metadata": {
  "kernelspec": {
   "display_name": ".NET (C#)",
   "language": "C#",
   "name": ".net-csharp"
  },
  "language_info": {
   "name": "polyglot-notebook"
  },
  "polyglot_notebook": {
   "kernelInfo": {
    "defaultKernelName": "csharp",
    "items": [
     {
      "aliases": [],
      "languageName": "csharp",
      "name": "csharp"
     }
    ]
   }
  }
 },
 "nbformat": 4,
 "nbformat_minor": 2
}
