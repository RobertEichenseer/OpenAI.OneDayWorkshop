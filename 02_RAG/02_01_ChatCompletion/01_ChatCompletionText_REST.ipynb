{
 "cells": [
  {
   "cell_type": "markdown",
   "metadata": {},
   "source": [
    "# 02 RAG | 01 Chat Completion Text | 01 REST\n",
    "\n",
    "## Azure Environment\n",
    "\n",
    "To execute the sample code Azure service specific information like endpoint, api key etc. is needed ([Details and instructions can be found here](../01_CreateEnvironment/01_Environment.ipynb))\n",
    "\n",
    "## Intro\n",
    "\n",
    "Chat models take a series of messages as input, and return a model-generated message as output. The main input is the messages parameter. Messages must be an array of message objects, where each object has a role (either \"system\", \"user\", or \"assistant\") and content (the content of the message)."
   ]
  },
  {
   "cell_type": "markdown",
   "metadata": {},
   "source": [
    "## Step 1:  Setup Parameters\n",
    "\n",
    "Necessary parameter are imported from [./Configuration/application.env]. Check [Create Environment](../../01_CreateEnvironment/Configuration/) to setup the necessary demo environment."
   ]
  },
  {
   "cell_type": "code",
   "execution_count": 1,
   "metadata": {
    "dotnet_interactive": {
     "language": "csharp"
    },
    "polyglot_notebook": {
     "kernelName": "csharp"
    },
    "vscode": {
     "languageId": "polyglot-notebook"
    }
   },
   "outputs": [
    {
     "data": {
      "text/html": [
       "<div><div></div><div></div><div><strong>Installed Packages</strong><ul><li><span>DotNetEnv, 2.5.0</span></li><li><span>Newtonsoft.Json, 13.0.1</span></li><li><span>System.Text.Json, 7.0.3</span></li></ul></div></div>"
      ]
     },
     "metadata": {},
     "output_type": "display_data"
    },
    {
     "name": "stdout",
     "output_type": "stream",
     "text": [
      "Connection information loaded from configuration file...\r\n"
     ]
    }
   ],
   "source": [
    "#r \"nuget: DotNetEnv, 2.5.0\"\n",
    "#r \"nuget: System.Text.Json, 7.0.3\"\n",
    "#r \"nuget: Newtonsoft.Json, 13.0.1\"\n",
    "using DotNetEnv;\n",
    "\n",
    "using System.Net;\n",
    "using System.Net.Http;\n",
    "using System.Text.Json.Nodes;\n",
    "using System.Text.Json;\n",
    "\n",
    "static string _configurationFile = @\"../../Configuration/application.env\";\n",
    "Env.Load(_configurationFile);\n",
    "\n",
    "string apiBase = Environment.GetEnvironmentVariable(\"WS_AOAI_ENDPOINT\"); \n",
    "string apiKey = Environment.GetEnvironmentVariable(\"WS_AOAI_APIKEY\"); \n",
    "string deploymentName = Environment.GetEnvironmentVariable(\"WS_CHATCOMPLETION_DEPLOYMENTNAME\"); \n",
    "\n",
    "Console.WriteLine(\"Connection information loaded from configuration file...\");\n"
   ]
  },
  {
   "cell_type": "markdown",
   "metadata": {},
   "source": [
    "## Step 2:  Create completions for chat messages with GPT models\n",
    "\n",
    "The code cell is using an instance of `HttpClient` to call the REST API of the deployed Azure OpenAI instance.\n",
    "\n",
    "System prompt: `\"You are an AI assistance who helps finding information around international sport events\"`\n",
    "\n",
    "Prompt: `\"Who won the super bowl 2024?\"`"
   ]
  },
  {
   "cell_type": "code",
   "execution_count": 11,
   "metadata": {
    "dotnet_interactive": {
     "language": "csharp"
    },
    "polyglot_notebook": {
     "kernelName": "csharp"
    },
    "vscode": {
     "languageId": "polyglot-notebook"
    }
   },
   "outputs": [
    {
     "name": "stdout",
     "output_type": "stream",
     "text": [
      "Request payload defined ...\r\n"
     ]
    }
   ],
   "source": [
    "\n",
    "var requestPayload = new JsonObject\n",
    "{\n",
    "    { \"messages\", new JsonArray\n",
    "        {\n",
    "            new JsonObject\n",
    "            {\n",
    "                { \"role\", \"system\" },\n",
    "                { \"content\", \"You are an AI assistance who helps finding information around international sport events\" }\n",
    "                \n",
    "            },\n",
    "            new JsonObject\n",
    "            {\n",
    "                { \"role\", \"user\" },\n",
    "                { \"content\", \"Who won the Super Bowl 2024?\" }\n",
    "            },\n",
    "        }\n",
    "    },\n",
    "    { \"max_tokens\", 200 },\n",
    "    { \"temperature\", 0.7 },\n",
    "    { \"frequency_penalty\", 0 },\n",
    "    { \"presence_penalty\", 0 },\n",
    "    { \"top_p\", 0.95 },\n",
    "    { \"stop\", null }\n",
    "};\n",
    "\n",
    "string payload = JsonSerializer.Serialize(requestPayload, new JsonSerializerOptions\n",
    "{\n",
    "    WriteIndented = true // Optional: to make the JSON string more readable\n",
    "});\n",
    "\n",
    "Console.WriteLine($\"Request payload defined ...\");"
   ]
  },
  {
   "cell_type": "markdown",
   "metadata": {},
   "source": [
    "## Step 3:  Call Azure OpenAI REST endpoint\n",
    "\n",
    "The code cell is using an instance of `HttpClient` to call the REST API of the deployed Azure OpenAI instance. As the deployed GPT-4o model has training data including October 2023 it will not be able to answer this question correctly. This behavior is expected and methods to address this challenge are shown in e.g. [02_ChatCompletionText_SDK](./02_ChatCompletionText_SDK.ipynb)."
   ]
  },
  {
   "cell_type": "code",
   "execution_count": 12,
   "metadata": {
    "dotnet_interactive": {
     "language": "csharp"
    },
    "polyglot_notebook": {
     "kernelName": "csharp"
    },
    "vscode": {
     "languageId": "polyglot-notebook"
    }
   },
   "outputs": [
    {
     "name": "stdout",
     "output_type": "stream",
     "text": [
      "Output: As of my last update in October 2023, the Super Bowl LVIII (58) is scheduled to take place on February 11, 2024, at Allegiant Stadium in Paradise, Nevada. The winner of the Super Bowl 2024 has not been determined yet. Please check the latest sources or news updates for the most current information.\r\n"
     ]
    }
   ],
   "source": [
    "string apiVersion = \"2024-02-01\";\n",
    "string endpoint = $\"{apiBase}openai/deployments/{deploymentName}/chat/completions?api-version={apiVersion}\";\n",
    "\n",
    "using (HttpClient httpClient = new HttpClient())\n",
    "{\n",
    "    httpClient.BaseAddress = new Uri(endpoint);\n",
    "    httpClient.DefaultRequestHeaders.Add(\"api-key\",apiKey);\n",
    "    httpClient.DefaultRequestHeaders.Accept.Add(new System.Net.Http.Headers.MediaTypeWithQualityHeaderValue(\"application/json\"));\n",
    "\n",
    "    var stringContent = new StringContent(payload, Encoding.UTF8, \"application/json\");\n",
    "\n",
    "    var response = await httpClient.PostAsync(endpoint, stringContent);\n",
    "\n",
    "    if (response.IsSuccessStatusCode)\n",
    "    {\n",
    "        using (var responseStream = await response.Content.ReadAsStreamAsync())\n",
    "        {\n",
    "            // Parse the JSON response using JsonDocument\n",
    "            using (var jsonDoc = await JsonDocument.ParseAsync(responseStream))\n",
    "            {\n",
    "                // Access the message content dynamically\n",
    "                var root = jsonDoc.RootElement;\n",
    "                var messageContent = root.GetProperty(\"choices\")[0].GetProperty(\"message\").GetProperty(\"content\").GetString();\n",
    "\n",
    "                // Output the message content\n",
    "                Console.WriteLine(\"Output: \" + messageContent);\n",
    "            }\n",
    "        }\n",
    "    }\n",
    "    else\n",
    "    {\n",
    "        Console.WriteLine($\"Error: {response}\");\n",
    "    }\n",
    "}\n"
   ]
  }
 ],
 "metadata": {
  "kernelspec": {
   "display_name": ".NET (C#)",
   "language": "C#",
   "name": ".net-csharp"
  },
  "language_info": {
   "name": "python"
  },
  "orig_nbformat": 4,
  "polyglot_notebook": {
   "kernelInfo": {
    "defaultKernelName": "csharp",
    "items": [
     {
      "aliases": [],
      "name": "csharp"
     }
    ]
   }
  }
 },
 "nbformat": 4,
 "nbformat_minor": 2
}
