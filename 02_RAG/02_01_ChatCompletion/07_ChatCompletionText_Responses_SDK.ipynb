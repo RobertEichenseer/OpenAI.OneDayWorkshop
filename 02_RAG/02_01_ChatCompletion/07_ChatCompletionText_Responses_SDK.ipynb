{
 "cells": [
  {
   "cell_type": "markdown",
   "id": "c35747cb",
   "metadata": {},
   "source": [
    "# 02 RAG | 01 Chat Completion Text | 07 Responses SDK\n",
    "\n",
    "## Azure Environment\n",
    "\n",
    "To execute the sample code Azure service specific information like endpoint, api key etc. is needed ([Details and instructions can be found here](../01_CreateEnvironment/01_Environment.ipynb))\n",
    "\n",
    "## Step 1: Create OpenAIResponseClient\n",
    "\n",
    "The `AzureOpenAIClient` from the Azure.AI.OpenAI NuGet package offers a unified interface to create various specialized clients, each designed to handle specific tasks.\n",
    "\n",
    "In this notebook the `OpenAIResponseClient` is used.\n",
    "\n",
    "The `OpenAIResponseClient` is a .NET SDK client for OpenAI’s Responses API that streamlines multi-turn conversations with text, images, streaming, and function calling—all in one flexible interface.\n",
    "\n",
    "The Responses API unifies the straightforward interface of the Chat Completions API with the powerful function-calling features of the Assistants API."
   ]
  },
  {
   "cell_type": "code",
   "execution_count": 6,
   "id": "dcf166e8",
   "metadata": {
    "language_info": {
     "name": "polyglot-notebook"
    },
    "polyglot_notebook": {
     "kernelName": "csharp"
    }
   },
   "outputs": [
    {
     "data": {
      "text/html": [
       "<div><div></div><div></div><div><strong>Installed Packages</strong><ul><li><span>Azure.AI.OpenAI, 2.2.0-beta.4</span></li><li><span>DotNetEnv, 3.1.1</span></li></ul></div></div>"
      ]
     },
     "metadata": {},
     "output_type": "display_data"
    },
    {
     "name": "stdout",
     "output_type": "stream",
     "text": [
      "AzureOpenAI Client created...\n",
      "OpenAIResponseClient created...\n"
     ]
    }
   ],
   "source": [
    "#r \"nuget: Azure.AI.OpenAI, 2.2.0-beta.4\"\n",
    "#r \"nuget: DotNetEnv, 3.1.1\"\n",
    "\n",
    "using Azure; \n",
    "using Azure.AI.OpenAI;\n",
    "using OpenAI;\n",
    "using OpenAI.Responses;\n",
    "using DotNetEnv;\n",
    "using System.IO;\n",
    "using System.ClientModel;\n",
    "\n",
    "//configuration file is created during environment creation\n",
    "static string configurationFile = @\"../../Configuration/application.env\";\n",
    "Env.Load(configurationFile);\n",
    "\n",
    "string oAiApiKey = Environment.GetEnvironmentVariable(\"WS_AOAI_APIKEY\") ?? \"AOAI_APIKEY not found\";\n",
    "string oAiEndpoint = Environment.GetEnvironmentVariable(\"WS_AOAI_ENDPOINT\") ?? \"AOAI_ENDPOINT not found\";\n",
    "string chatCompletionDeploymentName = Environment.GetEnvironmentVariable(\"WS_CHATCOMPLETION_DEPLOYMENTNAME\") ?? \"CHATCOMPLETION_DEPLOYMENTNAME not found\";\n",
    "\n",
    "ApiKeyCredential apiKeyCredential = new ApiKeyCredential(oAiApiKey);\n",
    "AzureOpenAIClient azureOpenAIClient = new AzureOpenAIClient(new Uri(oAiEndpoint), apiKeyCredential);\n",
    "OpenAIResponseClient responseClient = azureOpenAIClient.GetOpenAIResponseClient(chatCompletionDeploymentName);\n",
    "\n",
    "Console.WriteLine($\"AzureOpenAI Client created...\");\n",
    "Console.WriteLine($\"OpenAIResponseClient created...\");"
   ]
  },
  {
   "cell_type": "markdown",
   "id": "c3728344",
   "metadata": {},
   "source": [
    "## Step 1: Basic Interaction\n",
    "\n",
    "The following cell, demonstrate a basic interaction using the `OpenAIResponseClient` object. \n",
    "\n",
    "The `ResponseCreationOptions` object gives more fine granular control how the model should process the provided prompt.\n",
    "\n",
    "The `Instructions` property on the `ResponseCreationOptions` object is where you define the assistant's behavior, tone, or domain-specific guidance when you're working with Azure's Responses API.\n",
    "\n",
    "Instructions: `\"You are an AI assistant who helps finding information around international sport events. Don't answer questions that are not related to sport events.\"`\n",
    "\n",
    "Prompt: `\"Who won the super bowl 2024?\"`\n",
    "\n",
    "Since the GPT-4o model is trained with data only up to October 2023, it may either decline to answer or provide a speculative result about the Super Bowl 2024."
   ]
  },
  {
   "cell_type": "code",
   "execution_count": 7,
   "id": "4006bbbc",
   "metadata": {
    "language_info": {
     "name": "polyglot-notebook"
    },
    "polyglot_notebook": {
     "kernelName": "csharp"
    }
   },
   "outputs": [
    {
     "name": "stdout",
     "output_type": "stream",
     "text": [
      "Model response: \n",
      " I'm sorry, but I don't have information on the winner of the Super Bowl 2024 as my knowledge only goes up until October 2021. You may want to check the latest sports news or the NFL's official website for the most current information.\r\n"
     ]
    }
   ],
   "source": [
    "ResponseCreationOptions options = new ResponseCreationOptions\n",
    "{\n",
    "    Instructions = \"You are an AI assistant who helps finding information around international sport events. Don't answer questions that are not related to sport events.\",\n",
    "    TruncationMode = ResponseTruncationMode.Auto\n",
    "};\n",
    "\n",
    "OpenAIResponse response = await responseClient.CreateResponseAsync(\n",
    "    [ResponseItem.CreateUserMessageItem(\"Who won the super bowl 2024?\")],\n",
    "    options);\n",
    "\n",
    "Console.WriteLine($\"Model response: \\n {response.GetOutputText()}\"); "
   ]
  },
  {
   "cell_type": "markdown",
   "id": "fcf95958",
   "metadata": {},
   "source": [
    "## Step 2: Complex interaction - Chat History\n",
    "\n",
    "### Prepare chat history\n",
    "\n",
    "A simulated chat history is provided using a `List<ResponseItem>` with the following information. \n",
    "\n",
    "```html\n",
    "    - User: Who won the Super Bowl in 2024?\n",
    "    - Assistant: The Kansas City Chiefs won the Super Bowl 2024. The match ended with a score of 38-35.\n",
    "    - User: Who did you tell me won the Super Bowl 2024? Provide just the winning team and the score.\n",
    "\n",
    "This example demonstrates how chat history lets the assistant recall previous messages. It enables multi-turn interactions, such as responding to follow-ups based on earlier answers."
   ]
  },
  {
   "cell_type": "code",
   "execution_count": 16,
   "id": "ef748c4a",
   "metadata": {
    "language_info": {
     "name": "polyglot-notebook"
    },
    "polyglot_notebook": {
     "kernelName": "csharp"
    }
   },
   "outputs": [
    {
     "name": "stdout",
     "output_type": "stream",
     "text": [
      "Chat messages created with 3 items.\r\n"
     ]
    }
   ],
   "source": [
    "ResponseCreationOptions options = new ResponseCreationOptions\n",
    "{\n",
    "    Instructions = \"You are an AI assistant who helps finding information around international sport events. Don't answer questions that are not related to sport events.\",\n",
    "    TruncationMode = ResponseTruncationMode.Auto\n",
    "};\n",
    "\n",
    "\n",
    "List<ResponseItem> messages = new List<ResponseItem>\n",
    "{\n",
    "    //ResponseItem.CreateDeveloperMessageItem(\"You are an AI assistant who helps finding information around international sport events. Don't answer questions that are not related to sport events.\"),\n",
    "    ResponseItem.CreateUserMessageItem(\"Who won the Super Bowl 2024?\"),\n",
    "    ResponseItem.CreateAssistantMessageItem(\"The Kansas City Chiefs won the Super Bowl 2024. The match ended with a score of 38-35.\"),\n",
    "    ResponseItem.CreateUserMessageItem(\"Who did you say won the 2024 Super Bowl? Just give me the winning team and the score. In this format: <team>, <score>.\"),\n",
    "};\n",
    "\n",
    "Console.WriteLine($\"Chat messages created with {messages.Count} items.\");"
   ]
  },
  {
   "cell_type": "markdown",
   "id": "64f36a73",
   "metadata": {},
   "source": [
    "### Model call\n",
    "\n",
    "The chat history is provided to the model for completion."
   ]
  },
  {
   "cell_type": "code",
   "execution_count": 17,
   "id": "93f3ecb5",
   "metadata": {
    "language_info": {
     "name": "polyglot-notebook"
    },
    "polyglot_notebook": {
     "kernelName": "csharp"
    }
   },
   "outputs": [
    {
     "name": "stdout",
     "output_type": "stream",
     "text": [
      "Model response: \n",
      " Kansas City Chiefs, 38-35.\r\n"
     ]
    }
   ],
   "source": [
    "OpenAIResponse response = await responseClient.CreateResponseAsync(messages, options);\n",
    "\n",
    "Console.WriteLine($\"Model response: \\n {response.GetOutputText()}\"); "
   ]
  },
  {
   "cell_type": "markdown",
   "id": "6f56abb2",
   "metadata": {},
   "source": [
    "## Step 3: Streaming response\n",
    "\n",
    "`CreateResponseStreamingAsync()` provides results as stream as soon as they are provided by the model.\n",
    "\n",
    "Streaming is useful when you want faster, incremental access to a model’s output instead of waiting for the full response."
   ]
  },
  {
   "cell_type": "code",
   "execution_count": null,
   "id": "31b6ccf7",
   "metadata": {
    "language_info": {
     "name": "polyglot-notebook"
    },
    "polyglot_notebook": {
     "kernelName": "csharp"
    }
   },
   "outputs": [
    {
     "name": "stdout",
     "output_type": "stream",
     "text": [
      "Model response streaming:\n",
      "Kansas City Chiefs, 38-35."
     ]
    }
   ],
   "source": [
    "//AsyncCollectionResult<StreamingResponseUpdate> responseUpdates = responseClient.CreateResponseStreamingAsync(\"Who won the French Open 2012?\");\n",
    "AsyncCollectionResult<StreamingResponseUpdate> responseUpdates = responseClient.CreateResponseStreamingAsync(messages, options);\n",
    "\n",
    "Console.WriteLine($\"Model response streaming:\");\n",
    "await foreach (StreamingResponseUpdate update in responseUpdates)\n",
    "{\n",
    "    if (update is StreamingResponseOutputTextDeltaUpdate outputTextUpdate)\n",
    "    {\n",
    "        Console.Write(outputTextUpdate.Delta);\n",
    "    }\n",
    "}"
   ]
  }
 ],
 "metadata": {
  "kernelspec": {
   "display_name": ".NET (C#)",
   "language": "C#",
   "name": ".net-csharp"
  },
  "language_info": {
   "name": "polyglot-notebook"
  },
  "polyglot_notebook": {
   "kernelInfo": {
    "defaultKernelName": "csharp",
    "items": [
     {
      "aliases": [],
      "name": "csharp"
     }
    ]
   }
  }
 },
 "nbformat": 4,
 "nbformat_minor": 5
}
