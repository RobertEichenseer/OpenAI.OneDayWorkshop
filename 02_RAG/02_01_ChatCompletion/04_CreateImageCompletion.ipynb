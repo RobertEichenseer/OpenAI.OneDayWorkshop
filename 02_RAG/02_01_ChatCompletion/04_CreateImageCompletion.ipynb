{
 "cells": [
  {
   "cell_type": "markdown",
   "metadata": {},
   "source": [
    "# 02 RAG | 01 Chat Completion | 04 Create Image Completion\n",
    "\n",
    "## Azure Environment\n",
    "\n",
    "Necessary parameter are imported from [./Configuration/application.env]. Check [Create Environment](../../01_CreateEnvironment/01_Environment.ipynb) to setup the necessary demo environment.\n",
    "\n",
    "\n",
    "## Step 1: Create OpenAIClient\n",
    "\n",
    "The `AzureOpenAIClient` from the Azure.AI.OpenAI NuGet package offers a unified interface to create various specialized clients, each designed to handle specific tasks.\n",
    "In this notebook the `ImageClient` is used to create a photorealistic image based on a text prompt.\n"
   ]
  },
  {
   "cell_type": "code",
   "execution_count": 1,
   "metadata": {
    "dotnet_interactive": {
     "language": "csharp"
    },
    "polyglot_notebook": {
     "kernelName": "csharp"
    }
   },
   "outputs": [
    {
     "data": {
      "text/html": [
       "<div><div></div><div></div><div><strong>Installed Packages</strong><ul><li><span>Azure.AI.OpenAI, 2.0.0-beta.2</span></li><li><span>DotNetEnv, 2.5.0</span></li></ul></div></div>"
      ]
     },
     "metadata": {},
     "output_type": "display_data"
    },
    {
     "name": "stdout",
     "output_type": "stream",
     "text": [
      "AzureOpenAI Client created...\n",
      "ImageClient created...\n"
     ]
    }
   ],
   "source": [
    "#r \"nuget: Azure.AI.OpenAI, 2.0.0-beta.2\"\n",
    "#r \"nuget: DotNetEnv, 2.5.0\"\n",
    "\n",
    "using Azure; \n",
    "using Azure.AI.OpenAI;\n",
    "using OpenAI.Images;\n",
    "using DotNetEnv;\n",
    "using System.IO;\n",
    "using System.Text.Json; \n",
    "using System.ClientModel;\n",
    "\n",
    "//configuration file is created during environment creation\n",
    "static string configurationFile = @\"../../Configuration/application.env\";\n",
    "Env.Load(configurationFile);\n",
    "\n",
    "string oAiApiKey = Environment.GetEnvironmentVariable(\"WS_AOAI_APIKEY\") ?? \"WS_AOAI_APIKEY not found\";\n",
    "string oAiEndpoint = Environment.GetEnvironmentVariable(\"WS_AOAI_ENDPOINT\") ?? \"WS_AOAI_ENDPOINT not found\";\n",
    "string chatCompletionDeploymentName = Environment.GetEnvironmentVariable(\"WS_CHATCOMPLETION_DEPLOYMENTNAME\") ?? \"WS_CHATCOMPLETION_DEPLOYMENTNAME not found\";\n",
    "string imageDeploymentName = Environment.GetEnvironmentVariable(\"WS_IMAGE_DEPLOYMENTNAME\") ?? \"WS_IMAGE_DEPLOYMENTNAME not found\";\n",
    "string assetsFolder = Environment.GetEnvironmentVariable(\"WS_ASSETS_FOLDER\") ?? \"WS_ASSETS_FOLDER not found\";\n",
    "\n",
    "ApiKeyCredential apiKeyCredential = new ApiKeyCredential(oAiApiKey);\n",
    "AzureOpenAIClient azureOpenAIClient = new AzureOpenAIClient(new Uri(oAiEndpoint), apiKeyCredential);\n",
    "ImageClient imageClient = azureOpenAIClient.GetImageClient(imageDeploymentName);\n",
    "\n",
    "Console.WriteLine($\"AzureOpenAI Client created...\");\n",
    "Console.WriteLine($\"ImageClient created...\");"
   ]
  },
  {
   "cell_type": "markdown",
   "metadata": {},
   "source": [
    "## Step 2: Create Images\n",
    "\n",
    "The following cell, demonstrate a basic interaction using the `imageClient` instance. In the sample 3 images are created providing the following description:\n",
    "\n",
    "- *\"Create a photo realistic image of an US american football team winning the Super Bowl. Show them celebrating as team in a stadium with confetti falling from the sky\"*\n",
    "- *\"Create an sketch style image of an US american football team winning the Super Bowl in a barely sketched out stadium. Show the team celebrating as team in a stadium with confetti falling from the sky\"*\n",
    "- *\"Create an oilpainting image of an US american football team winning the Super Bowl in a historic stadium. Show the team celebrating as team in a stadium with confetti falling from the sky\"*\n",
    "\n",
    "The `imageGenerationOptions' used in the code cell allows more fine granular control how the image is created and in which format it is returned to the caller."
   ]
  },
  {
   "cell_type": "code",
   "execution_count": 3,
   "metadata": {
    "dotnet_interactive": {
     "language": "csharp"
    },
    "polyglot_notebook": {
     "kernelName": "csharp"
    }
   },
   "outputs": [
    {
     "name": "stdout",
     "output_type": "stream",
     "text": [
      "Image generated and saved to ../../assets\\Image\\SuperBowl_Photorealistic.png...\n",
      "Image generated and saved to ../../assets\\Image\\SuperBowl_Sketch.png...\n",
      "Image generated and saved to ../../assets\\Image\\SuperBowl_Oilpainting.png...\n"
     ]
    }
   ],
   "source": [
    "using System.Net.Http;\n",
    "\n",
    "//Define Image Generation Options\n",
    "ImageGenerationOptions imageGenerationOptions = new ImageGenerationOptions() {\n",
    "    Quality = GeneratedImageQuality.Standard,\n",
    "    ResponseFormat = GeneratedImageFormat.Bytes, \n",
    "    Size = GeneratedImageSize.W1024xH1024,\n",
    "    Style = GeneratedImageStyle.Natural\n",
    "};\n",
    "\n",
    "//Generate Photorealistic Image\n",
    "string imagePrompt = @\"\n",
    "    Create a photo realistic image of an US american football team winning the Super Bowl in a futuristic stadium. \n",
    "    Show the team celebrating as team in a stadium with confetti falling from the sky\n",
    "\";\n",
    "string imageFileName = Path.Join(assetsFolder, \"Image\", \"SuperBowl_Photorealistic.png\");\n",
    "\n",
    "ClientResult<GeneratedImage> result = await imageClient.GenerateImageAsync(\n",
    "    imagePrompt, \n",
    "    imageGenerationOptions\n",
    ");\n",
    "File.WriteAllBytes(imageFileName, result.Value.ImageBytes.ToArray());\n",
    "Console.WriteLine($\"Image generated and saved to {imageFileName}...\");         \n",
    "\n",
    "//Generate Sketch Style Image\n",
    "imagePrompt = @\"\n",
    "    Create an sketch style image of an US american football team winning the Super Bowl in a barely sketched out stadium. \n",
    "    Show the team celebrating as team in a stadium with confetti falling from the sky\n",
    "\";\n",
    "imageFileName = Path.Join(assetsFolder, \"Image\", \"SuperBowl_Sketch.png\");\n",
    "\n",
    "result = await imageClient.GenerateImageAsync(\n",
    "    imagePrompt, \n",
    "    imageGenerationOptions\n",
    ");\n",
    "File.WriteAllBytes(imageFileName, result.Value.ImageBytes.ToArray());\n",
    "Console.WriteLine($\"Image generated and saved to {imageFileName}...\");         \n",
    "\n",
    "\n",
    "//Generate Artist Oilpainting Style Image\n",
    "imagePrompt = @\"\n",
    "    Create an oilpainting image of an US american football team winning the Super Bowl in a historic stadium. \n",
    "    Show the team celebrating as team in a stadium with confetti falling from the sky\n",
    "\";\n",
    "imageFileName = Path.Join(assetsFolder, \"Image\", \"SuperBowl_Oilpainting.png\");\n",
    "\n",
    "result = await imageClient.GenerateImageAsync(\n",
    "    imagePrompt, \n",
    "    imageGenerationOptions\n",
    ");\n",
    "File.WriteAllBytes(imageFileName, result.Value.ImageBytes.ToArray());\n",
    "Console.WriteLine($\"Image generated and saved to {imageFileName}...\");         "
   ]
  },
  {
   "cell_type": "markdown",
   "metadata": {},
   "source": [
    "The following images have been created in a previous execution. Images created using the same prompts will most likely look different due to the unpredicted nature of LLMs.\n",
    "\n",
    "![PhotoRealisticImage](../../assets/Image/SuperBowl_Photorealistic.png) \n",
    "![SketchImage](../../assets/Image/SuperBowl_Sketch.png)\n",
    "![OilpaintingImage](../../assets/Image/SuperBowl_Oilpainting.png)"
   ]
  }
 ],
 "metadata": {
  "kernelspec": {
   "display_name": ".NET (C#)",
   "language": "C#",
   "name": ".net-csharp"
  },
  "language_info": {
   "name": "polyglot-notebook"
  },
  "polyglot_notebook": {
   "kernelInfo": {
    "defaultKernelName": "csharp",
    "items": [
     {
      "aliases": [],
      "languageName": "csharp",
      "name": "csharp"
     }
    ]
   }
  }
 },
 "nbformat": 4,
 "nbformat_minor": 2
}
