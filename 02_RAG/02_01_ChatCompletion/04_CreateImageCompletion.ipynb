{
 "cells": [
  {
   "cell_type": "markdown",
   "metadata": {},
   "source": [
    "# 02 RAG | 01 Chat Completion | 04 Create Image Completion\n",
    "\n",
    "## Azure Environment\n",
    "\n",
    "To execute the sample code Azure service specific information like endpoint, api key etc. is needed ([Details and instructions can be found here](../01_CreateEnvironment/01_Environment.ipynb))\n",
    "\n",
    "## Step 1: Create OpenAIClient\n",
    "\n",
    "The Azure OpenAI client from the Azure.AI.OpenAI NuGet package offers a unified interface to interact with various specialized clients, each designed to handle specific tasks. \n",
    "\n",
    "These include clients for chat completion, embeddings, and the agent framework, among others, enabling developers to easily integrate and utilize OpenAI's capabilities for generating text, understanding context, and building intelligent applications within the Azure ecosystem."
   ]
  },
  {
   "cell_type": "code",
   "execution_count": null,
   "metadata": {
    "dotnet_interactive": {
     "language": "csharp"
    },
    "polyglot_notebook": {
     "kernelName": "csharp"
    }
   },
   "outputs": [],
   "source": [
    "#r \"nuget: Azure.AI.OpenAI, 2.0.0-beta.2\"\n",
    "#r \"nuget: DotNetEnv, 2.5.0\"\n",
    "\n",
    "using Azure; \n",
    "using Azure.AI.OpenAI;\n",
    "using OpenAI.Images;\n",
    "using DotNetEnv;\n",
    "using System.IO;\n",
    "using System.Text.Json; \n",
    "using System.ClientModel;\n",
    "\n",
    "//configuration file is created during environment creation\n",
    "static string configurationFile = @\"../../Configuration/application.env\";\n",
    "Env.Load(configurationFile);\n",
    "\n",
    "string oAiApiKey = Environment.GetEnvironmentVariable(\"WS_AOAI_APIKEY\") ?? \"WS_AOAI_APIKEY not found\";\n",
    "string oAiEndpoint = Environment.GetEnvironmentVariable(\"WS_AOAI_ENDPOINT\") ?? \"WS_AOAI_ENDPOINT not found\";\n",
    "string imageDeploymentName = Environment.GetEnvironmentVariable(\"WS_IMAGE_DEPLOYMENTNAME\") ?? \"WS_IMAGE_DEPLOYMENTNAME not found\";\n",
    "string assetsFolder = Environment.GetEnvironmentVariable(\"WS_ASSETS_FOLDER\") ?? \"WS_ASSETS_FOLDER not found\";\n",
    "\n",
    "AzureKeyCredential azureKeyCredential = new AzureKeyCredential(oAiApiKey);\n",
    "AzureOpenAIClient azureOpenAIClient = new AzureOpenAIClient(new Uri(oAiEndpoint), azureKeyCredential);\n",
    "ImageClient imageClient = azureOpenAIClient.GetImageClient(imageDeploymentName);\n",
    "\n",
    "Console.WriteLine($\"AzureOpenAI Client created...\");\n",
    "Console.WriteLine($\"ImageClient created...\");"
   ]
  },
  {
   "cell_type": "markdown",
   "metadata": {},
   "source": [
    "**Expected output:**\n",
    "\n",
    "Installed Packages\n",
    "\n",
    "  - Azure.AI.OpenAI, 2.0.0-beta.2\n",
    "  - DotNetEnv, 2.5.0\n",
    "\n",
    "AzureOpenAI Client created...\n",
    "\n",
    "ImageClient created..."
   ]
  },
  {
   "cell_type": "markdown",
   "metadata": {},
   "source": [
    "## Step 2: Create Image\n",
    "\n",
    "The following cell, demonstrate a basic interaction using the `imageClient` instance. In the sample a photo realistic image is created. \n",
    "\n",
    "System prompt: `\"Create a photo realistic image of an US american football team winning the Super Bowl. \n",
    "    Show them celebrating as team in a stadium with confetti falling from the sky\"`\n",
    "\n",
    "The `imageGenerationOptions' allow more fine granular control how the image is created and in which format it is returned to the caller."
   ]
  },
  {
   "cell_type": "code",
   "execution_count": null,
   "metadata": {
    "dotnet_interactive": {
     "language": "csharp"
    },
    "polyglot_notebook": {
     "kernelName": "csharp"
    }
   },
   "outputs": [],
   "source": [
    "using System.Net.Http;\n",
    "\n",
    "//Generate Image\n",
    "string imagePrompt = @\"\n",
    "    Create a photo realistic image of an US american football team winning the Super Bowl. \n",
    "    Show them celebrating as team in a stadium with confetti falling from the sky\n",
    "\";\n",
    "string imageFileName = Path.Join(assetsFolder, \"Image\", \"SuperBowl_Photorealistic.png\");\n",
    "\n",
    "ImageGenerationOptions imageGenerationOptions = new ImageGenerationOptions() {\n",
    "    Quality = GeneratedImageQuality.Standard,\n",
    "    ResponseFormat = GeneratedImageFormat.Bytes, \n",
    "    Size = GeneratedImageSize.W1024xH1024,\n",
    "    Style = GeneratedImageStyle.Natural\n",
    "};\n",
    "\n",
    "ClientResult<GeneratedImage> result = await imageClient.GenerateImageAsync(\n",
    "    imagePrompt, \n",
    "    imageGenerationOptions\n",
    ");\n",
    "\n",
    "Console.WriteLine($\"Image generated and saved to {imageFileName}...\");         \n"
   ]
  },
  {
   "cell_type": "markdown",
   "metadata": {},
   "source": [
    "**Expected result:**\n",
    "\n",
    "Image generated and saved to ../../assets/Image/SuperBowl_Photorealistic.png..."
   ]
  }
 ],
 "metadata": {
  "kernelspec": {
   "display_name": ".NET (C#)",
   "language": "C#",
   "name": ".net-csharp"
  },
  "language_info": {
   "name": "polyglot-notebook"
  },
  "polyglot_notebook": {
   "kernelInfo": {
    "defaultKernelName": "csharp",
    "items": [
     {
      "aliases": [],
      "languageName": "csharp",
      "name": "csharp"
     }
    ]
   }
  }
 },
 "nbformat": 4,
 "nbformat_minor": 2
}
