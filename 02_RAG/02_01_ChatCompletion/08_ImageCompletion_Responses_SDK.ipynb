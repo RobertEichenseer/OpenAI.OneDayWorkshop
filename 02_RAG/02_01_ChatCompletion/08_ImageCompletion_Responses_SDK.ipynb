{
 "cells": [
  {
   "cell_type": "markdown",
   "id": "6a364a3f",
   "metadata": {},
   "source": [
    "# 02 RAG | 01 Chat Completion | 07 Chat Completion Image\n",
    "\n",
    "## Azure Environment\n",
    "\n",
    "To execute the sample code Azure service specific information like endpoint, api key etc. is needed ([Details and instructions can be found here](../01_CreateEnvironment/01_Environment.ipynb))\n",
    "\n",
    "## Step 1: Create OpenAIResponseClient\n",
    "\n",
    "The `AzureOpenAIClient` from the Microsoft.Extensions.AI NuGet package offers an abstraction which allows using models from multiple providers.\n",
    "\n",
    "In this notebook the `OpenAIResponseClient` is used.\n",
    "\n",
    "The multi modal capabilities of the GPT-4o LLM deployment are shown by providing the following photo realistic image together with the user message 'In which style is the provided image? Is it Cartoon or Photorealistic?' the LLM:\n",
    "\n",
    "![PhotoRealisticImage](../../Assets/Image/SuperBowl_Photorealistic.png)\n",
    "\n",
    "The image was created using the [04_CreateImageCompletion notebook](./04_CreateImageCompletion.ipynb) and an instance of dall-e-3."
   ]
  },
  {
   "cell_type": "code",
   "execution_count": 3,
   "id": "d4ab45f3",
   "metadata": {},
   "outputs": [
    {
     "data": {
      "text/html": [
       "<div><div></div><div></div><div><strong>Installed Packages</strong><ul><li><span>Azure.AI.OpenAI, 2.2.0-beta.4</span></li><li><span>DotNetEnv, 3.1.1</span></li></ul></div></div>"
      ]
     },
     "metadata": {},
     "output_type": "display_data"
    },
    {
     "name": "stdout",
     "output_type": "stream",
     "text": [
      "AzureOpenAI Client created...\n",
      "OpenAIResponseClient created...\n"
     ]
    }
   ],
   "source": [
    "#r \"nuget: Azure.AI.OpenAI, 2.2.0-beta.4\"\n",
    "#r \"nuget: DotNetEnv, 3.1.1\"\n",
    "\n",
    "using Azure; \n",
    "using Azure.AI.OpenAI;\n",
    "using OpenAI;\n",
    "using OpenAI.Responses;\n",
    "using DotNetEnv;\n",
    "using System;\n",
    "using System.IO;\n",
    "using System.ClientModel;\n",
    "\n",
    "//configuration file is created during environment creation\n",
    "static string configurationFile = @\"../../Configuration/application.env\";\n",
    "Env.Load(configurationFile);\n",
    "\n",
    "string oAiApiKey = Environment.GetEnvironmentVariable(\"WS_AOAI_APIKEY\") ?? \"AOAI_APIKEY not found\";\n",
    "string oAiEndpoint = Environment.GetEnvironmentVariable(\"WS_AOAI_ENDPOINT\") ?? \"AOAI_ENDPOINT not found\";\n",
    "string chatCompletionDeploymentName = Environment.GetEnvironmentVariable(\"WS_CHATCOMPLETION_DEPLOYMENTNAME\") ?? \"CHATCOMPLETION_DEPLOYMENTNAME not found\";\n",
    "\n",
    "ApiKeyCredential apiKeyCredential = new ApiKeyCredential(oAiApiKey);\n",
    "AzureOpenAIClient azureOpenAIClient = new AzureOpenAIClient(new Uri(oAiEndpoint), apiKeyCredential);\n",
    "OpenAIResponseClient responseClient = azureOpenAIClient.GetOpenAIResponseClient(chatCompletionDeploymentName);\n",
    "\n",
    "Console.WriteLine($\"AzureOpenAI Client created...\");\n",
    "Console.WriteLine($\"OpenAIResponseClient created...\");"
   ]
  },
  {
   "cell_type": "markdown",
   "id": "152cdb4c",
   "metadata": {},
   "source": [
    "## Step 1: Create Chat Messages\n",
    "\n",
    "This step demonstrates a basic multimodal interaction using the `OpenAIResponseClient` object in the Azure OpenAI Responses API. The assistant receives both a text prompt and an image input, allowing it to provide context-aware analysis based on visual content.\n",
    "\n",
    "The `ResponseCreationOptions` object gives more fine granular control how the model should process the provided prompt.\n",
    "\n",
    "The `Instructions` property on the `ResponseCreationOptions` object is where you define the assistant's behavior, tone, or domain-specific guidance when you're working with Azure's Responses API.\n",
    "\n",
    "Instructions: `\"You describe the style of images!\"`\n",
    "\n",
    "Prompt: `\"In which style is the image? Is it cartoon or photorealistic?\"`"
   ]
  },
  {
   "cell_type": "code",
   "execution_count": 26,
   "id": "b4fef6f9",
   "metadata": {},
   "outputs": [
    {
     "name": "stdout",
     "output_type": "stream",
     "text": [
      "Multi modal message created!\r\n"
     ]
    }
   ],
   "source": [
    "\n",
    "// Prepare response creation options\n",
    "ResponseCreationOptions options = new ResponseCreationOptions\n",
    "{\n",
    "    Instructions = \"You describe the style of images!\",\n",
    "    TruncationMode = ResponseTruncationMode.Auto\n",
    "};\n",
    "\n",
    "// Load image bytes from file system\n",
    "string imagePath = \"../../Assets/Image/SuperBowl_Sketch.png\";\n",
    "BinaryData imageBytes = BinaryData.FromBytes(await File.ReadAllBytesAsync(imagePath));\n",
    "\n",
    "\n",
    "// Create a multimodal user message with text and image\n",
    "var multimodalMessage = ResponseItem.CreateUserMessageItem(\n",
    "    new ResponseContentPart[]\n",
    "    {\n",
    "        ResponseContentPart.CreateInputTextPart(\"In which style is the image? Is it cartoon or photorealistic?\"),\n",
    "        ResponseContentPart.CreateInputImagePart(imageBytes, \"image/png\", ResponseImageDetailLevel.Low)\n",
    "    }\n",
    ");\n",
    "\n",
    "// Assemble all messages (single multimodal message in this case)\n",
    "List<ResponseItem> messages = new List<ResponseItem> { multimodalMessage };\n",
    "\n",
    "Console.WriteLine($\"Multi modal message created!\");\n"
   ]
  },
  {
   "cell_type": "markdown",
   "id": "7a8bc9c9",
   "metadata": {},
   "source": [
    "## Step 2: Call Model\n",
    "\n",
    "The method `CreateResponseAsync()`of the `OpenAIResponseClient` object can be used to provide the data to the model and retrieve the model response.\n"
   ]
  },
  {
   "cell_type": "code",
   "execution_count": 27,
   "id": "55159348",
   "metadata": {},
   "outputs": [
    {
     "name": "stdout",
     "output_type": "stream",
     "text": [
      "Model response: \n",
      " The image is in a cartoon style. It features bold lines, simplified forms, and vibrant colors, particularly in the confetti, giving it a playful and illustrative feel.\r\n"
     ]
    }
   ],
   "source": [
    "// Send request to model\n",
    "OpenAIResponse response = await responseClient.CreateResponseAsync(messages, options);\n",
    "\n",
    "// Output results\n",
    "Console.WriteLine($\"Model response: \\n {response.GetOutputText()}\"); "
   ]
  }
 ],
 "metadata": {
  "kernelspec": {
   "display_name": ".NET (C#)",
   "language": "C#",
   "name": ".net-csharp"
  },
  "language_info": {
   "name": "polyglot-notebook"
  },
  "polyglot_notebook": {
   "kernelInfo": {
    "defaultKernelName": "csharp",
    "items": [
     {
      "aliases": [],
      "name": "csharp"
     }
    ]
   }
  }
 },
 "nbformat": 4,
 "nbformat_minor": 5
}
