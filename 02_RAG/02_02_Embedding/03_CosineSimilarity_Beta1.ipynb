{
 "cells": [
  {
   "cell_type": "markdown",
   "metadata": {},
   "source": [
    "# 02 RAG | 03 Embeddings | 01 Vector Distance\n",
    "\n",
    "## Intro\n",
    "\n",
    "Cosine similarity is a metric used to determine the cosine of the angle between two non-zero vectors in a multi-dimensional space. It's a measure of similarity between two vectors, with a value ranging from -1 (completely dissimilar) to 1 (completely similar). \n",
    "\n",
    "This metric is widely used in various domains including text analysis, recommendation systems, and machine learning. The appeal of cosine similarity lies in its effectiveness, especially in high-dimensional spaces, and its independence from vector magnitude which can be particularly useful in text analysis where the length of the documents can vary significantly."
   ]
  },
  {
   "cell_type": "markdown",
   "metadata": {},
   "source": [
    "## Azure Environment\n",
    "\n",
    "To execute the sample code Azure service specific information like endpoint, api key etc. is needed ([Details and instructions can be found here](../01_DemoEnvironment/01_Environment.ipynb))\n",
    "\n",
    "## Step 1: Create OpenAIClient\n",
    "\n",
    "The OpenAIClient from Azure.AI.OpenAI is a .NET client library that acts as the centralized point for all .NET functionality that want to interact with a deployed Azure OpenAI Large Language Model. It provides methods to access the OpenAI REST APIs for various tasks such as text completion, text embedding, and chat completion, etc.. It also allows developers to specify the model, engine, and options for each request, such as temperature, frequency penalty, presence penalty, and stop sequences. \n",
    "\n",
    "The OpenAIClient can connect to any Azure OpenAI resource or to the non-Azure OpenAI inference endpoint, making it a versatile and powerful tool for .NET development with OpenAI."
   ]
  },
  {
   "cell_type": "code",
   "execution_count": 1,
   "metadata": {
    "dotnet_interactive": {
     "language": "csharp"
    },
    "polyglot_notebook": {
     "kernelName": "csharp"
    }
   },
   "outputs": [
    {
     "data": {
      "text/html": [
       "<div><div></div><div></div><div><strong>Installed Packages</strong><ul><li><span>Azure.AI.OpenAI, 1.0.0-beta.16</span></li><li><span>DotNetEnv, 2.5.0</span></li></ul></div></div>"
      ]
     },
     "metadata": {},
     "output_type": "display_data"
    },
    {
     "name": "stdout",
     "output_type": "stream",
     "text": [
      "OpenAI Client created...\r\n"
     ]
    }
   ],
   "source": [
    "#r \"nuget: Azure.AI.OpenAI, 1.0.0-beta.16\"\n",
    "#r \"nuget: DotNetEnv, 2.5.0\"\n",
    "\n",
    "using Azure; \n",
    "using Azure.AI.OpenAI;\n",
    "using DotNetEnv;\n",
    "using System.IO;\n",
    "\n",
    "//configuration file is created during environment creation\n",
    "static string _configurationFile = @\"../Configuration/application.env\";\n",
    "Env.Load(_configurationFile);\n",
    "\n",
    "string oAiApiKey = Environment.GetEnvironmentVariable(\"WS_AOAI_APIKEY\") ?? \"WS_AOAI_APIKEY not found\";\n",
    "string oAiEndpoint = Environment.GetEnvironmentVariable(\"WS_AOAI_ENDPOINT\") ?? \"WS_AOAI_ENDPOINT not found\";\n",
    "string embeddingDeploymentName = Environment.GetEnvironmentVariable(\"WS_EMBEDDING_DEPLOYMENTNAME\") ?? \"WS_EMBEDDING_DEPLOYMENTNAME not found\";\n",
    "\n",
    "string assetsFolder = Path.Combine(Directory.GetCurrentDirectory(), \"..\", \"assets\");\n",
    "\n",
    "AzureKeyCredential azureKeyCredential = new AzureKeyCredential(oAiApiKey);\n",
    "OpenAIClient openAIClient = new OpenAIClient(new Uri(oAiEndpoint), azureKeyCredential);\n",
    "\n",
    "Console.WriteLine($\"OpenAI Client created...\");\n"
   ]
  },
  {
   "cell_type": "markdown",
   "metadata": {},
   "source": [
    "## Step 2: Cosine similarity\n",
    "\n",
    "The following method provides the Cosine distance between two given vectors.\n",
    "\n",
    "Azure and OpenAI provide various tools and platforms that leverage similarity metrics like cosine similarity for various applications. For instance, Azure Machine Learning or [Azure AI Search](https://learn.microsoft.com/en-us/azure/search/search-what-is-azure-search) offer functionalities that allow for text analytics and building recommendation systems where cosine similarity can be employed to measure similarity between items.\n",
    "\n",
    "Another alternative is to use ```MathNet.Numerics``` package and the Distance method. This method provides a variety of distance metrics, including cosine similarity. The following code snippet shows how to use this method to calculate cosine similarity between two vectors.\n"
   ]
  },
  {
   "cell_type": "code",
   "execution_count": 2,
   "metadata": {
    "dotnet_interactive": {
     "language": "csharp"
    },
    "polyglot_notebook": {
     "kernelName": "csharp"
    }
   },
   "outputs": [],
   "source": [
    "static double CalculateCosineDistance(double[] vectorA, double[] vectorB)\n",
    "{\n",
    "    if (vectorA.Length != vectorB.Length)\n",
    "    {\n",
    "        throw new ArgumentException(\"Vectors must be the same length\");\n",
    "    }\n",
    "\n",
    "    double dotProduct = 0;\n",
    "    double magnitudeA = 0;\n",
    "    double magnitudeB = 0;\n",
    "\n",
    "    for (int i = 0; i < vectorA.Length; i++)\n",
    "    {\n",
    "        dotProduct += vectorA[i] * vectorB[i];\n",
    "        magnitudeA += Math.Pow(vectorA[i], 2);\n",
    "        magnitudeB += Math.Pow(vectorB[i], 2);\n",
    "    }\n",
    "\n",
    "    double cosineSimilarity = dotProduct / (Math.Sqrt(magnitudeA) * Math.Sqrt(magnitudeB));\n",
    "    double cosineDistance = 1 - cosineSimilarity;\n",
    "\n",
    "    return cosineDistance;\n",
    "}"
   ]
  },
  {
   "cell_type": "markdown",
   "metadata": {},
   "source": [
    "## Step 3: Calculate Embeddings\n",
    "\n",
    "Embeddings: \n",
    "- Information from `Path.Combine(assetsFolder, \"Embedding\", \"WikiSuperBowl2024.txt)`, which contains information about the Super Bowl 2024 will be embedded.\n",
    "- Information from `Path.Combine(assetsFolder, \"Embedding\", \"WikiAKS.txt)`, which contains information about Azure Kubernetes Service (AKS) will be embedded.\n",
    "- The phrase `The Kansas City Chiefs won the Super Bowl 2024` will be embedded\n",
    "- The question `Who won the Super Bowl 2024` will be embedded.\n",
    "\n"
   ]
  },
  {
   "cell_type": "code",
   "execution_count": 3,
   "metadata": {
    "dotnet_interactive": {
     "language": "csharp"
    },
    "polyglot_notebook": {
     "kernelName": "csharp"
    }
   },
   "outputs": [
    {
     "name": "stdout",
     "output_type": "stream",
     "text": [
      "Vector from c:\\Sourcen\\GitHubProjects\\OpenAI.Workshop\\03_Embedding\\..\\assets\\Embedding\\WikiSuperBowl2024.txt created...\n",
      "Vector from c:\\Sourcen\\GitHubProjects\\OpenAI.Workshop\\03_Embedding\\..\\assets\\Embedding\\WikiAKS.txt created...\n",
      "Vector from The Kansas City Chiefs won the Super Bowl 2024 created...\n",
      "Vector from 'Who won the Super Bowl 2024?' created... Vector Length: 1536\n"
     ]
    }
   ],
   "source": [
    "// Vectorize input text from file (Super Bowl 2024)\n",
    "string documentationPage = Path.Combine(assetsFolder,\"Embedding\", \"WikiSuperBowl2024.txt\");\n",
    "string textToBeVecorized = File.ReadAllText(documentationPage);\n",
    "\n",
    "EmbeddingsOptions embeddingsOptions = new EmbeddingsOptions(embeddingDeploymentName, new List<string> { textToBeVecorized });\n",
    "var modelResponse = await openAIClient.GetEmbeddingsAsync( embeddingsOptions);\n",
    "float[] vectorDocumentationSuperBowl = modelResponse.Value.Data[0].Embedding.ToArray();\n",
    "\n",
    "Console.WriteLine($\"Vector from {documentationPage} created...\");\n",
    "\n",
    "// Vectorize input text from file (Super Bowl 2024)\n",
    "documentationPage = Path.Combine(assetsFolder,\"Embedding\", \"WikiAKS.txt\");\n",
    "textToBeVecorized = File.ReadAllText(documentationPage);\n",
    "\n",
    "embeddingsOptions = new EmbeddingsOptions(embeddingDeploymentName, new List<string> { textToBeVecorized });\n",
    "modelResponse = await openAIClient.GetEmbeddingsAsync( embeddingsOptions);\n",
    "float[] vectorDocumentationAKS = modelResponse.Value.Data[0].Embedding.ToArray();\n",
    "\n",
    "Console.WriteLine($\"Vector from {documentationPage} created...\");\n",
    "\n",
    "//Vectorize \"top answer\"\n",
    "textToBeVecorized = \"The Kansas City Chiefs won the Super Bowl 2024\";\n",
    "embeddingsOptions = new EmbeddingsOptions(embeddingDeploymentName, new List<string> { textToBeVecorized });\n",
    "modelResponse = await openAIClient.GetEmbeddingsAsync( embeddingsOptions);\n",
    "float[] vectorTopAnswer = modelResponse.Value.Data[0].Embedding.ToArray();\n",
    "\n",
    "Console.WriteLine($\"Vector from {textToBeVecorized} created...\");\n",
    "\n",
    "\n",
    "// Vectorize question\n",
    "string question = \"Who won the Super Bowl 2024?\";\n",
    "embeddingsOptions = new EmbeddingsOptions(embeddingDeploymentName, new List<string> { question });\n",
    "modelResponse = await openAIClient.GetEmbeddingsAsync(embeddingsOptions);\n",
    "float[] vectorQuery = modelResponse.Value.Data[0].Embedding.ToArray();\n",
    "\n",
    "Console.WriteLine($\"Vector from '{question}' created...\");"
   ]
  },
  {
   "cell_type": "markdown",
   "metadata": {},
   "source": [
    "## Step 4: Calculate Cosine Distance\n",
    "\n",
    "Cosine distance for \"Super Bowl Information\", \"AKS Information\" and the phrase \"The Kansas City Chiefs won the Super Bowl 2024\" are calculated."
   ]
  },
  {
   "cell_type": "code",
   "execution_count": null,
   "metadata": {
    "dotnet_interactive": {
     "language": "csharp"
    },
    "polyglot_notebook": {
     "kernelName": "csharp"
    }
   },
   "outputs": [],
   "source": [
    "#r \"nuget: MathNet.Numerics, 5.0.0\"\n",
    "using MathNet.Numerics;\n",
    "float distanceSuperBowl = Distance.Cosine(vectorDocumentationSuperBowl, vectorQuery);\n",
    "float distanceAKS = Distance.Cosine(vectorDocumentationAKS, vectorQuery);\n",
    "float distanceTop = Distance.Cosine(vectorTopAnswer, vectorQuery);\n",
    "\n",
    "Console.WriteLine($\"Vector distance Super Bowl: {distanceSuperBowl}\");\n",
    "Console.WriteLine($\"Vector distance AKS: {distanceAKS}\");\n",
    "Console.WriteLine($\"Vector distance Top Answer: {distanceTop}\");\n"
   ]
  }
 ],
 "metadata": {
  "kernelspec": {
   "display_name": ".NET (C#)",
   "language": "C#",
   "name": ".net-csharp"
  },
  "language_info": {
   "name": "polyglot-notebook"
  },
  "polyglot_notebook": {
   "kernelInfo": {
    "defaultKernelName": "csharp",
    "items": [
     {
      "aliases": [],
      "languageName": "csharp",
      "name": "csharp"
     }
    ]
   }
  }
 },
 "nbformat": 4,
 "nbformat_minor": 2
}
