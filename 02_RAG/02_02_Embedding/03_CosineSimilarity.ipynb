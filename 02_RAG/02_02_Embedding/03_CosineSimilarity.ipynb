{
 "cells": [
  {
   "cell_type": "markdown",
   "metadata": {},
   "source": [
    "# 02 RAG | 02 Embeddings | 03 Cosine Similarity\n",
    "\n",
    "## Intro\n",
    "\n",
    "Cosine similarity is a metric used to determine the cosine of the angle between two non-zero vectors in a multi-dimensional space. It's a measure of similarity between two vectors, with a value ranging from -1 (completely dissimilar) to 1 (completely similar). \n",
    "\n",
    "This metric is widely used in various domains including text analysis, recommendation systems, and machine learning. The appeal of cosine similarity lies in its effectiveness, especially in high-dimensional spaces, and its independence from vector magnitude which can be particularly useful in text analysis where the length of the documents can vary significantly.\n",
    "\n",
    "## Step 1: Load existing embeddings\n",
    "\n",
    "Embeddings: \n",
    "- Vector created from `Path.Combine(assetsFolder, \"Embedding\", \"WikiSuperBowl2024.txt)`, which contains information about the Super Bowl 2024 is loaded.\n",
    "- Vector created from `Path.Combine(assetsFolder, \"Embedding\", \"WikiAKS.txt)`, which contains information about Azure Kubernetes Service (AKS) is loaded.\n",
    "- Vector created from the phrase `The Kansas City Chiefs won the Super Bowl 2024` is loaded\n",
    "- Vector created from the question `Who won the Super Bowl 2024` is loaded\n",
    "\n",
    "The vectors / embeddings are created in the [TextEmbeddings Notebook](./01_TextEmbeddings.ipynb)"
   ]
  },
  {
   "cell_type": "code",
   "execution_count": 1,
   "metadata": {
    "dotnet_interactive": {
     "language": "csharp"
    },
    "polyglot_notebook": {
     "kernelName": "csharp"
    }
   },
   "outputs": [
    {
     "data": {
      "text/html": [
       "<div><div></div><div></div><div><strong>Installed Packages</strong><ul><li><span>DotNetEnv, 2.5.0</span></li></ul></div></div>"
      ]
     },
     "metadata": {},
     "output_type": "display_data"
    },
    {
     "name": "stdout",
     "output_type": "stream",
     "text": [
      "Embeddings loaded successfully...\r\n"
     ]
    }
   ],
   "source": [
    "#r \"nuget: DotNetEnv, 2.5.0\"\n",
    "\n",
    "using DotNetEnv; \n",
    "using System.IO;\n",
    "\n",
    "//configuration file is created during environment creation\n",
    "static string configurationFile = @\"../../Configuration/application.env\";\n",
    "Env.Load(configurationFile);\n",
    "\n",
    "// Load embeddings\n",
    "string assetsFolder = Environment.GetEnvironmentVariable(\"WS_ASSETS_FOLDER\") ?? \"WS_ASSETS_FOLDER not found\";;\n",
    "\n",
    "string wikiAKSFileName = Path.Combine(assetsFolder, \"Embedding\", \"TextEmbedding_WikiAks.txt\");\n",
    "string wikiSuperBowlFileName = Path.Combine(assetsFolder, \"Embedding\", \"TextEmbedding_WikiSuperBowl.txt\");\n",
    "string queryVectorFileName = Path.Combine(assetsFolder, \"Embedding\", \"TextEmbedding_Query.txt\");\n",
    "string statementVectorFileName = Path.Combine(assetsFolder, \"Embedding\", \"TextEmbedding_Statement.txt\");\n",
    "\n",
    "float[] wikiAKSVector = File.ReadAllLines(wikiAKSFileName).Select(float.Parse).ToArray();\n",
    "float[] wikiSuperBowlVector = File.ReadAllLines(wikiSuperBowlFileName).Select(float.Parse).ToArray();\n",
    "float[] queryVector = File.ReadAllLines(queryVectorFileName).Select(float.Parse).ToArray();\n",
    "float[] statementVector = File.ReadAllLines(statementVectorFileName).Select(float.Parse).ToArray();\n",
    "\n",
    "Console.WriteLine(\"Embeddings loaded successfully...\");\n"
   ]
  },
  {
   "cell_type": "markdown",
   "metadata": {},
   "source": [
    "## Step 2: Calculate Cosine Similarity\n",
    "\n",
    "\n",
    "\n"
   ]
  },
  {
   "cell_type": "code",
   "execution_count": 2,
   "metadata": {
    "dotnet_interactive": {
     "language": "csharp"
    },
    "polyglot_notebook": {
     "kernelName": "csharp"
    }
   },
   "outputs": [
    {
     "data": {
      "text/html": [
       "<div><div></div><div></div><div><strong>Installed Packages</strong><ul><li><span>System.Numerics.Tensors, 9.0.0-preview.5.24306.7</span></li></ul></div></div>"
      ]
     },
     "metadata": {},
     "output_type": "display_data"
    },
    {
     "name": "stdout",
     "output_type": "stream",
     "text": [
      "Similarity between WikiAKS and Query: 0.632726\n",
      "Similarity between WikiSuperBowl and Query: 0.8209593\n",
      "Similarity between Statement and Query: 0.88918716\n"
     ]
    }
   ],
   "source": [
    "#r \"nuget: System.Numerics.Tensors, 9.0.0-preview.5.24306.7\"\n",
    "\n",
    "using System.Numerics.Tensors;\n",
    "\n",
    "public float CalculateCosineSimilarity(float[] vector1, float[] vector2)\n",
    "{\n",
    "    ReadOnlySpan<float> span1 = new ReadOnlySpan<float>(vector1);\n",
    "    ReadOnlySpan<float> span2 = new ReadOnlySpan<float>(vector2);\n",
    "\n",
    "    return TensorPrimitives.CosineSimilarity(span1, span2);\n",
    "}\n",
    "\n",
    "float similarityWikiAKSQuery = CalculateCosineSimilarity(wikiAKSVector, queryVector);\n",
    "float similarityWikiSuperBowlQuery = CalculateCosineSimilarity(wikiSuperBowlVector, queryVector);\n",
    "float similarityStatementQuery = CalculateCosineSimilarity(statementVector, queryVector);\n",
    "\n",
    "Console.WriteLine($\"Similarity between WikiAKS and Query: {similarityWikiAKSQuery}\");\n",
    "Console.WriteLine($\"Similarity between WikiSuperBowl and Query: {similarityWikiSuperBowlQuery}\");\n",
    "Console.WriteLine($\"Similarity between Statement and Query: {similarityStatementQuery}\");\n"
   ]
  },
  {
   "cell_type": "markdown",
   "metadata": {},
   "source": [
    "## Step 3: Understand Results\n",
    "\n",
    "- The highest Cosine Similarity is achieved by comparing the statement *The Kansas City Chiefs won the Super Bowl 2024* with the question *Who won the Super Bowl 2024*\n",
    "- The second highest Cosine Similarity is achieved by comparing the [Wikipedia information](../../assets/Embedding/WikiSuperBowl2024.txt) about the super bowl with the question *Who won the Super Bowl 2024*\n",
    "- The lowest Cosine Similarity is achieved by comparing the [Azure Kubernetes Documenation](../../assets/Embedding/WikiAksVector.txt) with the question *Who won the Super Bowl 2024*\n",
    "\n",
    "Showing how close the statement and the question are from a semantic meaning. "
   ]
  }
 ],
 "metadata": {
  "kernelspec": {
   "display_name": ".NET (C#)",
   "language": "C#",
   "name": ".net-csharp"
  },
  "language_info": {
   "name": "polyglot-notebook"
  },
  "polyglot_notebook": {
   "kernelInfo": {
    "defaultKernelName": "csharp",
    "items": [
     {
      "aliases": [],
      "languageName": "csharp",
      "name": "csharp"
     }
    ]
   }
  }
 },
 "nbformat": 4,
 "nbformat_minor": 2
}
