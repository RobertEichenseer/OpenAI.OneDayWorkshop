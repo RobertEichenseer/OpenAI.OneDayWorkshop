{
 "cells": [
  {
   "cell_type": "markdown",
   "metadata": {},
   "source": [
    "# 02 RAG | 02 Embeddings | 02 Image Embeddings\n",
    "\n",
    "## Azure Environment\n",
    "\n",
    "To execute the sample code Azure service specific information like endpoint, api key etc. is needed ([Details and instructions can be found here](../01_CreateEnvironment/01_Environment.ipynb))\n",
    "\n",
    "## Step 1: Load environment variables"
   ]
  },
  {
   "cell_type": "code",
   "execution_count": null,
   "metadata": {
    "dotnet_interactive": {
     "language": "csharp"
    },
    "polyglot_notebook": {
     "kernelName": "csharp"
    }
   },
   "outputs": [],
   "source": [
    "#r \"nuget: DotNetEnv, 2.5.0\"\n",
    "#r \"nuget: Azure.Storage.Blobs, 12.19.0\"\n",
    "\n",
    "using System.IO;\n",
    "using DotNetEnv;\n",
    "\n",
    "string configurationFile = \"../../Configuration/application.env\";\n",
    "Env.Load(configurationFile);\n",
    "\n",
    "string visionApiKey = Env.GetString(\"WS_VISION_APIKEY\");\n",
    "string visionEndPoint = Env.GetString(\"WS_VISION_ENDPOINT\");\n",
    "string storageConnectionString = Env.GetString(\"WS_STORAGE_CONNECTIONSTRING\");\n",
    "\n",
    "Console.WriteLine(\"Nuget packages installed...\");\n",
    "Console.WriteLine(\"Configuration file loaded...\");\n"
   ]
  },
  {
   "cell_type": "markdown",
   "metadata": {},
   "source": [
    "**Expected result:**\n",
    "\n",
    "Installed Packages\n",
    "- Azure.Storage.Blobs, 12.19.0\n",
    "- DotNetEnv, 2.5.0\n",
    "\n",
    "Nuget packages installed...\n",
    "\n",
    "Configuration file loaded..."
   ]
  },
  {
   "cell_type": "markdown",
   "metadata": {},
   "source": [
    "## Step 2: Load helper class\n"
   ]
  },
  {
   "cell_type": "code",
   "execution_count": null,
   "metadata": {
    "dotnet_interactive": {
     "language": "csharp"
    },
    "polyglot_notebook": {
     "kernelName": "csharp"
    }
   },
   "outputs": [],
   "source": [
    "#!import \"02_ImageEmbeddingsHelper.csx\"\n",
    "\n",
    "Console.WriteLine($\"Class AiVisionHelper with methods:\");\n",
    "Console.WriteLine($\"- GetTextEmbedding(string text)\");\n",
    "Console.WriteLine($\"- GetImageEmbedding(string imageUrl)\");\n",
    "Console.WriteLine($\"- UploadLocalFile(string localFilePath, string containerName, string blobName)\");\n",
    "Console.WriteLine($\"created...\");"
   ]
  },
  {
   "cell_type": "markdown",
   "metadata": {},
   "source": [
    "**Expected output:**\n",
    "Class AiVisionHelper with methods:\n",
    "- GetTextEmbedding(string text)\n",
    "- GetImageEmbedding(string imageUrl)\n",
    "- UploadLocalFile(string localFilePath, string containerName, string blobName)\n",
    "  \n",
    "created..."
   ]
  },
  {
   "cell_type": "markdown",
   "metadata": {},
   "source": [
    "## Step 2: Create image embedding\n"
   ]
  },
  {
   "cell_type": "code",
   "execution_count": 23,
   "metadata": {
    "dotnet_interactive": {
     "language": "csharp"
    },
    "polyglot_notebook": {
     "kernelName": "csharp"
    }
   },
   "outputs": [
    {
     "name": "stdout",
     "output_type": "stream",
     "text": [
      "Image embedding created...\n",
      "- File: ../../Assets/Embedding/SuperBowl_Photorealistic.png\n",
      "- Vector Size: 1024\n"
     ]
    }
   ],
   "source": [
    "AiVisionHelper _aiVisionHelper = new AiVisionHelper(visionApiKey, visionEndPoint, storageConnectionString);\n",
    "\n",
    "string fileName = \"../../Assets/Embedding/SuperBowl_Photorealistic.png\";\n",
    "Uri sasUri = await _aiVisionHelper.UploadLocalFile(fileName, \"architecture\", Path.GetFileName(fileName));\n",
    "float[] imageEmbedding = await _aiVisionHelper.GetImageEmbedding(sasUri.ToString());\n",
    "\n",
    "Console.WriteLine(\"Image embedding created...\");\n",
    "Console.WriteLine($\"- File: {fileName}\");\n",
    "Console.WriteLine($\"- Vector Size: {imageEmbedding.Length}\");\n"
   ]
  },
  {
   "cell_type": "markdown",
   "metadata": {},
   "source": [
    "**Expected result:**\n",
    "\n",
    "Image embedding created...\n",
    "- File: ../../Assets/Embedding/SuperBowl_Photorealistic.png\n",
    "- Vector Size: 1024"
   ]
  },
  {
   "cell_type": "markdown",
   "metadata": {},
   "source": [
    "## Step 3: Create text embedding"
   ]
  },
  {
   "cell_type": "code",
   "execution_count": 24,
   "metadata": {
    "dotnet_interactive": {
     "language": "csharp"
    },
    "polyglot_notebook": {
     "kernelName": "csharp"
    }
   },
   "outputs": [
    {
     "name": "stdout",
     "output_type": "stream",
     "text": [
      "Text embedding created...\r\n"
     ]
    }
   ],
   "source": [
    "string question = \"US American Team winning the Super Bowl\";\n",
    "\n",
    "float[] textEmbedding = await _aiVisionHelper.GetTextEmbedding(question);\n",
    "\n",
    "Console.WriteLine($\"Text embedding created...\");"
   ]
  },
  {
   "cell_type": "markdown",
   "metadata": {},
   "source": [
    "**Expected result:**\n",
    "\n",
    "Text embedding created...\n"
   ]
  },
  {
   "cell_type": "markdown",
   "metadata": {},
   "source": [
    "## Step 4: Store embeddings\n",
    "\n",
    "The embeddings will be stored for further usage."
   ]
  },
  {
   "cell_type": "code",
   "execution_count": 26,
   "metadata": {
    "dotnet_interactive": {
     "language": "csharp"
    },
    "polyglot_notebook": {
     "kernelName": "csharp"
    }
   },
   "outputs": [
    {
     "name": "stdout",
     "output_type": "stream",
     "text": [
      "Image embedding stored in ../../Assets/Embedding/MultiModalImageEmbedding.txt...\n",
      "Text embedding stored in ../../Assets/Embedding/MultiModalTextEmbedding.txt...\n"
     ]
    }
   ],
   "source": [
    "using System.Linq;\n",
    "\n",
    "string imageEmbeddingFile = \"../../Assets/Embedding/MultiModalImageEmbedding.txt\";\n",
    "string textEmbeddingFile = \"../../Assets/Embedding/MultiModalTextEmbedding.txt\";\n",
    "\n",
    "await File.WriteAllLinesAsync(\n",
    "    imageEmbeddingFile, \n",
    "    imageEmbedding.ToArray().Select(vector => vector.ToString())\n",
    ");\n",
    "\n",
    "await File.WriteAllLinesAsync(\n",
    "    textEmbeddingFile, \n",
    "    textEmbedding.ToArray().Select(vector => vector.ToString())\n",
    ");\n",
    "\n",
    "Console.WriteLine($\"Image embedding stored in {imageEmbeddingFile}...\");\n",
    "Console.WriteLine($\"Text embedding stored in {textEmbeddingFile}...\");\n"
   ]
  },
  {
   "cell_type": "markdown",
   "metadata": {},
   "source": [
    "**Expected result:**\n",
    "\n",
    "Image embedding stored in ../../Assets/Embedding/MultiModalImageEmbedding.txt...\n",
    "\n",
    "Text embedding stored in ../../Assets/Embedding/MultiModalTextEmbedding.txt..."
   ]
  }
 ],
 "metadata": {
  "kernelspec": {
   "display_name": ".NET (C#)",
   "language": "C#",
   "name": ".net-csharp"
  },
  "language_info": {
   "name": "polyglot-notebook"
  },
  "polyglot_notebook": {
   "kernelInfo": {
    "defaultKernelName": "csharp",
    "items": [
     {
      "aliases": [],
      "languageName": "csharp",
      "name": "csharp"
     }
    ]
   }
  }
 },
 "nbformat": 4,
 "nbformat_minor": 2
}
