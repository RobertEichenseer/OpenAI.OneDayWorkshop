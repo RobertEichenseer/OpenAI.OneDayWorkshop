{
 "cells": [
  {
   "cell_type": "markdown",
   "metadata": {},
   "source": [
    "# 02 RAG | 02 Embeddings | 02 Image Embeddings\n",
    "\n",
    "## Azure Environment\n",
    "\n",
    "Necessary parameter are imported from [./Configuration/application.env]. Check [Create Environment](../../01_CreateEnvironment/01_Environment.ipynb) to setup the necessary demo environment.\n",
    "\n",
    "The capability to generate vectors from images and text within the same multi-dimensional space is provided by Azure AI Vision. The current Azure AI Vision .NET SDK does not support this functionality, so REST API calls are used to interact with the Azure AI Vision instance to achieve this integration.\n",
    "\n",
    "## Step 1: Load environment variables"
   ]
  },
  {
   "cell_type": "code",
   "execution_count": 1,
   "metadata": {
    "dotnet_interactive": {
     "language": "csharp"
    },
    "polyglot_notebook": {
     "kernelName": "csharp"
    }
   },
   "outputs": [
    {
     "data": {
      "text/html": [
       "<div><div></div><div></div><div><strong>Installed Packages</strong><ul><li><span>Azure.Storage.Blobs, 12.19.0</span></li><li><span>DotNetEnv, 2.5.0</span></li></ul></div></div>"
      ]
     },
     "metadata": {},
     "output_type": "display_data"
    },
    {
     "name": "stdout",
     "output_type": "stream",
     "text": [
      "Nuget packages installed...\n",
      "Configuration file loaded...\n"
     ]
    }
   ],
   "source": [
    "#r \"nuget: DotNetEnv, 2.5.0\"\n",
    "#r \"nuget: Azure.Storage.Blobs, 12.19.0\"\n",
    "\n",
    "using System.IO;\n",
    "using DotNetEnv;\n",
    "\n",
    "string configurationFile = \"../../Configuration/application.env\";\n",
    "Env.Load(configurationFile);\n",
    "\n",
    "string visionApiKey = Env.GetString(\"WS_VISION_APIKEY\");\n",
    "string visionEndPoint = Env.GetString(\"WS_VISION_ENDPOINT\");\n",
    "string storageConnectionString = Env.GetString(\"WS_STORAGE_CONNECTIONSTRING\");\n",
    "\n",
    "Console.WriteLine(\"Nuget packages installed...\");\n",
    "Console.WriteLine(\"Configuration file loaded...\");\n"
   ]
  },
  {
   "cell_type": "markdown",
   "metadata": {},
   "source": [
    "## Step 2: Load helper class\n",
    "\n",
    "The [helper class](02_ImageEmbeddingsHelper.csx) provides functionality to: \n",
    "\n",
    "- `GetTextEmbedding()` using the deployed Azure AI Vision instance\n",
    "- `GetImageEmbedding()` using the deployed Azure AI Vision instance\n",
    "- `UploadLocalFile()` to upload an image file to an Azure blob storage "
   ]
  },
  {
   "cell_type": "code",
   "execution_count": 2,
   "metadata": {
    "dotnet_interactive": {
     "language": "csharp"
    },
    "polyglot_notebook": {
     "kernelName": "csharp"
    }
   },
   "outputs": [
    {
     "name": "stdout",
     "output_type": "stream",
     "text": [
      "Class AiVisionHelper with methods:\n",
      "- GetTextEmbedding(string text)\n",
      "- GetImageEmbedding(string imageUrl)\n",
      "- UploadLocalFile(string localFilePath, string containerName, string blobName)\n",
      "created...\n"
     ]
    }
   ],
   "source": [
    "#!import \"02_ImageEmbeddingsHelper.csx\"\n",
    "\n",
    "Console.WriteLine($\"Class AiVisionHelper with methods:\");\n",
    "Console.WriteLine($\"- GetTextEmbedding(string text)\");\n",
    "Console.WriteLine($\"- GetImageEmbedding(string imageUrl)\");\n",
    "Console.WriteLine($\"- UploadLocalFile(string localFilePath, string containerName, string blobName)\");\n",
    "Console.WriteLine($\"created...\");"
   ]
  },
  {
   "cell_type": "markdown",
   "metadata": {},
   "source": [
    "## Step 2: Create image embedding\n",
    "\n",
    "Three embeddings from an image provided in the assets folder showing an US american team winning the Super Bowl in different styles are created.\n"
   ]
  },
  {
   "cell_type": "code",
   "execution_count": 3,
   "metadata": {
    "dotnet_interactive": {
     "language": "csharp"
    },
    "polyglot_notebook": {
     "kernelName": "csharp"
    }
   },
   "outputs": [
    {
     "name": "stdout",
     "output_type": "stream",
     "text": [
      "Image embeddings created...\r\n"
     ]
    }
   ],
   "source": [
    "AiVisionHelper _aiVisionHelper = new AiVisionHelper(visionApiKey, visionEndPoint, storageConnectionString);\n",
    "\n",
    "// Embeding from photo realistic image\n",
    "string fileName = \"../../Assets/Image/SuperBowl_Photorealistic.png\";\n",
    "Uri sasUri = await _aiVisionHelper.UploadLocalFile(fileName, \"architecture\", Path.GetFileName(fileName));\n",
    "float[] imageEmbeddingPhotorealistic = await _aiVisionHelper.GetImageEmbedding(sasUri.ToString());\n",
    "\n",
    "// Embeding from sketch style image\n",
    "fileName = \"../../Assets/Image/SuperBowl_Photorealistic.png\";\n",
    "sasUri = await _aiVisionHelper.UploadLocalFile(fileName, \"architecture\", Path.GetFileName(fileName));\n",
    "float[] imageEmbeddingSketch = await _aiVisionHelper.GetImageEmbedding(sasUri.ToString());\n",
    "\n",
    "// Embeding from oilpainting style\n",
    "fileName = \"../../Assets/Image/SuperBowl_Oilpainting.png\";\n",
    "sasUri = await _aiVisionHelper.UploadLocalFile(fileName, \"architecture\", Path.GetFileName(fileName));\n",
    "float[] imageEmbeddingOilpainting = await _aiVisionHelper.GetImageEmbedding(sasUri.ToString());\n",
    "\n",
    "Console.WriteLine(\"Image embeddings created...\");"
   ]
  },
  {
   "cell_type": "markdown",
   "metadata": {},
   "source": [
    "## Step 3: Create text embedding\n",
    "\n",
    "An embedding from the text literal *US American Team winning the Super Bowl\" will be created using the same model in the above code cell to create an embedding out of an image."
   ]
  },
  {
   "cell_type": "code",
   "execution_count": 4,
   "metadata": {
    "dotnet_interactive": {
     "language": "csharp"
    },
    "polyglot_notebook": {
     "kernelName": "csharp"
    }
   },
   "outputs": [
    {
     "name": "stdout",
     "output_type": "stream",
     "text": [
      "Text embedding created...\r\n"
     ]
    }
   ],
   "source": [
    "string question = \"US American Team winning the Super Bowl\";\n",
    "\n",
    "float[] textEmbedding = await _aiVisionHelper.GetTextEmbedding(question);\n",
    "\n",
    "Console.WriteLine($\"Text embedding created...\");"
   ]
  },
  {
   "cell_type": "markdown",
   "metadata": {},
   "source": [
    "## Step 4: Store embeddings\n",
    "\n",
    "The embeddings will be stored for further usage."
   ]
  },
  {
   "cell_type": "code",
   "execution_count": 5,
   "metadata": {
    "dotnet_interactive": {
     "language": "csharp"
    },
    "polyglot_notebook": {
     "kernelName": "csharp"
    }
   },
   "outputs": [
    {
     "name": "stdout",
     "output_type": "stream",
     "text": [
      "Image embeddings stored...\n",
      "Text embedding stored...\n"
     ]
    }
   ],
   "source": [
    "using System.Linq;\n",
    "\n",
    "string textEmbeddingFile = \"../../Assets/Embedding/MultiModalTextEmbedding.txt\";\n",
    "\n",
    "//Photorealistic image embedding\n",
    "string imageEmbeddingFile = \"../../Assets/Embedding/ImageEmbedding_Photorealistic.txt\";\n",
    "await File.WriteAllLinesAsync(\n",
    "    imageEmbeddingFile, \n",
    "    imageEmbeddingPhotorealistic.ToArray().Select(vector => vector.ToString())\n",
    ");\n",
    "\n",
    "//Sketch image embedding\n",
    "imageEmbeddingFile = \"../../Assets/Embedding/ImageEmbedding_Sketch.txt\";\n",
    "await File.WriteAllLinesAsync(\n",
    "    imageEmbeddingFile, \n",
    "    imageEmbeddingSketch.ToArray().Select(vector => vector.ToString())\n",
    ");\n",
    "\n",
    "//Oilpainting image embedding\n",
    "imageEmbeddingFile = \"../../Assets/Embedding/ImageEmbedding_Oilpainting.txt\";\n",
    "await File.WriteAllLinesAsync(\n",
    "    imageEmbeddingFile, \n",
    "    imageEmbeddingOilpainting.ToArray().Select(vector => vector.ToString())\n",
    ");\n",
    "\n",
    "//Text embedding\n",
    "await File.WriteAllLinesAsync(\n",
    "    textEmbeddingFile, \n",
    "    textEmbedding.ToArray().Select(vector => vector.ToString())\n",
    ");\n",
    "\n",
    "Console.WriteLine($\"Image embeddings stored...\");\n",
    "Console.WriteLine($\"Text embedding stored...\");\n"
   ]
  }
 ],
 "metadata": {
  "kernelspec": {
   "display_name": ".NET (C#)",
   "language": "C#",
   "name": ".net-csharp"
  },
  "language_info": {
   "name": "polyglot-notebook"
  },
  "polyglot_notebook": {
   "kernelInfo": {
    "defaultKernelName": "csharp",
    "items": [
     {
      "aliases": [],
      "languageName": "csharp",
      "name": "csharp"
     }
    ]
   }
  }
 },
 "nbformat": 4,
 "nbformat_minor": 2
}
