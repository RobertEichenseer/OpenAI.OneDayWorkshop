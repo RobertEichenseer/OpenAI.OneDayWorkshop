{
 "cells": [
  {
   "cell_type": "markdown",
   "metadata": {},
   "source": [
    "# 02 RAG | 02 Embeddings | 01 Text Embeddings\n",
    "\n",
    "## Azure Environment\n",
    "\n",
    "Necessary parameter are imported from [./Configuration/application.env]. Check [Create Environment](../../01_CreateEnvironment/01_Environment.ipynb) to setup the necessary demo environment.\n",
    "\n",
    "\n",
    "## Step 1: Create OpenAIClient / EmbeddingClient\n",
    "\n",
    "The `AzureOpenAIClient` from the Azure.AI.OpenAI NuGet package offers a unified interface to create various specialized clients, each designed to handle specific tasks.\n",
    "In this notebook the `EmbeddingClient` is used to create multi dimensional vectors from provided text.\n"
   ]
  },
  {
   "cell_type": "code",
   "execution_count": 1,
   "metadata": {
    "dotnet_interactive": {
     "language": "csharp"
    },
    "polyglot_notebook": {
     "kernelName": "csharp"
    }
   },
   "outputs": [
    {
     "data": {
      "text/html": [
       "<div><div></div><div></div><div><strong>Installed Packages</strong><ul><li><span>Azure.AI.OpenAI, 2.0.0-beta.2</span></li><li><span>DotNetEnv, 2.5.0</span></li></ul></div></div>"
      ]
     },
     "metadata": {},
     "output_type": "display_data"
    },
    {
     "name": "stdout",
     "output_type": "stream",
     "text": [
      "AzureOpenAI Client created...\n",
      "EmbeddingClient created...\n"
     ]
    }
   ],
   "source": [
    "#r \"nuget: Azure.AI.OpenAI, 2.0.0-beta.2\"\n",
    "#r \"nuget: DotNetEnv, 2.5.0\"\n",
    "\n",
    "using Azure; \n",
    "using Azure.AI.OpenAI;\n",
    "using OpenAI.Embeddings;\n",
    "using DotNetEnv; \n",
    "using System.IO;\n",
    "using System.ClientModel;\n",
    "\n",
    "//configuration file is created during environment creation\n",
    "static string configurationFile = @\"../../Configuration/application.env\";\n",
    "Env.Load(configurationFile);\n",
    "\n",
    "string assetsFolder = Environment.GetEnvironmentVariable(\"WS_ASSETS_FOLDER\") ?? \"WS_ASSETS_FOLDER not found\";;\n",
    "\n",
    "string oAiApiKey = Environment.GetEnvironmentVariable(\"WS_AOAI_APIKEY\") ?? \"WS_AOAI_APIKEY not found\";\n",
    "string oAiEndpoint = Environment.GetEnvironmentVariable(\"WS_AOAI_ENDPOINT\") ?? \"WS_AOAI_ENDPOINT not found\";\n",
    "string embeddingDeploymentName = Environment.GetEnvironmentVariable(\"WS_EMBEDDING_DEPLOYMENTNAME\") ?? \"WS_EMBEDDING_DEPLOYMENTNAME not found\";\n",
    "\n",
    "ApiKeyCredential apiKeyCredential = new ApiKeyCredential(oAiApiKey);\n",
    "AzureOpenAIClient azureOpenAIClient = new AzureOpenAIClient(new Uri(oAiEndpoint), apiKeyCredential);\n",
    "\n",
    "EmbeddingClient embeddingClient = azureOpenAIClient.GetEmbeddingClient(embeddingDeploymentName);\n",
    "\n",
    "Console.WriteLine($\"AzureOpenAI Client created...\");\n",
    "Console.WriteLine($\"EmbeddingClient created...\");"
   ]
  },
  {
   "cell_type": "markdown",
   "metadata": {},
   "source": [
    "## Step 2: Create Embeddings\n",
    "\n",
    "Embeddings will be created from the following text resources: \n",
    "\n",
    "- [WikiAKS.txt](../../Assets/Embedding/WikiAks.txt): A download from the MS Azure Kubernetes Service documentation\n",
    "- [WikiSuperBowl2024](../../Assets/Embedding/WikiSuperBowl2024.txt): A download from Wikipedia with information about the 2024 Super Bowl\n",
    "- The string literal: *Who won the Super Bowl in 2024* \n",
    "- The string literal: *The Kansas City Chiefs won the Super Bowl in 2024*"
   ]
  },
  {
   "cell_type": "code",
   "execution_count": 4,
   "metadata": {
    "dotnet_interactive": {
     "language": "csharp"
    },
    "polyglot_notebook": {
     "kernelName": "csharp"
    }
   },
   "outputs": [
    {
     "name": "stdout",
     "output_type": "stream",
     "text": [
      "Vector wiki info AKS created...\n",
      "Vector wiki info Super Bowl created...\n",
      "Vector question Super Bowl created...\n",
      "Vector statement Super Bowl created...\n"
     ]
    }
   ],
   "source": [
    "\n",
    "using System.ClientModel; \n",
    "\n",
    "// Vectorize AKS (Azure Kubernetes Service) information from Wikipedia\n",
    "string documentationPage = Path.Combine(assetsFolder,\"Embedding\", \"WikiAks.txt\");\n",
    "string textToBeVectorized = File.ReadAllText(documentationPage);\n",
    "\n",
    "ClientResult<Embedding> clientResultAKS =  \n",
    "    await embeddingClient.GenerateEmbeddingAsync(textToBeVectorized);\n",
    "        \n",
    "Console.WriteLine($\"Vector wiki info AKS created...\");\n",
    "\n",
    "// Vectorize Super Bowl information from Wikipedia\n",
    "documentationPage = Path.Combine(assetsFolder,\"Embedding\", \"WikiSuperBowl2024.txt\");\n",
    "textToBeVectorized = File.ReadAllText(documentationPage);\n",
    "\n",
    "ClientResult<Embedding> clientResultSuperBowl =  \n",
    "    await embeddingClient.GenerateEmbeddingAsync(textToBeVectorized);\n",
    "\n",
    "Console.WriteLine($\"Vector wiki info Super Bowl created...\");\n",
    "\n",
    "// Vectorize a question\n",
    "textToBeVectorized = \"Who won the Super Bowl in 2024\";\n",
    "ClientResult<Embedding> clientResultQuestion = \n",
    "    await embeddingClient.GenerateEmbeddingAsync(textToBeVectorized);\n",
    "\n",
    "Console.WriteLine($\"Vector question Super Bowl created...\");\n",
    "\n",
    "// Vectorize a statement\n",
    "textToBeVectorized = \"The Kansas City Chiefs won the Super Bowl in 2024\";\n",
    "ClientResult<Embedding> clientStatementQuestion = \n",
    "    await embeddingClient.GenerateEmbeddingAsync(textToBeVectorized);\n",
    "\n",
    "Console.WriteLine($\"Vector statement Super Bowl created...\");\n"
   ]
  },
  {
   "cell_type": "markdown",
   "metadata": {},
   "source": [
    "## Step 3: Vector storage\n",
    "\n",
    "All four created vectors are stored in a txt file for analyze and further usage in other notebooks."
   ]
  },
  {
   "cell_type": "code",
   "execution_count": 5,
   "metadata": {
    "dotnet_interactive": {
     "language": "csharp"
    },
    "polyglot_notebook": {
     "kernelName": "csharp"
    }
   },
   "outputs": [
    {
     "name": "stdout",
     "output_type": "stream",
     "text": [
      "AKS vector stored in ../../assets\\Embedding\\TextEmbedding_WikiAks.txt...\n",
      "Super Bowl vector stored in ../../assets\\Embedding\\TextEmbedding_WikiSuperBowl.txt...\n",
      "Query Vector stored in ../../assets\\Embedding\\TextEmbedding_Query.txt...\n",
      "Statement Vector stored in ../../assets\\Embedding\\TextEmbedding_Statement.txt...\n"
     ]
    }
   ],
   "source": [
    "using System.Linq;\n",
    "\n",
    "string wikiAKSFileName = Path.Combine(assetsFolder, \"Embedding\", \"TextEmbedding_WikiAks.txt\");\n",
    "string wikiSuperBowlFileName = Path.Combine(assetsFolder, \"Embedding\", \"TextEmbedding_WikiSuperBowl.txt\");\n",
    "string queryVectorFileName = Path.Combine(assetsFolder, \"Embedding\", \"TextEmbedding_Query.txt\");\n",
    "string statementVectorFileName = Path.Combine(assetsFolder, \"Embedding\", \"TextEmbedding_Statement.txt\");\n",
    "\n",
    "await File.WriteAllLinesAsync(\n",
    "    wikiAKSFileName, \n",
    "    clientResultAKS.Value.Vector.ToArray().Select(vector => vector.ToString())\n",
    ");\n",
    "\n",
    "await File.WriteAllLinesAsync(\n",
    "    wikiSuperBowlFileName, \n",
    "    clientResultSuperBowl.Value.Vector.ToArray().Select(vector => vector.ToString())\n",
    ");\n",
    "\n",
    "await File.WriteAllLinesAsync(\n",
    "    queryVectorFileName, \n",
    "    clientResultQuestion.Value.Vector.ToArray().Select(vector => vector.ToString())\n",
    ");\n",
    "\n",
    "await File.WriteAllLinesAsync(\n",
    "    statementVectorFileName, \n",
    "    clientStatementQuestion.Value.Vector.ToArray().Select(vector => vector.ToString())\n",
    ");\n",
    "\n",
    "\n",
    "Console.WriteLine($\"AKS vector stored in {wikiAKSFileName}...\");\n",
    "Console.WriteLine($\"Super Bowl vector stored in {wikiSuperBowlFileName}...\");\n",
    "Console.WriteLine($\"Query Vector stored in {queryVectorFileName}...\");\n",
    "Console.WriteLine($\"Statement Vector stored in {statementVectorFileName}...\");\n"
   ]
  }
 ],
 "metadata": {
  "kernelspec": {
   "display_name": ".NET (C#)",
   "language": "C#",
   "name": ".net-csharp"
  },
  "language_info": {
   "name": "polyglot-notebook"
  },
  "polyglot_notebook": {
   "kernelInfo": {
    "defaultKernelName": "csharp",
    "items": [
     {
      "aliases": [],
      "languageName": "csharp",
      "name": "csharp"
     }
    ]
   }
  }
 },
 "nbformat": 4,
 "nbformat_minor": 2
}
