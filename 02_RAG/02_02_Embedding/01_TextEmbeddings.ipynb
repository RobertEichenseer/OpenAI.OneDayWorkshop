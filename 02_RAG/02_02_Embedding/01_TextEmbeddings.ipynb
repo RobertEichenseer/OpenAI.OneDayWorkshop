{
 "cells": [
  {
   "cell_type": "markdown",
   "metadata": {},
   "source": [
    "# 02 RAG | 03 Embeddings | 01 Text Embeddings\n",
    "\n",
    "## Azure Environment\n",
    "\n",
    "To execute the sample code Azure service specific information like endpoint, api key etc. is needed ([Details and instructions can be found here](../01_CreateEnvironment/01_Environment.ipynb))\n",
    "\n",
    "## Step 1: Create OpenAIClient\n",
    "\n",
    "The Azure OpenAI client from the Azure.AI.OpenAI NuGet package offers a unified interface to interact with various specialized clients, each designed to handle specific tasks. \n",
    "\n",
    "These include clients for chat completion, embeddings, and the agent framework, among others, enabling developers to easily integrate and utilize OpenAI's capabilities for generating text, understanding context, and building intelligent applications within the Azure ecosystem."
   ]
  },
  {
   "cell_type": "code",
   "execution_count": null,
   "metadata": {
    "dotnet_interactive": {
     "language": "csharp"
    },
    "polyglot_notebook": {
     "kernelName": "csharp"
    }
   },
   "outputs": [],
   "source": [
    "#r \"nuget: Azure.AI.OpenAI, 2.0.0-beta.2\"\n",
    "#r \"nuget: DotNetEnv, 2.5.0\"\n",
    "\n",
    "using Azure; \n",
    "using Azure.AI.OpenAI;\n",
    "using OpenAI.Embeddings;\n",
    "using DotNetEnv; \n",
    "using System.IO;\n",
    "\n",
    "//configuration file is created during environment creation\n",
    "static string configurationFile = @\"../../Configuration/application.env\";\n",
    "Env.Load(configurationFile);\n",
    "\n",
    "string assetsFolder = Path.Combine(Directory.GetCurrentDirectory(), \"..\", \"assets\");\n",
    "\n",
    "string oAiApiKey = Environment.GetEnvironmentVariable(\"WS_AOAI_APIKEY\") ?? \"WS_AOAI_APIKEY not found\";\n",
    "string oAiEndpoint = Environment.GetEnvironmentVariable(\"WS_AOAI_ENDPOINT\") ?? \"WS_AOAI_ENDPOINT not found\";\n",
    "string embeddingDeploymentName = Environment.GetEnvironmentVariable(\"WS_EMBEDDING_DEPLOYMENTNAME\") ?? \"WS_EMBEDDING_DEPLOYMENTNAME not found\";\n",
    "\n",
    "AzureKeyCredential azureKeyCredential = new AzureKeyCredential(oAiApiKey);\n",
    "AzureOpenAIClient azureOpenAIClient = new AzureOpenAIClient(new Uri(oAiEndpoint), azureKeyCredential);\n",
    "\n",
    "EmbeddingClient embeddingClient = azureOpenAIClient.GetEmbeddingClient(embeddingDeploymentName);\n",
    "\n",
    "Console.WriteLine($\"AzureOpenAI Client created...\");\n",
    "Console.WriteLine($\"EmbeddingClient created...\");"
   ]
  },
  {
   "cell_type": "markdown",
   "metadata": {},
   "source": [
    "## Step 2: Create Embeddings\n",
    "\n",
    "In the code cell two embeddings or vectors are calculated using the deployed OpenAI model (text-embedding-ada-002):\n",
    "- The file `Path.Combine(assetsFolder, \"Embedding\", \"TheUntouchableAdolescents_Part01.txt\");` is part of a free e-book downloaded from the [Project Gutenberg](www.gutenberg.com)\n",
    "- A hard coded string `\"Did Shreve gave a bitter laugh, thin and short?\"` will be also transformed into an embedding or vector representation. You can find the phrase at the end of the free e-book.\n",
    "\n",
    "To calculate the embeddings or vectors the method `CreateEmbeddingAsync()` from the `EmbeddingsClient` instance is be used. \n",
    "\n",
    "Both embeddings will be used in further samples to perform e.g. a vector distance calculation."
   ]
  },
  {
   "cell_type": "code",
   "execution_count": null,
   "metadata": {
    "dotnet_interactive": {
     "language": "csharp"
    },
    "polyglot_notebook": {
     "kernelName": "csharp"
    }
   },
   "outputs": [],
   "source": [
    "\n",
    "using System.ClientModel; \n",
    "\n",
    "// Vectorize AKS (Azure Kubernetes Service) information from Wikipedia\n",
    "string documentationPage = Path.Combine(assetsFolder,\"Embedding\", \"WikiAks.txt\");\n",
    "string textToBeVectorized = File.ReadAllText(documentationPage);\n",
    "\n",
    "ClientResult<Embedding> clientResultAKS =  \n",
    "    await embeddingClient.GenerateEmbeddingAsync(textToBeVectorized);\n",
    "        \n",
    "Console.WriteLine($\"Vector wiki info AKS created...\");\n",
    "\n",
    "// Vectorize Super Bowl information from Wikipedia\n",
    "documentationPage = Path.Combine(assetsFolder,\"Embedding\", \"WikiSuperBowl2024.txt\");\n",
    "textToBeVectorized = File.ReadAllText(documentationPage);\n",
    "\n",
    "ClientResult<Embedding> clientResultSuperBowl =  \n",
    "    await embeddingClient.GenerateEmbeddingAsync(textToBeVectorized);\n",
    "\n",
    "Console.WriteLine($\"Vector wiki info Super Bowl created...\");\n",
    "\n",
    "// Vectorize a question\n",
    "textToBeVectorized = \"Who won the Super Bowl in 2024\";\n",
    "ClientResult<Embedding> clientResultQuestion = \n",
    "    await embeddingClient.GenerateEmbeddingAsync(textToBeVectorized);\n",
    "\n",
    "Console.WriteLine($\"Vector question Super Bowl created...\");\n"
   ]
  },
  {
   "cell_type": "markdown",
   "metadata": {},
   "source": [
    "**Expected output:**\n",
    "\n",
    "Vector wiki info AKS created...\n",
    "\n",
    "Vector wiki info Super Bowl created...\n",
    "\n",
    "Vector question Super Bowl created..."
   ]
  },
  {
   "cell_type": "markdown",
   "metadata": {},
   "source": [
    "## Step 3: Vector storage\n",
    "\n",
    "All three vectors are stored in a txt file for further analyze and/or usage."
   ]
  },
  {
   "cell_type": "code",
   "execution_count": null,
   "metadata": {
    "dotnet_interactive": {
     "language": "csharp"
    },
    "polyglot_notebook": {
     "kernelName": "csharp"
    }
   },
   "outputs": [],
   "source": [
    "using System.Linq;\n",
    "\n",
    "string wikiAKSFileName = \"../Assets/Embedding/WikiAksVector.txt\";\n",
    "string wikiSuperBowlFileName = \"../Assets/Embedding/WikiSuperBowlVector.txt\";\n",
    "string queryVectorFileName = \"../Assets/Embedding/QueryVector.txt\";\n",
    "\n",
    "await File.WriteAllLinesAsync(\n",
    "    wikiAKSFileName, \n",
    "    clientResultAKS.Value.Vector.ToArray().Select(vector => vector.ToString())\n",
    ");\n",
    "\n",
    "await File.WriteAllLinesAsync(\n",
    "    wikiSuperBowlFileName, \n",
    "    clientResultSuperBowl.Value.Vector.ToArray().Select(vector => vector.ToString())\n",
    ");\n",
    "\n",
    "await File.WriteAllLinesAsync(\n",
    "    queryVectorFileName, \n",
    "    clientResultQuestion.Value.Vector.ToArray().Select(vector => vector.ToString())\n",
    ");\n",
    "\n",
    "Console.WriteLine($\"AKS vector stored in {wikiAKSFileName}...\");\n",
    "Console.WriteLine($\"Super Bowl vector stored in {wikiSuperBowlFileName}...\");\n",
    "Console.WriteLine($\"Query Vector stored in {queryVectorFileName}...\");\n"
   ]
  },
  {
   "cell_type": "markdown",
   "metadata": {},
   "source": [
    "**Expected result:**\n",
    "\n",
    "AKS vector stored in ../Assets/Embedding/WikiAksVector.txt...\n",
    "\n",
    "Super Bowl vector stored in ../Assets/Embedding/WikiSuperBowlVector.txt...\n",
    "\n",
    "Query Vector stored in ../Assets/Embedding/QueryVector.txt..."
   ]
  }
 ],
 "metadata": {
  "kernelspec": {
   "display_name": ".NET (C#)",
   "language": "C#",
   "name": ".net-csharp"
  },
  "language_info": {
   "name": "polyglot-notebook"
  },
  "polyglot_notebook": {
   "kernelInfo": {
    "defaultKernelName": "csharp",
    "items": [
     {
      "aliases": [],
      "languageName": "csharp",
      "name": "csharp"
     }
    ]
   }
  }
 },
 "nbformat": 4,
 "nbformat_minor": 2
}
