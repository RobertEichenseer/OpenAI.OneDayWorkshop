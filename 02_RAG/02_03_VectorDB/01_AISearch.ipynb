{
 "cells": [
  {
   "cell_type": "markdown",
   "metadata": {},
   "source": [
    "# 02 RAG | 03 Vector DB | 01 Azure AI Search\n",
    "\n",
    "## Azure Environment\n",
    "\n",
    "Necessary parameter are imported from [./Configuration/application.env]. Check [Create Environment](../../01_CreateEnvironment/01_Environment.ipynb) to setup the necessary demo environment.\n",
    "\n",
    "## Step 1: Create Azure AI Search - Search Index Client\n",
    "\n",
    "Azure AI Search as a robust vector database to store and query vectors is used. The Azure AI Search SDK provides a `SearchIndexClient` which can be used to create search indexes."
   ]
  },
  {
   "cell_type": "code",
   "execution_count": 1,
   "metadata": {
    "dotnet_interactive": {
     "language": "csharp"
    },
    "polyglot_notebook": {
     "kernelName": "csharp"
    }
   },
   "outputs": [
    {
     "data": {
      "text/html": [
       "<div><div></div><div></div><div><strong>Installed Packages</strong><ul><li><span>Azure.Search.Documents, 11.6.0-beta.4</span></li><li><span>DotNetEnv, 2.5.0</span></li></ul></div></div>"
      ]
     },
     "metadata": {},
     "output_type": "display_data"
    },
    {
     "name": "stdout",
     "output_type": "stream",
     "text": [
      "SearchIndexClient create...\r\n"
     ]
    }
   ],
   "source": [
    "#r \"nuget: Azure.Search.Documents, 11.6.0-beta.4\"\n",
    "#r \"nuget: DotNetEnv, 2.5.0\"\n",
    "\n",
    "using Azure; \n",
    "using DotNetEnv; \n",
    "using System.IO;\n",
    "using Azure.Search.Documents;\n",
    "using Azure.Search.Documents.Models;\n",
    "using Azure.Search.Documents.Indexes;\n",
    "using Azure.Search.Documents.Indexes.Models;\n",
    "\n",
    "//configuration file is created during environment creation\n",
    "static string configurationFile = @\"../../Configuration/application.env\";\n",
    "Env.Load(configurationFile);\n",
    "\n",
    "string assetsFolder = Environment.GetEnvironmentVariable(\"WS_ASSETS_FOLDER\") ?? \"WS_ASSETS_FOLDER not found\";;\n",
    "string searchApiKey = Environment.GetEnvironmentVariable(\"WS_SEARCH_APIKEY\") ?? \"WS_SEARCH_APIKEY not found\";\n",
    "string searchEndpoint = Environment.GetEnvironmentVariable(\"WS_SEARCH_ENDPOINT\") ?? \"WS_SEARCH_ENDPOINT not found\";\n",
    "string assetFolder = Environment.GetEnvironmentVariable(\"WS_ASSETS_FOLDER\") ?? \"WS_ASSETS_FOLDER not found\";\n",
    "\n",
    "AzureKeyCredential azureKeyCredential = new AzureKeyCredential(searchApiKey);\n",
    "SearchIndexClient searchIndexClient = new SearchIndexClient(new Uri(searchEndpoint), azureKeyCredential);\n",
    "\n",
    "Console.WriteLine($\"SearchIndexClient create...\");\n"
   ]
  },
  {
   "cell_type": "markdown",
   "metadata": {},
   "source": [
    "# Step 2: Create Search Index\n",
    "\n",
    "In the code cell, a search index is created which uses a [Hierarchical Navigable Small World (HNSW)](https://en.wikipedia.org/wiki/Hierarchical_navigable_small_world) algorithm is employed to create the search index, which ensures fast and accurate search results. For measuring similarity between vectors, the cosine similarity metric is used, optimizing the search process by determining the angular distance between vector pairs. \n"
   ]
  },
  {
   "cell_type": "code",
   "execution_count": 2,
   "metadata": {
    "dotnet_interactive": {
     "language": "csharp"
    },
    "polyglot_notebook": {
     "kernelName": "csharp"
    }
   },
   "outputs": [
    {
     "name": "stdout",
     "output_type": "stream",
     "text": [
      "Search index 'documenttenant' created...\r\n"
     ]
    }
   ],
   "source": [
    "string indexName = \"documenttenant\"; \n",
    "string vectorSearchProfileNameHNSW = \"search-profile-HNSW\";\n",
    "string vectorSearchConfigHNSW = \"vector-config-hnsw\";\n",
    "\n",
    "int modelDimensions = 1536;\n",
    "\n",
    "SearchIndex index = new SearchIndex(indexName)\n",
    "{\n",
    "    Fields =\n",
    "    {\n",
    "        new SimpleField(\"DocumentId\", SearchFieldDataType.String) { IsKey = true, IsFilterable = true, IsSortable = true },\n",
    "        new SearchableField(\"DocumentName\") { IsFilterable = true, IsSortable = true},\n",
    "        new SearchableField(\"Description\") { AnalyzerName = LexicalAnalyzerName.EnLucene },\n",
    "        new ComplexField(\"MetaInfo\")\n",
    "        {\n",
    "            Fields =\n",
    "            {\n",
    "                new SearchableField(\"Author\") { IsFilterable = true, IsSortable = true, IsFacetable = true},\n",
    "                new SearchableField(\"CreationDate\") { IsFilterable = true, IsSortable = true, IsFacetable = true }\n",
    "            }\n",
    "        },\n",
    "        new VectorSearchField(\"DocumentContentHNSW\", modelDimensions, vectorSearchProfileNameHNSW)\n",
    "    },\n",
    "    VectorSearch = new() {\n",
    "        Profiles =\n",
    "        {\n",
    "            new VectorSearchProfile(vectorSearchProfileNameHNSW, vectorSearchConfigHNSW)\n",
    "        },\n",
    "        Algorithms = {\n",
    "            new HnswAlgorithmConfiguration(vectorSearchConfigHNSW){\n",
    "                Parameters = new HnswParameters\n",
    "                {\n",
    "                    EfConstruction = 200,\n",
    "                    EfSearch = 200,\n",
    "                    M = 4,\n",
    "                    Metric = VectorSearchAlgorithmMetric.Cosine\n",
    "                }\n",
    "            }\n",
    "        }\n",
    "    }\n",
    "};\n",
    "\n",
    "await searchIndexClient.CreateOrUpdateIndexAsync(index);\n",
    "\n",
    "Console.WriteLine($\"Search index '{indexName}' created...\");"
   ]
  },
  {
   "cell_type": "markdown",
   "metadata": {},
   "source": [
    "## Step 3: Define Data Structure\n",
    "\n",
    "To populate data to the Azure AI Search search index a .NET POCO object is created and filled with information (description and embeddings) which will be uploaded to the search index."
   ]
  },
  {
   "cell_type": "code",
   "execution_count": 3,
   "metadata": {
    "dotnet_interactive": {
     "language": "csharp"
    },
    "polyglot_notebook": {
     "kernelName": "csharp"
    }
   },
   "outputs": [],
   "source": [
    "using System.Text.Json.Serialization;\n",
    "\n",
    "public class KnowledgeDocument {\n",
    "\n",
    "    public string DocumentId { get; set; } = Guid.NewGuid().ToString();\n",
    "    public string DocumentName { get; set; } = \"\";\n",
    "    public string Description { get; set; } = \"\";\n",
    "    public float[] DocumentContentHNSW { get; set; } = new float[1536];\n",
    "    public MetaInfo MetaInfo { get; set; } = new MetaInfo();\n",
    "}\n",
    "\n",
    "public class MetaInfo {\n",
    "    public string Author { get; set; } = \"\";\n",
    "    public string CreationDate { get; set; } = \"\";\n",
    "}\n",
    "\n"
   ]
  },
  {
   "cell_type": "markdown",
   "metadata": {},
   "source": [
    "## Step 4: Define Documents\n",
    "\n",
    "3 different documents will be defined:\n",
    "\n",
    "- [TextEmbedding_WikiAKS.txt](../../Assets/Embedding/TextEmbedding_WikiAks.txt) which provides information about Azure Kubernetes Service and is downloaded from the MS documentation.\n",
    "- [TextEmbedding_WikiSuperBowl.txt](../../Assets/Embedding/TextEmbedding_WikiSuperBowl.txt) which provides information about the 2024 Super Bowl in ***German***\" to show the language independent features of Embedding models\n",
    "- A statement with information about the winner of the 2024's Super Bowl\n",
    "\n",
    "All 3 vectors have been created within the [](../02_02_Embedding/01_TextEmbeddings.ipynb) polyglot notebook."
   ]
  },
  {
   "cell_type": "code",
   "execution_count": 4,
   "metadata": {
    "dotnet_interactive": {
     "language": "csharp"
    },
    "polyglot_notebook": {
     "kernelName": "csharp"
    }
   },
   "outputs": [
    {
     "name": "stdout",
     "output_type": "stream",
     "text": [
      "Knowledge Documents created...\r\n"
     ]
    }
   ],
   "source": [
    "\n",
    "// List of Knowledge Documents\n",
    "List<KnowledgeDocument> knowledgeDocuments = new List<KnowledgeDocument>(); \n",
    "\n",
    "// Knowledge Document: Wiki AKS \n",
    "string embeddingFileName = Path.Combine(assetFolder, \"Embedding\", \"TextEmbedding_WikiAKS.txt\");\n",
    "float[] embedding = await File.ReadAllLinesAsync(embeddingFileName).ContinueWith(t => t.Result.Select(float.Parse).ToArray());\n",
    "\n",
    "knowledgeDocuments.Add(new KnowledgeDocument()\n",
    "{\n",
    "    DocumentName = \"Wiki-AKS\",\n",
    "    Description = \"What is Azure Kubernetes Service (AKS)? A download from MS Learn\",\n",
    "    DocumentContentHNSW = embedding,\n",
    "    MetaInfo = new MetaInfo()\n",
    "    {\n",
    "        Author = \"Microsoft\",\n",
    "        CreationDate = \"2021-10-01\"\n",
    "    }\n",
    "});\n",
    "\n",
    "// Knowledge Document: Wiki Super Bowl 2024\n",
    "embeddingFileName = Path.Combine(assetFolder, \"Embedding\", \"TextEmbedding_WikiSuperBowl.txt\");\n",
    "embedding = await File.ReadAllLinesAsync(embeddingFileName).ContinueWith(t => t.Result.Select(float.Parse).ToArray());\n",
    "\n",
    "knowledgeDocuments.Add(new KnowledgeDocument()\n",
    "{\n",
    "    DocumentName = \"Wiki-Superbowl\",\n",
    "    Description = \"A German Wiki page with information about the Super Bowl 2024\",\n",
    "    DocumentContentHNSW = embedding,\n",
    "    MetaInfo = new MetaInfo()\n",
    "    {\n",
    "        Author = \"A Wiki Contributor\",\n",
    "        CreationDate = \"2024-04-01\"\n",
    "    }\n",
    "});\n",
    "\n",
    "// Knowledge Document: statement\n",
    "embeddingFileName = Path.Combine(assetFolder, \"Embedding\", \"TextEmbedding_Statement.txt\");\n",
    "embedding = await File.ReadAllLinesAsync(embeddingFileName).ContinueWith(t => t.Result.Select(float.Parse).ToArray());\n",
    "\n",
    "knowledgeDocuments.Add(new KnowledgeDocument()\n",
    "{\n",
    "    DocumentName = \"Statement\",\n",
    "    Description = \"A statement with information who won the Super Bowl 2024\",\n",
    "    DocumentContentHNSW = embedding,\n",
    "    MetaInfo = new MetaInfo()\n",
    "    {\n",
    "        Author = \"Robert\",\n",
    "        CreationDate = \"2024-07-07\"\n",
    "    }\n",
    "});\n",
    "\n",
    "Console.WriteLine($\"Knowledge Documents created...\");\n"
   ]
  },
  {
   "cell_type": "markdown",
   "metadata": {},
   "source": [
    "## Step 5: Index Documents\n",
    "\n",
    "The objects defined in the previous code cell are uploaded to the created Azure AI search index.\n"
   ]
  },
  {
   "cell_type": "code",
   "execution_count": 5,
   "metadata": {
    "dotnet_interactive": {
     "language": "csharp"
    },
    "polyglot_notebook": {
     "kernelName": "csharp"
    }
   },
   "outputs": [
    {
     "name": "stdout",
     "output_type": "stream",
     "text": [
      "Knowledge Documents uploaded / indexed...\r\n"
     ]
    }
   ],
   "source": [
    "SearchClient searchClient = searchIndexClient.GetSearchClient(indexName);\n",
    "Response<IndexDocumentsResult> response = await searchClient.UploadDocumentsAsync<KnowledgeDocument>(knowledgeDocuments);\n",
    "\n",
    "Console.WriteLine($\"Knowledge Documents uploaded / indexed...\");"
   ]
  },
  {
   "cell_type": "markdown",
   "metadata": {},
   "source": [
    "## Step 6: Query Documents\n",
    "\n",
    "The question `Who won the Super Bowl in 2024` which was embedded in a [previous notebook](../02_02_Embedding/01_TextEmbeddings.ipynb) and loaded [from this file](../../Assets/Embedding/TextEmbedding_Statement.txt) is used to perform a vector search."
   ]
  },
  {
   "cell_type": "code",
   "execution_count": 6,
   "metadata": {
    "dotnet_interactive": {
     "language": "csharp"
    },
    "polyglot_notebook": {
     "kernelName": "csharp"
    }
   },
   "outputs": [
    {
     "name": "stdout",
     "output_type": "stream",
     "text": [
      "2aa2ccdc-a882-4cf6-8e87-47f4c868aef0: A statement with information who won the Super Bowl 2024\n",
      "7c53041b-898f-4348-82a6-43ac71ceaa09: A German Wiki page with information about the Super Bowl 2024\n"
     ]
    }
   ],
   "source": [
    "string fileNameTextEmbeddingQuery = Path.Combine(assetFolder, \"Embedding\", \"TextEmbedding_Query.txt\");\n",
    "float[] queryAsVector = File.ReadAllLines(fileNameTextEmbeddingQuery).Select(float.Parse).ToArray();\n",
    "\n",
    "SearchResults<KnowledgeDocument> searchResults = await searchClient.SearchAsync<KnowledgeDocument>(\n",
    "    new SearchOptions\n",
    "    {\n",
    "        VectorSearch = new()\n",
    "        {\n",
    "            Queries = { \n",
    "                new VectorizedQuery(queryAsVector) { \n",
    "                    KNearestNeighborsCount = 2, \n",
    "                    Fields = { \"DocumentContentHNSW\" } \n",
    "                }\n",
    "            }\n",
    "        }\n",
    "    });\n",
    "\n",
    "await foreach (SearchResult<KnowledgeDocument> searchResult in searchResults.GetResultsAsync())\n",
    "{\n",
    "    KnowledgeDocument knowledgeDocument = searchResult.Document;\n",
    "    Console.WriteLine($\"{knowledgeDocument.DocumentId}: {knowledgeDocument.Description}\");\n",
    "}\n"
   ]
  },
  {
   "cell_type": "markdown",
   "metadata": {},
   "source": [
    "## Step 7: Understand the results\n",
    "\n",
    "The vector search executed by Azure AI Search has responded with the information that the statement `The Kansas City Chiefs won the Super Bowl in 2024` has the closest distance to the query, followed by the [Wikipedia information about the Super Bowl 2024](../../assets/Embedding/WikiSuperBowl2024.txt)"
   ]
  }
 ],
 "metadata": {
  "kernelspec": {
   "display_name": ".NET (C#)",
   "language": "C#",
   "name": ".net-csharp"
  },
  "language_info": {
   "name": "polyglot-notebook"
  },
  "polyglot_notebook": {
   "kernelInfo": {
    "defaultKernelName": "csharp",
    "items": [
     {
      "aliases": [],
      "languageName": "csharp",
      "name": "csharp"
     }
    ]
   }
  }
 },
 "nbformat": 4,
 "nbformat_minor": 2
}
