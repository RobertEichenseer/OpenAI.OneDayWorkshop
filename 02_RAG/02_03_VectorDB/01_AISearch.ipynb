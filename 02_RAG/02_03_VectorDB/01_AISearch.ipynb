{
 "cells": [
  {
   "cell_type": "markdown",
   "metadata": {},
   "source": [
    "# 02 RAG | 03 Vector DB | 01 Azure AI Search\n",
    "\n",
    "## Step 1: Create Search Index Client\n",
    "\n",
    "\n"
   ]
  },
  {
   "cell_type": "code",
   "execution_count": 11,
   "metadata": {
    "dotnet_interactive": {
     "language": "csharp"
    },
    "polyglot_notebook": {
     "kernelName": "csharp"
    }
   },
   "outputs": [
    {
     "data": {
      "text/html": [
       "<div><div></div><div></div><div><strong>Installed Packages</strong><ul><li><span>Azure.Search.Documents, 11.6.0-beta.4</span></li><li><span>DotNetEnv, 2.5.0</span></li></ul></div></div>"
      ]
     },
     "metadata": {},
     "output_type": "display_data"
    },
    {
     "name": "stdout",
     "output_type": "stream",
     "text": [
      "SearchIndexClient create...\r\n"
     ]
    }
   ],
   "source": [
    "#r \"nuget: Azure.Search.Documents, 11.6.0-beta.4\"\n",
    "#r \"nuget: DotNetEnv, 2.5.0\"\n",
    "\n",
    "using Azure; \n",
    "using DotNetEnv; \n",
    "using System.IO;\n",
    "using Azure.Search.Documents;\n",
    "using Azure.Search.Documents.Models;\n",
    "using Azure.Search.Documents.Indexes;\n",
    "using Azure.Search.Documents.Indexes.Models;\n",
    "\n",
    "//configuration file is created during environment creation\n",
    "static string configurationFile = @\"../../Configuration/application.env\";\n",
    "Env.Load(configurationFile);\n",
    "\n",
    "string assetsFolder = Environment.GetEnvironmentVariable(\"WS_ASSETS_FOLDER\") ?? \"WS_ASSETS_FOLDER not found\";;\n",
    "string searchApiKey = Environment.GetEnvironmentVariable(\"WS_SEARCH_APIKEY\") ?? \"WS_SEARCH_APIKEY not found\";\n",
    "string searchEndpoint = Environment.GetEnvironmentVariable(\"WS_SEARCH_ENDPOINT\") ?? \"WS_SEARCH_ENDPOINT not found\";\n",
    "\n",
    "\n",
    "AzureKeyCredential azureKeyCredential = new AzureKeyCredential(searchApiKey);\n",
    "SearchIndexClient searchIndexClient = new SearchIndexClient(new Uri(searchEndpoint), azureKeyCredential);\n",
    "\n",
    "Console.WriteLine($\"SearchIndexClient create...\");\n"
   ]
  },
  {
   "cell_type": "markdown",
   "metadata": {},
   "source": [
    "# Step 2: Create Search Index\n"
   ]
  },
  {
   "cell_type": "code",
   "execution_count": 8,
   "metadata": {
    "dotnet_interactive": {
     "language": "csharp"
    },
    "polyglot_notebook": {
     "kernelName": "csharp"
    }
   },
   "outputs": [],
   "source": [
    "string indexName = \"documenttenant\"; \n",
    "string vectorSearchProfileNameHNSW = \"search-profile-HNSW\";\n",
    "string vectorSearchProfileNameExhaustive = \"search-profile-exhaustive\";\n",
    "string vectorSearchConfigHNSW = \"vector-config-hnsw\";\n",
    "string vectorSearchConfigExhaustive = \"vector-config-exhaustive\";\n",
    "\n",
    "int modelDimensions = 1536;\n",
    "\n",
    "SearchIndex index = new SearchIndex(indexName)\n",
    "{\n",
    "    Fields =\n",
    "    {\n",
    "        new SimpleField(\"DocumentId\", SearchFieldDataType.String) { IsKey = true, IsFilterable = true, IsSortable = true },\n",
    "        new SearchableField(\"DocumentName\") { IsFilterable = true, IsSortable = true},\n",
    "        new SearchableField(\"Description\") { AnalyzerName = LexicalAnalyzerName.EnLucene },\n",
    "        new SearchableField(\"DescriptionGer\") { AnalyzerName = LexicalAnalyzerName.DeLucene },\n",
    "        new SearchableField(\"SummarizedContent\") { IsFilterable = true, IsSortable = true },\n",
    "\n",
    "        new ComplexField(\"MetaInfo\")\n",
    "        {\n",
    "            Fields =\n",
    "            {\n",
    "                new SearchableField(\"Author\") { IsFilterable = true, IsSortable = true, IsFacetable = true},\n",
    "                new SearchableField(\"CreationDate\") { IsFilterable = true, IsSortable = true, IsFacetable = true },\n",
    "                new SearchableField(\"AuthorCountry\") { IsFilterable = true, IsSortable = true, IsFacetable = true },\n",
    "            }\n",
    "        },\n",
    "        new VectorSearchField(\"DescriptionVectorHNSW\", modelDimensions, vectorSearchProfileNameHNSW),\n",
    "        new VectorSearchField(\"DescriptionVectorExhaust\", modelDimensions, vectorSearchProfileNameExhaustive)\n",
    "    },\n",
    "    VectorSearch = new() {\n",
    "        Profiles =\n",
    "        {\n",
    "            new VectorSearchProfile(vectorSearchProfileNameHNSW, vectorSearchConfigHNSW), \n",
    "            new VectorSearchProfile(vectorSearchProfileNameExhaustive, vectorSearchConfigExhaustive)\n",
    "        },\n",
    "        Algorithms = {\n",
    "            new ExhaustiveKnnAlgorithmConfiguration(vectorSearchConfigExhaustive) {\n",
    "                Parameters = new ExhaustiveKnnParameters {   \n",
    "                    Metric = VectorSearchAlgorithmMetric.Cosine\n",
    "                }\n",
    "            },\n",
    "            new HnswAlgorithmConfiguration(vectorSearchConfigHNSW){\n",
    "                Parameters = new HnswParameters\n",
    "                {\n",
    "                    EfConstruction = 200,\n",
    "                    EfSearch = 200,\n",
    "                    M = 4,\n",
    "                    Metric = VectorSearchAlgorithmMetric.Cosine\n",
    "                }\n",
    "            }\n",
    "        }\n",
    "    }\n",
    "};\n",
    "\n",
    "await searchIndexClient.CreateOrUpdateIndexAsync(index);"
   ]
  },
  {
   "cell_type": "markdown",
   "metadata": {},
   "source": [
    "## Step 3: Define Data Structure"
   ]
  },
  {
   "cell_type": "code",
   "execution_count": 10,
   "metadata": {},
   "outputs": [],
   "source": [
    "using System.Text.Json.Serialization;\n",
    "\n",
    "public class KnowledgeDocument {\n",
    "\n",
    "    public string DocumentId { get; set; } = Guid.NewGuid().ToString();\n",
    "    public string DocumentName { get; set; } = \"\";\n",
    "    public string Description { get; set; } = \"\";\n",
    "    public string DescriptionGer { get; set; } = \"\";\n",
    "    public string SummarizedContent { get; set; } = \"\";\n",
    "    public MetaInfo MetaInfo { get; set; } = new MetaInfo();\n",
    "\n",
    "    // [JsonIgnore] Because property needs to be ignored when serializing and deserializing. \n",
    "    // Azure AI Search index does not implement this property\n",
    "    // Value will be filled after search query with search score\n",
    "    [JsonIgnore]        \n",
    "    public double? Score { get; set; } = 0.0f;\n",
    "\n",
    "}\n",
    "\n",
    "public class KnowledgeDocumentVector : KnowledgeDocument {\n",
    "    public float[] DescriptionVectorHNSW { get; set; } = new float[1536];\n",
    "    public float[] DescriptionVectorExhaust { get; set; } = new float[1536];\n",
    "}\n",
    "\n",
    "\n",
    "public class MetaInfo {\n",
    "    public string Author { get; set; } = \"\";\n",
    "    public string CreationDate { get; set; } = \"\";\n",
    "    public string AuthorCountry { get; set; } = \"\";\n",
    "}\n",
    "\n",
    "\n",
    "List<KnowledgeDocumentVector> knowledgeDocumentsVector = new List<KnowledgeDocumentVector>(); \n",
    "\n",
    "knowledgeDocumentsVector.Add(new KnowledgeDocumentVector()\n",
    "{\n",
    "    DocumentName = \"Contoso-Music\",\n",
    "    Description = \"Contoso Music is one of the world's leading record labels. It has signed famous singers and is very profitable! The flagship of Contoso Music is a group that performs under the name 'Contoso Only'!\",\n",
    "    DescriptionGer = \"Contoso Musis ist eines der weltweit führenden Plattenlabel. Es hat berühmte Sänger unter Vertrag genommen und ist sehr profitabel! Das Flaggschiff von Contoso Music ist eine Gruppe, die unter dem Namen 'Contoso Only' auftritt!\",\n",
    "    MetaInfo = new MetaInfo()\n",
    "    {\n",
    "        Author = \"Music\",\n",
    "        CreationDate = \"2021-10-01\",\n",
    "        AuthorCountry = \"Germany\"\n",
    "    }\n",
    "});\n",
    "knowledgeDocumentsVector.Add(new KnowledgeDocumentVector()\n",
    "{\n",
    "    DocumentName = \"Contoso-Maritim\",\n",
    "    Description = \"Contoso Heavy Industry Maritime products. The current bestseller is the container transporter 'Contoso XL Heavy 2000'.\",\n",
    "    DescriptionGer = \"Contoso Heavy Industry Maritime Produkte. Der aktuelle Bestseller ist der Containertransporter 'Contoso XL Heavy 2000'.\",\n",
    "    MetaInfo = new MetaInfo()\n",
    "    {\n",
    "        Author = \"Maritim\",\n",
    "        CreationDate = \"2021-10-01\",\n",
    "        AuthorCountry = \"Germany\"\n",
    "    }\n",
    "});\n",
    "knowledgeDocumentsVector.Add(new KnowledgeDocumentVector()\n",
    "{\n",
    "    DocumentName = \"Contoso-Agriculture\",\n",
    "    Description = \"Contoso Agriculture is a German start-up that focuses on the production of milk and grain. Since this is a start-up, no further information is available!\",\n",
    "    DescriptionGer = \"Contoso Agriculture ist ein deutsches Start-up, das sich auf die Produktion von Milch und Getreide konzentriert. Da es sich um ein Start-up handelt, sind keine weiteren Informationen verfügbar!\",\n",
    "    MetaInfo = new MetaInfo()\n",
    "    {\n",
    "        Author = \"Agriculture\",\n",
    "        CreationDate = \"2021-10-01\",\n",
    "        AuthorCountry = \"Germany\"\n",
    "    }\n",
    "});\n",
    "\n",
    "foreach(KnowledgeDocumentVector knowledgeDocument in knowledgeDocumentsVector) {\n",
    "    knowledgeDocument.DescriptionVectorHNSW = new float[1536];\n",
    "    knowledgeDocument.DescriptionVectorExhaust = new float[1536];\n",
    "}\n"
   ]
  },
  {
   "cell_type": "markdown",
   "metadata": {},
   "source": [
    "Step 4: Index Documents\n"
   ]
  },
  {
   "cell_type": "code",
   "execution_count": 12,
   "metadata": {},
   "outputs": [
    {
     "data": {
      "text/html": [
       "<div class=\"dni-plaintext\"><pre>True</pre></div><style>\r\n",
       ".dni-code-hint {\r\n",
       "    font-style: italic;\r\n",
       "    overflow: hidden;\r\n",
       "    white-space: nowrap;\r\n",
       "}\r\n",
       ".dni-treeview {\r\n",
       "    white-space: nowrap;\r\n",
       "}\r\n",
       ".dni-treeview td {\r\n",
       "    vertical-align: top;\r\n",
       "    text-align: start;\r\n",
       "}\r\n",
       "details.dni-treeview {\r\n",
       "    padding-left: 1em;\r\n",
       "}\r\n",
       "table td {\r\n",
       "    text-align: start;\r\n",
       "}\r\n",
       "table tr { \r\n",
       "    vertical-align: top; \r\n",
       "    margin: 0em 0px;\r\n",
       "}\r\n",
       "table tr td pre \r\n",
       "{ \r\n",
       "    vertical-align: top !important; \r\n",
       "    margin: 0em 0px !important;\r\n",
       "} \r\n",
       "table th {\r\n",
       "    text-align: start;\r\n",
       "}\r\n",
       "</style>"
      ]
     },
     "metadata": {},
     "output_type": "display_data"
    }
   ],
   "source": [
    "SearchClient searchClient = searchIndexClient.GetSearchClient(indexName);\n",
    "Response<IndexDocumentsResult> response = await searchClient.UploadDocumentsAsync<KnowledgeDocumentVector>(knowledgeDocumentsVector);\n",
    "\n",
    "if (response.GetRawResponse().Status == 200) {\n",
    "    return true;\n",
    "} else {\n",
    "    return false;\n",
    "}"
   ]
  }
 ],
 "metadata": {
  "kernelspec": {
   "display_name": ".NET (C#)",
   "language": "C#",
   "name": ".net-csharp"
  },
  "language_info": {
   "name": "polyglot-notebook"
  },
  "polyglot_notebook": {
   "kernelInfo": {
    "defaultKernelName": "csharp",
    "items": [
     {
      "aliases": [],
      "languageName": "csharp",
      "name": "csharp"
     }
    ]
   }
  }
 },
 "nbformat": 4,
 "nbformat_minor": 2
}
