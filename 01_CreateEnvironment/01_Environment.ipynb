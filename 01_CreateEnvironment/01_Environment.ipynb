{
 "cells": [
  {
   "cell_type": "markdown",
   "metadata": {},
   "source": [
    "# 01 Demo Environment | 01 Create Azure Environment\n",
    "\n",
    "This notebook contains the script to create the necessary Azure environment to run the provided samples. The notebook uses [PowerShell](https://learn.microsoft.com/powershell/scripting/install/installing-powershell?view=powershell-7.4) and [Azure CLI](https://learn.microsoft.com/cli/azure/install-azure-cli) to deploy all necessary Azure resources. Both tools are available on Windows, macOS and Linux environments.\n",
    "\n",
    "This notebook performs two tasks:\n",
    "\n",
    "- Deployment of necessary Azure Services (Azure OpenAI, Azure AI Search ...) to run the provided samples\n",
    "- Store all necessary service endpoints, service API keys, Azure OpenAI deployment names in a **centralized env file** (./Configuration/application.env). This file is used by all notebooks in this repo to connect and authenticate against the deployed Azure services.\n",
    "\n",
    "If you already have instances of Azure OpenAI, Azure AI Search running you can rename the [configuration template](../conf/application.env.example) to `application.env` and provide endpoint, API key and deployment names of a chat completion and an embedding model and the other needed services. We suggest to run the notebook to start a clean environment."
   ]
  },
  {
   "cell_type": "markdown",
   "metadata": {},
   "source": [
    "## Step 1:   Login to Azure; Get, Set subscription"
   ]
  },
  {
   "cell_type": "code",
   "execution_count": null,
   "metadata": {
    "dotnet_interactive": {
     "language": "pwsh"
    },
    "polyglot_notebook": {
     "kernelName": "pwsh"
    },
    "vscode": {
     "languageId": "polyglot-notebook"
    }
   },
   "outputs": [],
   "source": [
    "# Check if you are already logged in\n",
    "$loggedIn = az account show --query \"name\" -o tsv\n",
    "\n",
    "if ($loggedIn -ne $null) {\n",
    "    Write-Host \"Already logged in as $loggedIn\"\n",
    "} else {\n",
    "    Write-Host \"Logging in...\"\n",
    "    az login\n",
    "}\n",
    "# Retrieve default subscription id\n",
    "$subscriptionId = (\n",
    "    (\n",
    "        az account list -o json `\n",
    "            --query \"[?isDefault]\"\n",
    "    ) | ConvertFrom-Json\n",
    ").id\n",
    "\n",
    "# Set Subscription\n",
    "az account set --subscription $subscriptionId\n",
    "Write-Host \"Subscription set to $subscriptionId\""
   ]
  },
  {
   "cell_type": "markdown",
   "metadata": {},
   "source": [
    "## Step 2:   Define project unifier\n",
    "\n",
    "The project unifier is used to allow multiple deployments of services which have a need for a unique custom endpoint."
   ]
  },
  {
   "cell_type": "code",
   "execution_count": null,
   "metadata": {
    "dotnet_interactive": {
     "language": "pwsh"
    },
    "polyglot_notebook": {
     "kernelName": "pwsh"
    },
    "vscode": {
     "languageId": "polyglot-notebook"
    }
   },
   "outputs": [],
   "source": [
    "# Define Project Unifier\n",
    "\n",
    "$random = Get-Random -Minimum 100 -Maximum 999\n",
    "\n",
    "Write-Host \"Unifier set to: $random\""
   ]
  },
  {
   "cell_type": "markdown",
   "metadata": {},
   "source": [
    "## Step 3:   Create Resource Group\n",
    "\n",
    "In this sample all resources are deployed to `eastus`. Feel free to change to your preferred location."
   ]
  },
  {
   "cell_type": "code",
   "execution_count": null,
   "metadata": {
    "dotnet_interactive": {
     "language": "pwsh"
    },
    "polyglot_notebook": {
     "kernelName": "pwsh"
    },
    "vscode": {
     "languageId": "polyglot-notebook"
    }
   },
   "outputs": [],
   "source": [
    "# Create Resource Group\n",
    "$resourceGroup = \"OpenAI.Workshop\"\n",
    "$location = \"swedencentral\"\n",
    "\n",
    "az group create `\n",
    "    --location $location `\n",
    "    --resource-group $resourceGroup"
   ]
  },
  {
   "cell_type": "markdown",
   "metadata": {},
   "source": [
    "## Step 4:   Create Azure OpenAI instance\n",
    "\n",
    "An instance of Azure Cognitive Service with the kind `OpenAI` will be created. The `endpoint` and `API key` of the newly created instance are retrieved for later storage in the `application.env` file."
   ]
  },
  {
   "cell_type": "code",
   "execution_count": 4,
   "metadata": {
    "dotnet_interactive": {
     "language": "pwsh"
    },
    "polyglot_notebook": {
     "kernelName": "pwsh"
    },
    "vscode": {
     "languageId": "polyglot-notebook"
    }
   },
   "outputs": [],
   "source": [
    "# Create Azure OpenAI Account\n",
    "$csOpenAIName = \"WS_AOAI_$random\"\n",
    "\n",
    "az cognitiveservices account create `\n",
    "    --name $csOpenAIName `\n",
    "    --resource-group $resourceGroup `\n",
    "    --location $location `\n",
    "    --kind OpenAI `\n",
    "    --sku S0 `\n",
    "    --yes\n",
    "\n",
    "$csOpenAIId = ( `\n",
    "    az cognitiveservices account show `\n",
    "        --name $csOpenAIName `\n",
    "        --resource-group $resourceGroup `\n",
    "        --query id `\n",
    "        --output tsv `\n",
    ")\n",
    "\n",
    "$csOpenAIEndpoint = ( `\n",
    "    az cognitiveservices account show `\n",
    "        --name $csOpenAIName `\n",
    "        --resource-group $resourceGroup `\n",
    "        --query properties.endpoint `\n",
    "        --output tsv `\n",
    ")\n",
    "\n",
    "$csOpenAIApiKey = (\n",
    "    az cognitiveservices account keys list `\n",
    "        --name $csOpenAIName `\n",
    "        --resource-group $resourceGroup `\n",
    "        --query key1 `\n",
    "        --output tsv `\n",
    ")\n"
   ]
  },
  {
   "cell_type": "markdown",
   "metadata": {},
   "source": [
    "## Step 5:   Deploy Azure OpenAI models\n",
    "\n",
    "Two LLM models are deployed to the newly created Azure Cognitive Service instance: \n",
    "\n",
    "- A chat completion model. In the sample we're deploying `gpt-4o`. This can be replaced with other models providing a chat completion interface like `gpt-35-turbo` or others.\n",
    "- A text embedding model. In the sample we're deploying `text-embedding-ada-002`. Any other text embedding model can be deployed as well."
   ]
  },
  {
   "cell_type": "code",
   "execution_count": null,
   "metadata": {
    "dotnet_interactive": {
     "language": "pwsh"
    },
    "polyglot_notebook": {
     "kernelName": "pwsh"
    },
    "vscode": {
     "languageId": "polyglot-notebook"
    }
   },
   "outputs": [],
   "source": [
    "# Chat Completion Model\n",
    "$modelChatCompletionDeploymentName = \"gpt-4o\"\n",
    "$modelName = \"gpt-4o\"\n",
    "$modelVersion = \"2024-05-13\"\n",
    "$modelFormat = \"OpenAI\"\n",
    "$scaleType = \"Standard\"\n",
    "\n",
    "az cognitiveservices account deployment create `\n",
    "   --resource-group $resourceGroup `\n",
    "   --name $csOpenAIName `\n",
    "   --deployment-name $modelChatCompletionDeploymentName `\n",
    "   --model-name $modelName `\n",
    "   --model-version $modelVersion `\n",
    "   --model-format $modelFormat `\n",
    "   --sku-name $scaleType `\n",
    "   --sku-capacity 1\n"
   ]
  },
  {
   "cell_type": "code",
   "execution_count": null,
   "metadata": {
    "dotnet_interactive": {
     "language": "pwsh"
    },
    "polyglot_notebook": {
     "kernelName": "pwsh"
    },
    "vscode": {
     "languageId": "polyglot-notebook"
    }
   },
   "outputs": [],
   "source": [
    "# Text Embedding Model\n",
    "$modelFormat = \"OpenAI\"\n",
    "$modelEmbeddingDeploymentName = \"textembedding-ada-002\"\n",
    "$modelName = \"text-embedding-ada-002\"\n",
    "$modelVersion = \"2\"\n",
    "$scaleType = \"Standard\"\n",
    "\n",
    "az cognitiveservices account deployment create `\n",
    "   --resource-group $resourceGroup `\n",
    "   --name $csOpenAIName `\n",
    "   --deployment-name $modelEmbeddingDeploymentName `\n",
    "   --model-name $modelName `\n",
    "   --model-version $modelVersion `\n",
    "   --model-format $modelFormat `\n",
    "   --sku-name $scaleType `\n",
    "   --sku-capacity 1\n",
    "\n"
   ]
  },
  {
   "cell_type": "code",
   "execution_count": null,
   "metadata": {
    "dotnet_interactive": {
     "language": "pwsh"
    },
    "polyglot_notebook": {
     "kernelName": "pwsh"
    },
    "vscode": {
     "languageId": "polyglot-notebook"
    }
   },
   "outputs": [],
   "source": [
    "# Dall-E Model\n",
    "$modelFormat = \"OpenAI\"\n",
    "$modelImageDeploymentName = \"dall-e-3\"\n",
    "$modelName = \"dall-e-3\"\n",
    "$modelVersion = \"3.0\"\n",
    "$scaleType = \"Standard\"\n",
    "\n",
    "az cognitiveservices account deployment create `\n",
    "   --resource-group $resourceGroup `\n",
    "   --name $csOpenAIName `\n",
    "   --deployment-name $modelImageDeploymentName `\n",
    "   --model-name $modelName `\n",
    "   --model-version $modelVersion `\n",
    "   --model-format $modelFormat `\n",
    "   --sku-name $scaleType `\n",
    "   --sku-capacity 1\n"
   ]
  },
  {
   "cell_type": "markdown",
   "metadata": {},
   "source": [
    "## Step 6: Create Azure AI Vision\n",
    "\n",
    "Azure AI Vision is deployed to use its multi modal embedding capabilities. Specifically the functionality to embed images into a multi vector space and query the image embeddings using text. "
   ]
  },
  {
   "cell_type": "code",
   "execution_count": null,
   "metadata": {
    "dotnet_interactive": {
     "language": "pwsh"
    },
    "polyglot_notebook": {
     "kernelName": "pwsh"
    },
    "vscode": {
     "languageId": "polyglot-notebook"
    }
   },
   "outputs": [],
   "source": [
    "# AI Vision\n",
    "$csVisionName = \"wsvision$random\"\n",
    "$csVisionSku = \"S1\"\n",
    "\n",
    "az cognitiveservices account create `\n",
    "    --name $csVisionName `\n",
    "    --resource-group $resourceGroup `\n",
    "    --location $location `\n",
    "    --kind ComputerVision `\n",
    "    --sku $csVisionSku `\n",
    "    --yes\n",
    "\n",
    "$csVisionEndpoint = ( `\n",
    "    az cognitiveservices account show `\n",
    "        --name $csVisionName `\n",
    "        --resource-group $resourceGroup `\n",
    "        --query properties.endpoint `\n",
    "        --output tsv `\n",
    ")\n",
    "\n",
    "$csVisionApiKey = ( `\n",
    "    az cognitiveservices account keys list `\n",
    "        --name $csVisionName `\n",
    "        --resource-group $resourceGroup `\n",
    "        --query key1 `\n",
    "        --output tsv `\n",
    ")\n"
   ]
  },
  {
   "cell_type": "markdown",
   "metadata": {},
   "source": [
    "## Step 7:   Create Azure AI Search\n",
    "\n",
    "Azure AI Search is deployed to use its [vector DB functionalities](https://learn.microsoft.com/en-us/azure/search/vector-search-overview). \n",
    "Just like with Azure OpenAI Cognitive Service, the `endpoint` and `API key` of the newly created instance are retrieved for later storage in the `application.env` file."
   ]
  },
  {
   "cell_type": "code",
   "execution_count": null,
   "metadata": {
    "dotnet_interactive": {
     "language": "pwsh"
    },
    "polyglot_notebook": {
     "kernelName": "pwsh"
    },
    "vscode": {
     "languageId": "polyglot-notebook"
    }
   },
   "outputs": [],
   "source": [
    "# Azure AI Search\n",
    "$csSearchName = \"ws-aisearch-$random\"\n",
    "$csSearchSku = \"Free\"\n",
    "\n",
    "az search service create `\n",
    "    --name $csSearchName `\n",
    "    --resource-group $resourceGroup `\n",
    "    --location $location `\n",
    "    --sku $csSearchSku\n",
    "\n",
    "$csSearchEndpoint = \"https://$csSearchName.search.windows.net\"\n",
    "\n",
    "$csSearchApiKey = ( `\n",
    "    az search admin-key show `\n",
    "        --resource-group $resourceGroup `\n",
    "        --service-name $csSearchName `\n",
    "        --query primaryKey `\n",
    "        --output tsv `\n",
    ")"
   ]
  },
  {
   "cell_type": "markdown",
   "metadata": {},
   "source": [
    "## Step 8:   Create Azure Storage account\n",
    "\n",
    "Azure Storage is deployed to store data to e.g. create image embeddings using Azure AI Vision."
   ]
  },
  {
   "cell_type": "code",
   "execution_count": null,
   "metadata": {
    "dotnet_interactive": {
     "language": "pwsh"
    },
    "polyglot_notebook": {
     "kernelName": "pwsh"
    },
    "vscode": {
     "languageId": "polyglot-notebook"
    }
   },
   "outputs": [],
   "source": [
    "# Create Storage Account\n",
    "$stgName = \"wsstorage$random\"\n",
    "$stgSku = \"Standard_LRS\"\n",
    "\n",
    "az storage account create `\n",
    "    --name $stgName `\n",
    "    --resource-group $resourceGroup `\n",
    "    --location $location `\n",
    "    --sku $stgSku `\n",
    "    --kind StorageV2 `\n",
    "    --https-only true `\n",
    "    --access-tier Hot\n",
    "\n",
    "$stgConnectionString = ( `\n",
    "    az storage account show-connection-string `\n",
    "        --name $stgName `\n",
    "        --resource-group $resourceGroup `\n",
    "        --query connectionString `\n",
    "        --output tsv `\n",
    ")"
   ]
  },
  {
   "cell_type": "markdown",
   "metadata": {},
   "source": [
    "## Step 9: Create application.env file"
   ]
  },
  {
   "cell_type": "code",
   "execution_count": null,
   "metadata": {
    "dotnet_interactive": {
     "language": "pwsh"
    },
    "polyglot_notebook": {
     "kernelName": "pwsh"
    },
    "vscode": {
     "languageId": "polyglot-notebook"
    }
   },
   "outputs": [],
   "source": [
    "# Store configuration \n",
    "$configurationFile = \"../Configuration/application.env\"\n",
    "New-Item -Name $configurationFile -ItemType File -Force\n",
    "\n",
    "\n",
    "function Set-ConfigurationFileVariable($configurationFile, $variableName, $variableValue) {\n",
    "    if (Select-String -Path $configurationFile -Pattern $variableName) {\n",
    "        (Get-Content $configurationFile) | Foreach-Object {\n",
    "            $_ -replace \"$variableName = .*\", \"$variableName = $variableValue\"\n",
    "        } | Set-Content $configurationFile\n",
    "    } else {\n",
    "        Add-Content -Path $configurationFile -value \"$variableName = $variableValue\"\n",
    "    }\n",
    "}\n",
    "\n",
    "Set-ConfigurationFileVariable $configurationFile \"WS_AOAI_APIKEY\" $csOpenAIApiKey\n",
    "Set-ConfigurationFileVariable $configurationFile \"WS_AOAI_ENDPOINT\" $csOpenAIEndpoint\n",
    "Set-ConfigurationFileVariable $configurationFile \"WS_CHATCOMPLETION_DEPLOYMENTNAME\" $modelChatCompletionDeploymentName\n",
    "Set-ConfigurationFileVariable $configurationFile \"WS_EMBEDDING_DEPLOYMENTNAME\" $modelEmbeddingDeploymentName\n",
    "Set-ConfigurationFileVariable $configurationFile \"WS_IMAGE_DEPLOYMENTNAME\" $modelImageDeploymentName\n",
    "Set-ConfigurationFileVariable $configurationFile \"WS_VISION_APIKEY\" $csVisionApiKey\n",
    "Set-ConfigurationFileVariable $configurationFile \"WS_VISION_ENDPOINT\" $csVisionEndpoint\n",
    "Set-ConfigurationFileVariable $configurationFile \"WS_STORAGE_CONNECTIONSTRING\" $stgConnectionString\n",
    "Set-ConfigurationFileVariable $configurationFile \"WS_SEARCH_ENDPOINT\" $csSearchEndpoint\n",
    "Set-ConfigurationFileVariable $configurationFile \"WS_SEARCH_APIKEY\" $csSearchApiKey\n",
    "Set-ConfigurationFileVariable $configurationFile \"WS_ASSETS_FOLDER\" \"../../assets\"\n",
    "\n",
    "\n",
    "Write-Host \"Configuration file created at: $configurationFile\"\n"
   ]
  }
 ],
 "metadata": {
  "kernelspec": {
   "display_name": ".NET (C#)",
   "language": "C#",
   "name": ".net-csharp"
  },
  "language_info": {
   "codemirror_mode": {
    "name": "ipython",
    "version": 3
   },
   "file_extension": ".py",
   "mimetype": "text/x-python",
   "name": "python",
   "nbconvert_exporter": "python",
   "pygments_lexer": "ipython3",
   "version": "3.10.11"
  },
  "polyglot_notebook": {
   "kernelInfo": {
    "defaultKernelName": "csharp",
    "items": [
     {
      "aliases": [],
      "languageName": "csharp",
      "name": "csharp"
     }
    ]
   }
  }
 },
 "nbformat": 4,
 "nbformat_minor": 2
}
