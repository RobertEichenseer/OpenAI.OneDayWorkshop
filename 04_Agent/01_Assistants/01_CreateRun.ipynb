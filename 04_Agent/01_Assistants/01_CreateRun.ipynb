{
 "cells": [
  {
   "cell_type": "markdown",
   "metadata": {},
   "source": [
    "# 04 Agent | 01 Assistants API\n",
    "\n",
    "## Azure Environment\n",
    "\n",
    "Necessary parameter are imported from [./Configuration/application.env]. Check [Create Environment](../../01_CreateEnvironment/01_Environment.ipynb) to setup the necessary demo environment.\n",
    "\n",
    "## Step 1: Create OpenAIClient / EmbeddingClient\n",
    "\n",
    "The `AzureOpenAIClient` from the Azure.AI.OpenAI NuGet package offers a unified interface to create various specialized clients, each designed to handle specific tasks.\n",
    "In this notebook the `AssistantClient` is used to interact with the OpenAI Assistants API."
   ]
  },
  {
   "cell_type": "code",
   "execution_count": 13,
   "metadata": {
    "dotnet_interactive": {
     "language": "csharp"
    },
    "polyglot_notebook": {
     "kernelName": "csharp"
    }
   },
   "outputs": [
    {
     "data": {
      "text/html": [
       "<div><div></div><div></div><div><strong>Installed Packages</strong><ul><li><span>Azure.AI.OpenAI, 2.0.0-beta.2</span></li><li><span>DotNetEnv, 2.5.0</span></li></ul></div></div>"
      ]
     },
     "metadata": {},
     "output_type": "display_data"
    },
    {
     "name": "stdout",
     "output_type": "stream",
     "text": [
      "AzureOpenAI Client created...\n",
      "AssistantClient created...\n"
     ]
    }
   ],
   "source": [
    "#r \"nuget: Azure.AI.OpenAI, 2.0.0-beta.2\"\n",
    "#r \"nuget: DotNetEnv, 2.5.0\"\n",
    "\n",
    "using DotNetEnv;\n",
    "using Azure.AI.OpenAI;\n",
    "using System.ClientModel;\n",
    "using OpenAI.Assistants;\n",
    "\n",
    "//configuration file is created during environment creation\n",
    "static string configurationFile = @\"../../Configuration/application.env\";\n",
    "Env.Load(configurationFile);\n",
    "\n",
    "string oAiApiKey = Environment.GetEnvironmentVariable(\"WS_AOAI_APIKEY\") ?? \"WS_AOAI_APIKEY not found\";\n",
    "string oAiEndpoint = Environment.GetEnvironmentVariable(\"WS_AOAI_ENDPOINT\") ?? \"WS_AOAI_ENDPOINT not found\";\n",
    "string chatCompletionDeploymentName = Environment.GetEnvironmentVariable(\"WS_CHATCOMPLETION_DEPLOYMENTNAME\") ?? \"WS_CHATCOMPLETION_DEPLOYMENTNAME not found\";\n",
    "\n",
    "ApiKeyCredential apiKeyCredential = new ApiKeyCredential(oAiApiKey);\n",
    "AzureOpenAIClient azureOpenAIClient = new AzureOpenAIClient(new Uri(oAiEndpoint), apiKeyCredential);\n",
    "\n",
    "#pragma warning disable OPENAI001\n",
    "AssistantClient assistantClient = azureOpenAIClient.GetAssistantClient();\n",
    "\n",
    "Console.WriteLine($\"AzureOpenAI Client created...\");\n",
    "Console.WriteLine($\"AssistantClient created...\");"
   ]
  },
  {
   "cell_type": "markdown",
   "metadata": {},
   "source": [
    "## Step 2: Create Assistant\n",
    "\n",
    "The class `AssistantCreationOptions' takes information to define the Assistant. The following properties are used to define the to be created Assistant:\n",
    "\n",
    "- Name: User friendly name to identify the Assistant\n",
    "- Instructions: Information how the Assistant should behave. This can be compared to the SystemMessage of classic OpenAI chat completions\n",
    "- Tools: A list of tools the agent has access. In this sample the `CreateCodeInterpreter` tool is provided to the Assistant. This allows the Assistant to create and execute code if necessary (not used in this simplified sample).\n",
    "\n",
    "The Assistant is created using the method `CreateAssistantAsync()`. "
   ]
  },
  {
   "cell_type": "code",
   "execution_count": 14,
   "metadata": {
    "dotnet_interactive": {
     "language": "csharp"
    },
    "polyglot_notebook": {
     "kernelName": "csharp"
    }
   },
   "outputs": [
    {
     "name": "stdout",
     "output_type": "stream",
     "text": [
      "Assistant: asst_rxfOtdvJ0sceRiQkSsv5EvbS created...\r\n"
     ]
    }
   ],
   "source": [
    "AssistantCreationOptions assistantCreationOptions = new AssistantCreationOptions()\n",
    "{\n",
    "    Name = \"Sport Assistant\",\n",
    "    Instructions = \"You help answering questions related to sport events.\",\n",
    "    Tools = { ToolDefinition.CreateCodeInterpreter() },\n",
    "};\n",
    "\n",
    "Assistant assistant = await assistantClient.CreateAssistantAsync(chatCompletionDeploymentName, assistantCreationOptions); \n",
    "\n",
    "Console.WriteLine($\"Assistant: {assistant.Id} created...\");"
   ]
  },
  {
   "cell_type": "markdown",
   "metadata": {},
   "source": [
    "## Step 3: Create Thread\n",
    "\n",
    "A Thread is a stateful object at the OpenAI Assistants API. It stores all messages provided as input as well as all completions from LLMs.\n",
    "\n",
    "The method `CreateThreadAsync()` is used to create a new Thread and it will be initialized with the message *Who won the Super Bowl in 2024*.\n",
    "\n"
   ]
  },
  {
   "cell_type": "code",
   "execution_count": 15,
   "metadata": {
    "dotnet_interactive": {
     "language": "csharp"
    },
    "polyglot_notebook": {
     "kernelName": "csharp"
    }
   },
   "outputs": [
    {
     "name": "stdout",
     "output_type": "stream",
     "text": [
      "Thread: thread_0f8Bg6c9WVI8jTjooAGjioUc created...\r\n"
     ]
    }
   ],
   "source": [
    "IList<MessageContent> messageContents = new List<MessageContent>(); \n",
    "MessageContent messageContent = MessageContent.FromText(\"Who won the Super Bowl in 2024?\");      \n",
    "messageContents.Add(messageContent);\n",
    "\n",
    "ThreadInitializationMessage threadInitializationMessage =  \n",
    "    new ThreadInitializationMessage(messageContents);\n",
    "\n",
    "ThreadCreationOptions threadCreationOptions = new ThreadCreationOptions();\n",
    "threadCreationOptions.InitialMessages.Add(threadInitializationMessage);\n",
    "    \n",
    "AssistantThread assistantThread = await assistantClient.CreateThreadAsync(threadCreationOptions);\n",
    "\n",
    "Console.WriteLine($\"Thread: {assistantThread.Id} created...\");"
   ]
  },
  {
   "cell_type": "markdown",
   "metadata": {},
   "source": [
    "## Step 4: Create Run\n",
    "\n",
    "After creating a Thread containing messages and creating an Assistant both entities are brought together in a Run. The run enables the Assistant to act on the provided messages. The Run is an asynchronous batch job and can be started using the `CreateRunAsync()` method."
   ]
  },
  {
   "cell_type": "code",
   "execution_count": 16,
   "metadata": {
    "dotnet_interactive": {
     "language": "csharp"
    },
    "polyglot_notebook": {
     "kernelName": "csharp"
    }
   },
   "outputs": [
    {
     "name": "stdout",
     "output_type": "stream",
     "text": [
      "Run: run_pGFqN9vsSUAFvTuzetpGRBIb created...\r\n"
     ]
    }
   ],
   "source": [
    "RunCreationOptions runCreationOptions = new RunCreationOptions()\n",
    "{\n",
    "    AdditionalInstructions = \"Reply with 'I don't know' if you can't answer the question.\"\n",
    "};\n",
    "\n",
    "ClientResult<ThreadRun> threadRun = await \n",
    "    assistantClient.CreateRunAsync(assistantThread, assistant, runCreationOptions);\n",
    "\n",
    "Console.WriteLine($\"Run: {threadRun.Value.Id} created...\");\n",
    "\n"
   ]
  },
  {
   "cell_type": "markdown",
   "metadata": {},
   "source": [
    "## Step 6: Check Status & Retrieve Message\n",
    "\n",
    "While the Run is executed it's status and already created messages which are placed in the Thread can be retrieved:\n",
    "\n",
    "- `GetRunAsync()` retrieves the current state of the Run\n",
    "- `GetRunSteps()` retrieves the current execution steps of the Run\n",
    "- `GetMessagesAsync()` retrieves all Thread messages"
   ]
  },
  {
   "cell_type": "code",
   "execution_count": 17,
   "metadata": {
    "dotnet_interactive": {
     "language": "csharp"
    },
    "polyglot_notebook": {
     "kernelName": "csharp"
    }
   },
   "outputs": [
    {
     "name": "stdout",
     "output_type": "stream",
     "text": [
      "Step: step_DWc9iF03OoOOmP92B7k6b5fk - completed\n",
      "I don't know.\n",
      "\n",
      "\n",
      "\n",
      "Who won the Super Bowl in 2024?\n",
      "\n",
      "\n",
      "\n"
     ]
    }
   ],
   "source": [
    "while (!(threadRun.Value.Status == RunStatus.Completed) && !(threadRun.Value.Status == RunStatus.Failed))\n",
    "{\n",
    "    await foreach(var runStep in assistantClient.GetRunStepsAsync(threadRun.Value.ThreadId, threadRun.Value.Id)){\n",
    "        Console.WriteLine($\"Step: {runStep.Id} - {runStep.Status}\");\n",
    "    };\n",
    "    \n",
    "    await Task.Delay(1000);\n",
    "    threadRun = await assistantClient.GetRunAsync(threadRun.Value.ThreadId, threadRun.Value.Id);\n",
    "}\n",
    "\n",
    "if (threadRun.Value.Status == RunStatus.Completed)\n",
    "{\n",
    "    await foreach(ThreadMessage threadMessage in assistantClient.GetMessagesAsync(assistantThread.Id)){\n",
    "        IReadOnlyList<MessageContent> messages = threadMessage.Content; \n",
    "        messages.AsEnumerable().ToList().ForEach(msg => Console.WriteLine(msg));\n",
    "        Console.WriteLine(\"\\n\\n\"); \n",
    "    };\n",
    "}\n",
    "else if (threadRun.Value.Status == RunStatus.Failed)\n",
    "{\n",
    "    Console.WriteLine($\"{threadRun.Value.LastError.Message}\");\n",
    "}"
   ]
  },
  {
   "cell_type": "markdown",
   "metadata": {},
   "source": [
    "## Step 7: Create Run Streaming\n",
    "\n",
    "The above code cell was retrieving messages from the Thread after they have been created and have been explicitly retrieved using `GetMessagesAsync()`.\n",
    "The Assistants API and the corresponding SDK provides also streaming capabilities which provide messages and tokens as they have been created and added to the Thread.\n",
    "\n",
    "The method `CreateRunStreamingAsync()` provides a `StreamingUpdate` object which can be used to retrieve tokens as the have been added to the Thread."
   ]
  },
  {
   "cell_type": "code",
   "execution_count": null,
   "metadata": {
    "dotnet_interactive": {
     "language": "csharp"
    },
    "polyglot_notebook": {
     "kernelName": "csharp"
    }
   },
   "outputs": [],
   "source": [
    "RunCreationOptions runCreationOptions = new RunCreationOptions()\n",
    "{\n",
    "    AdditionalInstructions = \"Reply with 'I don't know' if you can't answer the question.\"\n",
    "};\n",
    "\n",
    "await foreach (StreamingUpdate streamingUpdate in assistantClient.CreateRunStreamingAsync(\n",
    "    assistantThread, assistant, runCreationOptions))\n",
    "{\n",
    "    Console.WriteLine($\"Update kind: {streamingUpdate.UpdateKind}\");\n",
    "    string messageContentUpdate = (streamingUpdate is MessageContentUpdate) ? \n",
    "        ((MessageContentUpdate)streamingUpdate).Text : \"\";\n",
    "    if (!String.IsNullOrEmpty(messageContentUpdate))\n",
    "        Console.WriteLine($\"Completion: {messageContentUpdate}\");\n",
    "}"
   ]
  },
  {
   "cell_type": "markdown",
   "metadata": {},
   "source": [
    "## Step 7: Clean up resources\n",
    "\n",
    "An Assistant as well as a Thread are objects stored at the OpenAI service level. Therefore if they aren't needed any longer it is recommended to delete them. The methods `DeleteAssistantAsync()` and `DeleteThreadAsync()` can be used."
   ]
  },
  {
   "cell_type": "code",
   "execution_count": null,
   "metadata": {
    "dotnet_interactive": {
     "language": "csharp"
    },
    "polyglot_notebook": {
     "kernelName": "csharp"
    }
   },
   "outputs": [],
   "source": [
    "await assistantClient.DeleteAssistantAsync(assistant);\n",
    "await assistantClient.DeleteThreadAsync(assistantThread);\n",
    "\n",
    "Console.WriteLine($\"Assistant and Thread deleted...\");       "
   ]
  }
 ],
 "metadata": {
  "kernelspec": {
   "display_name": ".NET (C#)",
   "language": "C#",
   "name": ".net-csharp"
  },
  "language_info": {
   "name": "polyglot-notebook"
  },
  "polyglot_notebook": {
   "kernelInfo": {
    "defaultKernelName": "csharp",
    "items": [
     {
      "aliases": [],
      "languageName": "csharp",
      "name": "csharp"
     }
    ]
   }
  }
 },
 "nbformat": 4,
 "nbformat_minor": 2
}
