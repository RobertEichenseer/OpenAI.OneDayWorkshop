{
 "cells": [
  {
   "cell_type": "markdown",
   "metadata": {},
   "source": [
    "# 07 Semantic Kernel | 01 Plugin\n",
    "\n",
    "## Azure Environment\n",
    "\n",
    "To execute the sample code Azure service specific information like endpoint, api key etc. is needed ([Details and instructions can be found here](../01_CreateEnvironment/01_Environment.ipynb))\n",
    "\n",
    "This notebooks highlights how Plugins work. \n",
    "\n",
    "## Step 1: Create Semantic Kernel\n",
    "\n",
    "MS Semantic Kernel is a tool or library developed by Microsoft to abstract away communication with LLMs and other services like vector DBs. The nuget package Microsoft.SemanticKernel provides developers with access to this powerful tool, allowing them to integrate advanced language processing capabilities into their applications effortlessly.\n"
   ]
  },
  {
   "cell_type": "code",
   "execution_count": 6,
   "metadata": {
    "dotnet_interactive": {
     "language": "csharp"
    },
    "polyglot_notebook": {
     "kernelName": "csharp"
    }
   },
   "outputs": [
    {
     "data": {
      "text/html": [
       "<div><div></div><div></div><div><strong>Installed Packages</strong><ul><li><span>DotNetEnv, 2.5.0</span></li><li><span>Microsoft.SemanticKernel, 1.0.1</span></li></ul></div></div>"
      ]
     },
     "metadata": {},
     "output_type": "display_data"
    },
    {
     "name": "stdout",
     "output_type": "stream",
     "text": [
      "Semantic Kernel created...\r\n"
     ]
    }
   ],
   "source": [
    "#r \"nuget: Microsoft.SemanticKernel, 1.0.1\"\n",
    "#r \"nuget: DotNetEnv, 2.5.0\"\n",
    "\n",
    "using Microsoft.SemanticKernel;\n",
    "using Microsoft.SemanticKernel.Connectors.OpenAI; \n",
    "using Microsoft.Extensions.Logging;\n",
    "using Microsoft.Extensions.Logging.Abstractions;\n",
    "using Microsoft.Extensions.DependencyInjection;\n",
    "using Kernel = Microsoft.SemanticKernel.Kernel;\n",
    "using DotNetEnv;\n",
    "using System.IO;\n",
    "\n",
    "//configuration file is created during environment creation\n",
    "static string _configurationFile = @\"../Configuration/application.env\";\n",
    "Env.Load(_configurationFile);\n",
    "\n",
    "\n",
    "string assetsFolder = Path.Combine(Directory.GetCurrentDirectory(), \"..\", \"assets\");\n",
    "string oAiApiKey = Environment.GetEnvironmentVariable(\"WS_AOAI1106_APIKEY\") ?? \"WS_AOAI1106_APIKEY not found\";\n",
    "string oAiEndpoint = Environment.GetEnvironmentVariable(\"WS_AOAI1106_ENDPOINT\") ?? \"WS_AOAI1106_ENDPOINT not found\";\n",
    "string chatCompletionDeploymentName = Environment.GetEnvironmentVariable(\"WS_AOAI1106_DEPLOYMENTNAME\") ?? \"WS_AOAI1106_DEPLOYMENTNAME not found\";\n",
    "\n",
    "\n",
    "var kernel = Kernel\n",
    "    .CreateBuilder()\n",
    "    .AddAzureOpenAIChatCompletion(\n",
    "        chatCompletionDeploymentName,\n",
    "        oAiEndpoint,\n",
    "        oAiApiKey,\n",
    "        serviceId: chatCompletionDeploymentName \n",
    "    )\n",
    "    .Build();\n",
    "\n",
    "\n",
    "\n",
    "Console.WriteLine($\"Semantic Kernel created...\");\n"
   ]
  },
  {
   "cell_type": "markdown",
   "metadata": {},
   "source": [
    "## Step 2: Define Plugin\n",
    "\n",
    "The code cell defines a so called plugin. A plugin is functionality (both native or semantic) which can be executed by Semantic Kernel. In this sample a summarization plugin is defined.\n",
    "\n"
   ]
  },
  {
   "cell_type": "code",
   "execution_count": 9,
   "metadata": {
    "dotnet_interactive": {
     "language": "csharp"
    },
    "polyglot_notebook": {
     "kernelName": "csharp"
    }
   },
   "outputs": [
    {
     "name": "stdout",
     "output_type": "stream",
     "text": [
      "Kernel plugin defined...\r\n"
     ]
    }
   ],
   "source": [
    "string skPrompt = \"\"\"\n",
    "    {{$ebook}}\n",
    "\n",
    "    Summarize the content above.\n",
    "    \"\"\";\n",
    "\n",
    "OpenAIPromptExecutionSettings executionSettings = new OpenAIPromptExecutionSettings \n",
    "{\n",
    "    MaxTokens = 2000,\n",
    "    Temperature = 0.2,\n",
    "    TopP = 0.5\n",
    "};\n",
    "\n",
    "PromptTemplateConfig promptTemplateConfig = new PromptTemplateConfig(skPrompt);\n",
    "\n",
    "KernelPromptTemplateFactory promptTemplateFactory = new KernelPromptTemplateFactory();\n",
    "IPromptTemplate promptTemplate = promptTemplateFactory.Create(promptTemplateConfig);\n",
    "KernelFunction summaryFunction = kernel.CreateFunctionFromPrompt(skPrompt, executionSettings);\n",
    "\n",
    "Console.WriteLine($\"Kernel plugin defined...\")\n",
    "\n",
    "\n",
    "\n"
   ]
  },
  {
   "cell_type": "markdown",
   "metadata": {},
   "source": [
    "## Step 3: Execute Plugin\n",
    "\n",
    "The Semantic Kernel function `InvokeAsync()` executes the defined plugin and therefore summarizes the provided ebook."
   ]
  },
  {
   "cell_type": "code",
   "execution_count": 8,
   "metadata": {},
   "outputs": [
    {
     "name": "stdout",
     "output_type": "stream",
     "text": [
      "The story is about a spaceship crew that lands on the planet Diamore to warn the inhabitants about an impending disaster. The crew discovers that the Diamoraii are telepathic and resistant to accepting help due to past experiences with another alien race. Despite the crew's efforts to save them, a series of mysterious deaths occur, leading to frustration and despair. The crew's captain is determined to make one last attempt to persuade the Diamoraii to accept their help.\r\n"
     ]
    }
   ],
   "source": [
    "string ebookFile = Path.Combine(assetsFolder, \"Embedding\", \"TheUntouchableAdolescents_Part01.txt\");\n",
    "\n",
    "string bookPartToSummarize = await File.ReadAllTextAsync(ebookFile);\n",
    "var summaryResult = await kernel.InvokeAsync(summaryFunction, new() { [\"ebook\"] = bookPartToSummarize });\n",
    "\n",
    "Console.WriteLine(summaryResult);\n"
   ]
  }
 ],
 "metadata": {
  "kernelspec": {
   "display_name": ".NET (C#)",
   "language": "C#",
   "name": ".net-csharp"
  },
  "language_info": {
   "name": "polyglot-notebook"
  },
  "polyglot_notebook": {
   "kernelInfo": {
    "defaultKernelName": "csharp",
    "items": [
     {
      "aliases": [],
      "languageName": "csharp",
      "name": "csharp"
     }
    ]
   }
  }
 },
 "nbformat": 4,
 "nbformat_minor": 2
}
