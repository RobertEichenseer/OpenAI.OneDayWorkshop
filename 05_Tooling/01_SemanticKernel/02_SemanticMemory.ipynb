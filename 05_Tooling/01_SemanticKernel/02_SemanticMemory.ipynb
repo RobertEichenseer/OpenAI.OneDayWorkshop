{
 "cells": [
  {
   "cell_type": "markdown",
   "metadata": {},
   "source": [
    "# 05 Tooling | 01 Semantic Kernel | 02 Semantic Memory\n",
    "\n",
    "## Azure Environment\n",
    "\n",
    "Necessary parameter are imported from [./Configuration/application.env]. Check [Create Environment](../../01_CreateEnvironment/01_Environment.ipynb) to setup the necessary demo environment.\n",
    "\n",
    "This notebooks highlights how Semantic Kernel simplifies the process of storing and retrieving vector data. \n",
    "\n",
    "## Step 1: Create Semantic Kernel\n",
    "\n",
    "MS Semantic Kernel is a tool or library developed by Microsoft to abstract away communication with LLMs and other services like vector DBs. The nuget package Microsoft.SemanticKernel provides developers with access to this powerful tool, allowing them to integrate advanced language processing capabilities into their applications effortlessly.\n"
   ]
  },
  {
   "cell_type": "code",
   "execution_count": 1,
   "metadata": {
    "dotnet_interactive": {
     "language": "csharp"
    },
    "polyglot_notebook": {
     "kernelName": "csharp"
    }
   },
   "outputs": [
    {
     "data": {
      "text/html": [
       "<div><div></div><div></div><div><strong>Installed Packages</strong><ul><li><span>DotNetEnv, 2.5.0</span></li><li><span>Microsoft.SemanticKernel, 1.15.1</span></li><li><span>Microsoft.SemanticKernel.Plugins.Memory, 1.15.1-alpha</span></li><li><span>System.Linq.Async, 6.0.1</span></li></ul></div></div>"
      ]
     },
     "metadata": {},
     "output_type": "display_data"
    },
    {
     "name": "stdout",
     "output_type": "stream",
     "text": [
      "Semantic Kernel created...\r\n"
     ]
    }
   ],
   "source": [
    "#r \"nuget: Microsoft.SemanticKernel, 1.15.1\"\n",
    "#r \"nuget: Microsoft.SemanticKernel.Plugins.Memory, 1.15.1-alpha\"\n",
    "#r \"nuget: System.Linq.Async, 6.0.1\"\n",
    "#r \"nuget: DotNetEnv, 2.5.0\"\n",
    "\n",
    "using Microsoft.SemanticKernel;\n",
    "using Microsoft.Extensions.Logging;\n",
    "using Microsoft.Extensions.Logging.Abstractions;\n",
    "using Microsoft.Extensions.DependencyInjection;\n",
    "using Kernel = Microsoft.SemanticKernel.Kernel;\n",
    "using DotNetEnv;\n",
    "\n",
    "//configuration file is created during environment creation\n",
    "static string _configurationFile = @\"../../Configuration/application.env\";\n",
    "Env.Load(_configurationFile);\n",
    "\n",
    "string oAiApiKey = Environment.GetEnvironmentVariable(\"WS_AOAI_APIKEY\") ?? \"WS_AOAI_APIKEY not found\";\n",
    "string oAiEndpoint = Environment.GetEnvironmentVariable(\"WS_AOAI_ENDPOINT\") ?? \"WS_AOAI_ENDPOINT not found\";\n",
    "string chatCompletionDeploymentName = Environment.GetEnvironmentVariable(\"WS_CHATCOMPLETION_DEPLOYMENTNAME\") ?? \"WS_CHATCOMPLETION_DEPLOYMENTNAME not found\";\n",
    "string embeddingDeploymentName = Environment.GetEnvironmentVariable(\"WS_EMBEDDING_DEPLOYMENTNAME\") ?? \"WS_EMBEDDING_DEPLOYMENTNAME not found\";\n",
    "string assetFolder = Environment.GetEnvironmentVariable(\"WS_ASSETS_FOLDER\") ?? \"WS_ASSETS_FOLDER not found\";  \n",
    "\n",
    "\n",
    "var kernel = Kernel\n",
    "    .CreateBuilder()\n",
    "    .AddAzureOpenAIChatCompletion(\n",
    "        chatCompletionDeploymentName,\n",
    "        oAiEndpoint,\n",
    "        oAiApiKey\n",
    "    )\n",
    "    .Build();\n",
    "Console.WriteLine($\"Semantic Kernel created...\");\n"
   ]
  },
  {
   "cell_type": "markdown",
   "metadata": {},
   "source": [
    "## Step 2: Create Memory Store\n",
    "\n",
    "Semantic Kernel offers an abstraction of creating embeddings and storing/querying them in connected vector databases. \n",
    "\n",
    "The `MemoryBuilder()` class offers a function `WithMemoryStore()` which allows abstracting the used vector database. In the code cell a volatile memory store which can be used for development purposes is used.\n"
   ]
  },
  {
   "cell_type": "code",
   "execution_count": 2,
   "metadata": {
    "dotnet_interactive": {
     "language": "csharp"
    },
    "polyglot_notebook": {
     "kernelName": "csharp"
    }
   },
   "outputs": [
    {
     "name": "stdout",
     "output_type": "stream",
     "text": [
      "SemanticTextMemory created...\r\n"
     ]
    }
   ],
   "source": [
    "using Microsoft.SemanticKernel.Memory;\n",
    "using Microsoft.SemanticKernel.Connectors.OpenAI;\n",
    "\n",
    "// Memory functionality is experimental\n",
    "#pragma warning disable SKEXP0001, SKEXP0010, SKEXP0050, SKEXP0011, SKEXP0003, SKEXP0052\n",
    "\n",
    "MemoryBuilder memoryBuilder = new MemoryBuilder();\n",
    "\n",
    "memoryBuilder.WithAzureOpenAITextEmbeddingGeneration(\n",
    "    embeddingDeploymentName,\n",
    "    oAiEndpoint, \n",
    "    oAiApiKey,\n",
    "    embeddingDeploymentName);\n",
    "\n",
    "memoryBuilder.WithMemoryStore(new VolatileMemoryStore());\n",
    "\n",
    "ISemanticTextMemory semanticTextMemory = memoryBuilder.Build();\n",
    "\n",
    "Console.WriteLine($\"SemanticTextMemory created...\");"
   ]
  },
  {
   "cell_type": "markdown",
   "metadata": {},
   "source": [
    "## Step 3: Add Facts to Memory Store\n",
    "The code cell adds specific information or knowledge to the previously created memory. Adding information to the memory means: \n",
    "\n",
    "- create embeddings out of the information\n",
    "- store the embeddings together with the information in the connected memory store (e.g.: Vector DB)"
   ]
  },
  {
   "cell_type": "code",
   "execution_count": 3,
   "metadata": {
    "dotnet_interactive": {
     "language": "csharp"
    },
    "polyglot_notebook": {
     "kernelName": "csharp"
    }
   },
   "outputs": [
    {
     "name": "stdout",
     "output_type": "stream",
     "text": [
      "Information about: Wiki-AKS saved in memory...\n",
      "Information about: WikiSuperBowl2024 saved in memory...\n",
      "Information about: WikiStatement saved in memory...\n"
     ]
    }
   ],
   "source": [
    "using System.IO; \n",
    "\n",
    "string collection = \"knowledgebase\";\n",
    "\n",
    "//define, embedd & store artificial facts\n",
    "string factName = \"Wiki-AKS\";\n",
    "string factContent = await File.ReadAllTextAsync(Path.Combine(assetFolder, \"Embedding\", \"WikiAks.txt\")); \n",
    "await semanticTextMemory.SaveInformationAsync(collection, id: factName, text: factContent);\n",
    "Console.WriteLine($\"Information about: {factName} saved in memory...\");\n",
    "\n",
    "await Task.Delay(TimeSpan.FromSeconds(5)); //avoid throttling\n",
    "factName = \"WikiSuperBowl2024\";\n",
    "factContent = await File.ReadAllTextAsync(Path.Combine(assetFolder, \"Embedding\", \"WikiSuperBowl2024.txt\")); \n",
    "await semanticTextMemory.SaveInformationAsync(collection, id: factName, text: factContent);\n",
    "Console.WriteLine($\"Information about: {factName} saved in memory...\");\n",
    "\n",
    "await Task.Delay(TimeSpan.FromSeconds(5)); //avoid throttling\n",
    "factName = \"WikiStatement\";\n",
    "factContent = @\"The Kansas City Chiefs won the Super Bowl 2024!\";\n",
    "await semanticTextMemory.SaveInformationAsync(collection, id: factName, text: factContent);\n",
    "Console.WriteLine($\"Information about: {factName} saved in memory...\");"
   ]
  },
  {
   "cell_type": "markdown",
   "metadata": {},
   "source": [
    "## Step 4: Query Memory Store\n",
    "\n",
    "The code cell uses the `SearchAsync()` function to query the memory store. "
   ]
  },
  {
   "cell_type": "code",
   "execution_count": 4,
   "metadata": {
    "dotnet_interactive": {
     "language": "csharp"
    },
    "polyglot_notebook": {
     "kernelName": "csharp"
    }
   },
   "outputs": [
    {
     "name": "stdout",
     "output_type": "stream",
     "text": [
      "Response: The Kansas City Chiefs won the Super Bowl 2024! - Relevance: 0.8878690004348755\r\n"
     ]
    }
   ],
   "source": [
    "string query = \"Who won the Super Bowl in 2024?\";\n",
    "\n",
    "var response = await semanticTextMemory.SearchAsync(collection, query).FirstOrDefaultAsync();\n",
    "\n",
    "Console.WriteLine($\"Response: {response?.Metadata.Text} - Relevance: {response?.Relevance}\");"
   ]
  }
 ],
 "metadata": {
  "kernelspec": {
   "display_name": ".NET (C#)",
   "language": "C#",
   "name": ".net-csharp"
  },
  "language_info": {
   "name": "polyglot-notebook"
  },
  "polyglot_notebook": {
   "kernelInfo": {
    "defaultKernelName": "csharp",
    "items": [
     {
      "aliases": [],
      "languageName": "csharp",
      "name": "csharp"
     }
    ]
   }
  }
 },
 "nbformat": 4,
 "nbformat_minor": 2
}
