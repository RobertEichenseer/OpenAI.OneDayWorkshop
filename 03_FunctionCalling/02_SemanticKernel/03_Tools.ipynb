{
 "cells": [
  {
   "cell_type": "markdown",
   "metadata": {},
   "source": [
    "# 03 Function Calling | 02 Semantic Kernel \n",
    "\n",
    "## Azure Environment\n",
    "\n",
    "Necessary parameter are imported from [./Configuration/application.env]. Check [Create Environment](../../01_CreateEnvironment/01_Environment.ipynb) to setup the necessary demo environment. \n",
    "\n",
    "## Step 1: Create Semantic Kernel\n",
    "\n",
    "[MS Semantic Kernel](https://github.com/microsoft/semantic-kernel) is a tool or library developed by Microsoft to abstract away communication with LLMs and other services like vector DBs. The nuget package Microsoft.SemanticKernel provides developers with access to this powerful tool, allowing them to integrate advanced language processing capabilities into their applications effortlessly.\n",
    "\n",
    "A instance of `Kernel` is created and acts as centralized object to execute Semantic Kernel functionality.\n"
   ]
  },
  {
   "cell_type": "code",
   "execution_count": 7,
   "metadata": {
    "dotnet_interactive": {
     "language": "csharp"
    },
    "polyglot_notebook": {
     "kernelName": "csharp"
    }
   },
   "outputs": [
    {
     "data": {
      "text/html": [
       "<div><div></div><div></div><div><strong>Installed Packages</strong><ul><li><span>DotNetEnv, 2.5.0</span></li><li><span>Microsoft.SemanticKernel, 1.15.1</span></li><li><span>Microsoft.SemanticKernel.Connectors.OpenAI, 1.15.1</span></li></ul></div></div>"
      ]
     },
     "metadata": {},
     "output_type": "display_data"
    },
    {
     "name": "stdout",
     "output_type": "stream",
     "text": [
      "Semantic Kernel created...\r\n"
     ]
    }
   ],
   "source": [
    "#r \"nuget: Microsoft.SemanticKernel, 1.15.1\"\n",
    "#r \"nuget: Microsoft.SemanticKernel.Connectors.OpenAI, 1.15.1\"\n",
    "#r \"nuget: DotNetEnv, 2.5.0\"\n",
    "\n",
    "using Microsoft.SemanticKernel;\n",
    "using Microsoft.SemanticKernel.ChatCompletion;\n",
    "using Microsoft.SemanticKernel.Connectors.OpenAI;\n",
    "using DotNetEnv;\n",
    "\n",
    "//configuration file is created during environment creation\n",
    "static string _configurationFile = @\"../../Configuration/application.env\";\n",
    "Env.Load(_configurationFile);\n",
    "\n",
    "string oAiApiKey = Environment.GetEnvironmentVariable(\"WS_AOAI_APIKEY\") ?? \"WS_AOAI_APIKEY not found\";\n",
    "string oAiEndpoint = Environment.GetEnvironmentVariable(\"WS_AOAI_ENDPOINT\") ?? \"WS_AOAI_ENDPOINT not found\";\n",
    "string chatCompletionDeploymentName = Environment.GetEnvironmentVariable(\"WS_CHATCOMPLETION_DEPLOYMENTNAME\") ?? \"WS_CHATCOMPLETION_DEPLOYMENTNAME not found\";\n",
    "string embeddingDeploymentName = Environment.GetEnvironmentVariable(\"WS_EMBEDDING_DEPLOYMENTNAME\") ?? \"WS_EMBEDDING_DEPLOYMENTNAME not found\";\n",
    "string assetFolder = Environment.GetEnvironmentVariable(\"WS_ASSETS_FOLDER\") ?? \"WS_ASSETS_FOLDER not found\";  \n",
    "\n",
    "\n",
    "var kernel = Kernel\n",
    "    .CreateBuilder()\n",
    "    .AddAzureOpenAIChatCompletion(\n",
    "        chatCompletionDeploymentName,\n",
    "        oAiEndpoint,\n",
    "        oAiApiKey\n",
    "    )\n",
    "    .Build();\n",
    "    \n",
    "Console.WriteLine($\"Semantic Kernel created...\");\n"
   ]
  },
  {
   "cell_type": "markdown",
   "metadata": {},
   "source": [
    "## Step 3: Add Plugins to the planner\n",
    "\n",
    "The two native functions: \n",
    "\n",
    "- `GetSupportEventWinner()`\n",
    "- `GetSportEventResult()`\n",
    "\n",
    "are defined as `KernelFunction` and provided to the `kernel` instance created in the previous code cell.\n"
   ]
  },
  {
   "cell_type": "code",
   "execution_count": 8,
   "metadata": {
    "dotnet_interactive": {
     "language": "csharp"
    },
    "polyglot_notebook": {
     "kernelName": "csharp"
    }
   },
   "outputs": [
    {
     "name": "stdout",
     "output_type": "stream",
     "text": [
      "Sport functions imported...\r\n"
     ]
    }
   ],
   "source": [
    "private string GetSportEventWinner(string sportEvent, string year)\n",
    "{\n",
    "    // Implement the logic to get the winner of the sport event.\n",
    "    Console.WriteLine(\"GetSportEventWinner called...\");\n",
    "    return \"Kansas City Chiefs\";\n",
    "}\n",
    "\n",
    "private string GetSportEventResult(string sportEvent, string year)\n",
    "{\n",
    "    // Implement the logic to get the result of the sport event.\n",
    "    Console.WriteLine(\"GetSportEventResult called...\");\n",
    "    return \"25:22\";\n",
    "}\n",
    "\n",
    "KernelFunction kernelFunctionWinner = kernel.CreateFunctionFromMethod(\n",
    "    GetSportEventWinner, \n",
    "    \"GetSportEventWinner\", \n",
    "    \"Get the winner of the sport event.\"\n",
    ");\n",
    "\n",
    "KernelFunction kernelFunctionResult = kernel.CreateFunctionFromMethod(\n",
    "    GetSportEventResult, \n",
    "    \"GetSportEventResult\", \n",
    "    \"Get the result of the sport event.\"\n",
    ");\n",
    "\n",
    "kernel.ImportPluginFromFunctions(\n",
    "    \"SportFunctions\", \n",
    "    new KernelFunction[] { \n",
    "        kernelFunctionWinner, \n",
    "        kernelFunctionResult \n",
    "    }\n",
    ");\n",
    "\n",
    "Console.WriteLine($\"Sport functions imported...\");"
   ]
  },
  {
   "cell_type": "markdown",
   "metadata": {},
   "source": [
    "## Step 4: Call Functions\n",
    "\n",
    "The `ChatCompletionService` instance is requested from the previously defined `kernel` and used to call the `GetChatMessageContentAsync()` function. Due to the configuration in `OpenAIPromptExecutionSessings` which allows to `AutoInvokeKernelFunctions` the provided native functions are called by the Semantic Kernel functionality and on request from the LLM."
   ]
  },
  {
   "cell_type": "code",
   "execution_count": 10,
   "metadata": {
    "dotnet_interactive": {
     "language": "csharp"
    },
    "polyglot_notebook": {
     "kernelName": "csharp"
    }
   },
   "outputs": [
    {
     "name": "stdout",
     "output_type": "stream",
     "text": [
      "GetSportEventWinner called...\n",
      "GetSportEventResult called...\n",
      "Execution results: The winner of the Super Bowl 2024 was the Kansas City Chiefs. The result of the game was 25-22.\n",
      "See the wrong score as proof that local functions have been called!\n"
     ]
    }
   ],
   "source": [
    "IChatCompletionService chatCompletionService = kernel.GetRequiredService<IChatCompletionService>(); \n",
    "\n",
    "// Allow Auto Invoke of provided plugins\n",
    "OpenAIPromptExecutionSettings openAIPromptExecutionSettings = new() \n",
    "{\n",
    "    ToolCallBehavior = ToolCallBehavior.AutoInvokeKernelFunctions\n",
    "};\n",
    "\n",
    "ChatHistory chatHistory = new ChatHistory();\n",
    "chatHistory.AddUserMessage(\"Who won the Super Bowl 2024? What was the result?\");\n",
    "\n",
    "ChatMessageContent chatMessageContent = await chatCompletionService.GetChatMessageContentAsync(\n",
    "    chatHistory,\n",
    "    executionSettings: openAIPromptExecutionSettings,\n",
    "    kernel: kernel);\n",
    "\n",
    "Console.WriteLine($\"Execution results: {chatMessageContent}\");\n",
    "Console.WriteLine($\"See the wrong score as proof that local functions have been called!\")"
   ]
  }
 ],
 "metadata": {
  "kernelspec": {
   "display_name": ".NET (C#)",
   "language": "C#",
   "name": ".net-csharp"
  },
  "language_info": {
   "name": "polyglot-notebook"
  },
  "polyglot_notebook": {
   "kernelInfo": {
    "defaultKernelName": "csharp",
    "items": [
     {
      "aliases": [],
      "languageName": "csharp",
      "name": "csharp"
     }
    ]
   }
  }
 },
 "nbformat": 4,
 "nbformat_minor": 2
}
