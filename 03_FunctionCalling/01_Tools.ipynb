{
 "cells": [
  {
   "cell_type": "markdown",
   "metadata": {},
   "source": [
    "# 03 Function Calling | Tools\n",
    "\n",
    "## Step 1: Create Search Index Client\n",
    "\n",
    "\n"
   ]
  },
  {
   "cell_type": "code",
   "execution_count": 1,
   "metadata": {
    "dotnet_interactive": {
     "language": "csharp"
    },
    "polyglot_notebook": {
     "kernelName": "csharp"
    }
   },
   "outputs": [
    {
     "data": {
      "text/html": [
       "<div><div></div><div></div><div><strong>Installed Packages</strong><ul><li><span>Azure.AI.OpenAI, 2.0.0-beta.2</span></li><li><span>DotNetEnv, 2.5.0</span></li></ul></div></div>"
      ]
     },
     "metadata": {},
     "output_type": "display_data"
    },
    {
     "name": "stdout",
     "output_type": "stream",
     "text": [
      "AzureOpenAI Client created...\n",
      "ChatClient created...\n"
     ]
    }
   ],
   "source": [
    "#r \"nuget: Azure.AI.OpenAI, 2.0.0-beta.2\"\n",
    "#r \"nuget: DotNetEnv, 2.5.0\"\n",
    "\n",
    "using Azure; \n",
    "using Azure.AI.OpenAI;\n",
    "using OpenAI.Chat;\n",
    "using DotNetEnv;\n",
    "using System.IO;\n",
    "using System.Text.Json; \n",
    "using System.ClientModel;\n",
    "\n",
    "//configuration file is created during environment creation\n",
    "static string configurationFile = @\"../Configuration/application.env\";\n",
    "Env.Load(configurationFile);\n",
    "\n",
    "string oAiApiKey = Environment.GetEnvironmentVariable(\"WS_AOAI_APIKEY\") ?? \"WS_AOAI_APIKEY not found\";\n",
    "string oAiEndpoint = Environment.GetEnvironmentVariable(\"WS_AOAI_ENDPOINT\") ?? \"WS_AOAI_ENDPOINT not found\";\n",
    "string chatCompletionDeploymentName = Environment.GetEnvironmentVariable(\"WS_CHATCOMPLETION_DEPLOYMENTNAME\") ?? \"WS_CHATCOMPLETION_DEPLOYMENTNAME not found\";\n",
    "\n",
    "\n",
    "ApiKeyCredential apiKeyCredential = new ApiKeyCredential(oAiApiKey);\n",
    "AzureOpenAIClient azureOpenAIClient = new AzureOpenAIClient(new Uri(oAiEndpoint), apiKeyCredential);\n",
    "ChatClient chatClient = azureOpenAIClient.GetChatClient(chatCompletionDeploymentName);\n",
    "\n",
    "Console.WriteLine($\"AzureOpenAI Client created...\");\n",
    "Console.WriteLine($\"ChatClient created...\");"
   ]
  },
  {
   "cell_type": "markdown",
   "metadata": {},
   "source": [
    "# Step 2: Define Tools\n",
    "\n",
    "\n"
   ]
  },
  {
   "cell_type": "code",
   "execution_count": 2,
   "metadata": {
    "dotnet_interactive": {
     "language": "csharp"
    },
    "polyglot_notebook": {
     "kernelName": "csharp"
    }
   },
   "outputs": [
    {
     "name": "stdout",
     "output_type": "stream",
     "text": [
      "Functions and corresponding tools definition created...\r\n"
     ]
    }
   ],
   "source": [
    "private string GetSportEventWinner(string sportEvent, string year)\n",
    "{\n",
    "    // Implement the logic to get the winner of the sport event.\n",
    "    return \"Kansas City Chiefs\";\n",
    "}\n",
    "\n",
    "private string GetSportEventResult(string sportEvent, string year)\n",
    "{\n",
    "    // Implement the logic to get the result of the sport event.\n",
    "    return \"24:1\";\n",
    "}\n",
    "\n",
    "ChatTool getSportEventWinnerTool = ChatTool.CreateFunctionTool(\n",
    "    functionName: nameof(GetSportEventWinner),\n",
    "    functionDescription: \"Get the winner of a sport Event\",\n",
    "    functionParameters: BinaryData.FromString(\"\"\"\n",
    "    {\n",
    "        \"type\": \"object\",\n",
    "        \"properties\": {\n",
    "            \"sportEvent\": {\n",
    "                \"type\": \"string\",\n",
    "                \"description\": \"The name of the sport event\"\n",
    "            },\n",
    "            \"year\": {\n",
    "                \"type\": \"string\",\n",
    "                \"description\": \"The year in which the sport event took place\"\n",
    "            }\n",
    "        },\n",
    "        \"required\": [ \"sportEvent\", \"year\" ]\n",
    "    }\n",
    "    \"\"\")\n",
    ");\n",
    "\n",
    "ChatTool getSportEventResultTool = ChatTool.CreateFunctionTool(\n",
    "    functionName: nameof(GetSportEventResult),\n",
    "    functionDescription: \"Get the result of a sport Event\",\n",
    "    functionParameters: BinaryData.FromString(\"\"\"\n",
    "    {\n",
    "        \"type\": \"object\",\n",
    "        \"properties\": {\n",
    "            \"sportEvent\": {\n",
    "                \"type\": \"string\",\n",
    "                \"description\": \"The name of the sport event\"\n",
    "            },\n",
    "            \"year\": {\n",
    "                \"type\": \"string\",\n",
    "                \"description\": \"The year in which the sport event took place\"\n",
    "            }\n",
    "        },\n",
    "        \"required\": [ \"sportEvent\", \"year\" ]\n",
    "    }\n",
    "    \"\"\")\n",
    ");\n",
    "\n",
    "private string CallLocalFunctions(ChatToolCall toolCall)\n",
    "{\n",
    "    //Consider adding error handling & function calling using reflection\n",
    "    using JsonDocument argumentsDocument = JsonDocument.Parse(toolCall.FunctionArguments);\n",
    "    switch (toolCall.FunctionName)\n",
    "    {\n",
    "        case nameof(GetSportEventWinner): {\n",
    "            string sportEvent = argumentsDocument.RootElement.GetProperty(\"sportEvent\").GetString() ?? \"\";\n",
    "            string year = argumentsDocument.RootElement.GetProperty(\"year\").GetString() ?? \"\";\n",
    "\n",
    "            Console.WriteLine($\"GetSportEventWinner({sportEvent}, {year}) - Called\");\n",
    "            return GetSportEventWinner(sportEvent, year);\n",
    "        }\n",
    "        case nameof(GetSportEventResult): {\n",
    "            string sportEvent = argumentsDocument.RootElement.GetProperty(\"sportEvent\").GetString() ?? \"\";\n",
    "            string year = argumentsDocument.RootElement.GetProperty(\"year\").GetString() ?? \"\";\n",
    "\n",
    "            Console.WriteLine($\"GetSportEventResult({sportEvent}, {year}) - Called\");\n",
    "            return GetSportEventResult(sportEvent, year);\n",
    "        }\n",
    "\n",
    "        default:\n",
    "            return \"Function not defined!\"; \n",
    "    }\n",
    "}\n",
    "\n",
    "Console.WriteLine(\"Functions and corresponding tools definition created...\");"
   ]
  },
  {
   "cell_type": "markdown",
   "metadata": {},
   "source": [
    "## Step 3: Define Chat Completion Options & Chat Messages"
   ]
  },
  {
   "cell_type": "code",
   "execution_count": 9,
   "metadata": {
    "dotnet_interactive": {
     "language": "csharp"
    },
    "polyglot_notebook": {
     "kernelName": "csharp"
    }
   },
   "outputs": [
    {
     "name": "stdout",
     "output_type": "stream",
     "text": [
      "Chat Messages created...\r\n"
     ]
    }
   ],
   "source": [
    "//Define Chat Completion Options\n",
    "ChatCompletionOptions chatCompletionOptions = new()\n",
    "{\n",
    "    Tools = { getSportEventResultTool, getSportEventWinnerTool },\n",
    "};\n",
    "\n",
    "//Define Chat Messages\n",
    "string systemMessage = \"\"; \n",
    "List<string> userMessages = new List<string> { \"Who won the Super Bowl in 2024? And what was the result?\" };\n",
    "List<ChatMessage> chatMessages = new List<ChatMessage>();\n",
    "\n",
    "chatMessages.Add(new SystemChatMessage(systemMessage)); \n",
    "chatMessages.AddRange(userMessages.Select(message => new UserChatMessage(message)));\n",
    "\n",
    "Console.WriteLine(\"Chat Messages created...\");"
   ]
  },
  {
   "cell_type": "markdown",
   "metadata": {},
   "source": [
    "## Step 4: Call Chat Completion"
   ]
  },
  {
   "cell_type": "code",
   "execution_count": 13,
   "metadata": {
    "dotnet_interactive": {
     "language": "csharp"
    },
    "polyglot_notebook": {
     "kernelName": "csharp"
    }
   },
   "outputs": [
    {
     "name": "stdout",
     "output_type": "stream",
     "text": [
      "Model response: \n",
      " The Kansas City Chiefs won the Super Bowl in 2024. The result of the game was 24-1.\r\n"
     ]
    }
   ],
   "source": [
    "//Call chat completion (with tools)\n",
    "ChatCompletion chatCompletion = await chatClient.CompleteChatAsync(\n",
    "    messages: chatMessages,\n",
    "    options: chatCompletionOptions\n",
    ");\n",
    "\n",
    "//Check Response\n",
    "while (chatCompletion.FinishReason == ChatFinishReason.ToolCalls)\n",
    "{\n",
    "    // Add a new assistant message to the conversation history that includes the tool calls\n",
    "    chatMessages.Add(new AssistantChatMessage(chatCompletion));\n",
    "\n",
    "    foreach (ChatToolCall toolCall in chatCompletion.ToolCalls)\n",
    "    {\n",
    "        chatMessages.Add(\n",
    "            new ToolChatMessage(\n",
    "                toolCall.Id, \n",
    "                CallLocalFunctions(toolCall)\n",
    "            )\n",
    "        );\n",
    "    }\n",
    "\n",
    "    chatCompletion = await chatClient.CompleteChatAsync(\n",
    "        messages: chatMessages,\n",
    "        options: chatCompletionOptions\n",
    "    );\n",
    "}\n",
    "\n",
    "foreach (ChatMessageContentPart chatMessageContentPart in chatCompletion.Content){\n",
    "    Console.WriteLine($\"Model response: \\n {chatMessageContentPart}\"); \n",
    "}"
   ]
  }
 ],
 "metadata": {
  "kernelspec": {
   "display_name": ".NET (C#)",
   "language": "C#",
   "name": ".net-csharp"
  },
  "language_info": {
   "name": "polyglot-notebook"
  },
  "polyglot_notebook": {
   "kernelInfo": {
    "defaultKernelName": "csharp",
    "items": [
     {
      "aliases": [],
      "languageName": "csharp",
      "name": "csharp"
     }
    ]
   }
  }
 },
 "nbformat": 4,
 "nbformat_minor": 2
}
