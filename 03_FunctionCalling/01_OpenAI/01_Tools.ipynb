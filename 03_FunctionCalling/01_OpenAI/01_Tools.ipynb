{
 "cells": [
  {
   "cell_type": "markdown",
   "metadata": {},
   "source": [
    "# 03 Function Calling | Tools\n",
    "\n",
    "## Azure Environment\n",
    "\n",
    "Necessary parameter are imported from [./Configuration/application.env]. Check [Create Environment](../../01_CreateEnvironment/01_Environment.ipynb) to setup the necessary demo environment.\n",
    "\n",
    "## Step 1: Create OpenAIClient / ChatClient\n",
    "\n",
    "The `AzureOpenAIClient` from the Azure.AI.OpenAI NuGet package offers a unified interface to create various specialized clients, each designed to handle specific tasks.\n",
    "In this notebook the `ChatClient` is used."
   ]
  },
  {
   "cell_type": "code",
   "execution_count": 1,
   "metadata": {
    "dotnet_interactive": {
     "language": "csharp"
    },
    "polyglot_notebook": {
     "kernelName": "csharp"
    }
   },
   "outputs": [
    {
     "data": {
      "text/html": [
       "<div><div></div><div></div><div><strong>Installed Packages</strong><ul><li><span>Azure.AI.OpenAI, 2.0.0-beta.2</span></li><li><span>DotNetEnv, 2.5.0</span></li></ul></div></div>"
      ]
     },
     "metadata": {},
     "output_type": "display_data"
    },
    {
     "name": "stdout",
     "output_type": "stream",
     "text": [
      "AzureOpenAI Client created...\n",
      "ChatClient created...\n"
     ]
    }
   ],
   "source": [
    "#r \"nuget: Azure.AI.OpenAI, 2.0.0-beta.2\"\n",
    "#r \"nuget: DotNetEnv, 2.5.0\"\n",
    "\n",
    "using Azure; \n",
    "using Azure.AI.OpenAI;\n",
    "using OpenAI.Chat;\n",
    "using DotNetEnv;\n",
    "using System.IO;\n",
    "using System.Text.Json; \n",
    "using System.ClientModel;\n",
    "\n",
    "//configuration file is created during environment creation\n",
    "static string configurationFile = @\"../../Configuration/application.env\";\n",
    "Env.Load(configurationFile);\n",
    "\n",
    "string oAiApiKey = Environment.GetEnvironmentVariable(\"WS_AOAI_APIKEY\") ?? \"WS_AOAI_APIKEY not found\";\n",
    "string oAiEndpoint = Environment.GetEnvironmentVariable(\"WS_AOAI_ENDPOINT\") ?? \"WS_AOAI_ENDPOINT not found\";\n",
    "string chatCompletionDeploymentName = Environment.GetEnvironmentVariable(\"WS_CHATCOMPLETION_DEPLOYMENTNAME\") ?? \"WS_CHATCOMPLETION_DEPLOYMENTNAME not found\";\n",
    "\n",
    "\n",
    "ApiKeyCredential apiKeyCredential = new ApiKeyCredential(oAiApiKey);\n",
    "AzureOpenAIClient azureOpenAIClient = new AzureOpenAIClient(new Uri(oAiEndpoint), apiKeyCredential);\n",
    "ChatClient chatClient = azureOpenAIClient.GetChatClient(chatCompletionDeploymentName);\n",
    "\n",
    "Console.WriteLine($\"AzureOpenAI Client created...\");\n",
    "Console.WriteLine($\"ChatClient created...\");"
   ]
  },
  {
   "cell_type": "markdown",
   "metadata": {},
   "source": [
    "# Step 2: Define Tools\n",
    "\n",
    "Two native functions: \n",
    "\n",
    "- `GetSportEventWinner()`\n",
    "- `GetSportEventResult()`\n",
    "  \n",
    "are defined and described as `ChatTool` objects. The simplified helper function `CallLocalFunctions` is used to call those functions if requested by the LLM. Consider replacing it with functionality using Reflection to dynamically call requested functionality."
   ]
  },
  {
   "cell_type": "code",
   "execution_count": 2,
   "metadata": {
    "dotnet_interactive": {
     "language": "csharp"
    },
    "polyglot_notebook": {
     "kernelName": "csharp"
    }
   },
   "outputs": [
    {
     "name": "stdout",
     "output_type": "stream",
     "text": [
      "Functions and corresponding tools definition created...\r\n"
     ]
    }
   ],
   "source": [
    "private string GetSportEventWinner(string sportEvent, string year)\n",
    "{\n",
    "    // Implement the logic to get the winner of the sport event.\n",
    "    return \"Kansas City Chiefs\";\n",
    "}\n",
    "\n",
    "private string GetSportEventResult(string sportEvent, string year)\n",
    "{\n",
    "    // Implement the logic to get the result of the sport event.\n",
    "    return \"24:1\";\n",
    "}\n",
    "\n",
    "ChatTool getSportEventWinnerTool = ChatTool.CreateFunctionTool(\n",
    "    functionName: nameof(GetSportEventWinner),\n",
    "    functionDescription: \"Get the winner of a sport Event\",\n",
    "    functionParameters: BinaryData.FromString(\"\"\"\n",
    "    {\n",
    "        \"type\": \"object\",\n",
    "        \"properties\": {\n",
    "            \"sportEvent\": {\n",
    "                \"type\": \"string\",\n",
    "                \"description\": \"The name of the sport event\"\n",
    "            },\n",
    "            \"year\": {\n",
    "                \"type\": \"string\",\n",
    "                \"description\": \"The year in which the sport event took place\"\n",
    "            }\n",
    "        },\n",
    "        \"required\": [ \"sportEvent\", \"year\" ]\n",
    "    }\n",
    "    \"\"\")\n",
    ");\n",
    "\n",
    "ChatTool getSportEventResultTool = ChatTool.CreateFunctionTool(\n",
    "    functionName: nameof(GetSportEventResult),\n",
    "    functionDescription: \"Get the result of a sport Event\",\n",
    "    functionParameters: BinaryData.FromString(\"\"\"\n",
    "    {\n",
    "        \"type\": \"object\",\n",
    "        \"properties\": {\n",
    "            \"sportEvent\": {\n",
    "                \"type\": \"string\",\n",
    "                \"description\": \"The name of the sport event\"\n",
    "            },\n",
    "            \"year\": {\n",
    "                \"type\": \"string\",\n",
    "                \"description\": \"The year in which the sport event took place\"\n",
    "            }\n",
    "        },\n",
    "        \"required\": [ \"sportEvent\", \"year\" ]\n",
    "    }\n",
    "    \"\"\")\n",
    ");\n",
    "\n",
    "private string CallLocalFunctions(ChatToolCall toolCall)\n",
    "{\n",
    "    //Consider adding error handling & function calling using reflection\n",
    "    using JsonDocument argumentsDocument = JsonDocument.Parse(toolCall.FunctionArguments);\n",
    "    switch (toolCall.FunctionName)\n",
    "    {\n",
    "        case nameof(GetSportEventWinner): {\n",
    "            string sportEvent = argumentsDocument.RootElement.GetProperty(\"sportEvent\").GetString() ?? \"\";\n",
    "            string year = argumentsDocument.RootElement.GetProperty(\"year\").GetString() ?? \"\";\n",
    "\n",
    "            Console.WriteLine($\"GetSportEventWinner({sportEvent}, {year}) - Called\");\n",
    "            return GetSportEventWinner(sportEvent, year);\n",
    "        }\n",
    "        case nameof(GetSportEventResult): {\n",
    "            string sportEvent = argumentsDocument.RootElement.GetProperty(\"sportEvent\").GetString() ?? \"\";\n",
    "            string year = argumentsDocument.RootElement.GetProperty(\"year\").GetString() ?? \"\";\n",
    "\n",
    "            Console.WriteLine($\"GetSportEventResult({sportEvent}, {year}) - Called\");\n",
    "            return GetSportEventResult(sportEvent, year);\n",
    "        }\n",
    "\n",
    "        default:\n",
    "            return \"Function not defined!\"; \n",
    "    }\n",
    "}\n",
    "\n",
    "Console.WriteLine(\"Functions and corresponding tools definition created...\");"
   ]
  },
  {
   "cell_type": "markdown",
   "metadata": {},
   "source": [
    "## Step 3: Define Chat Completion Options & Chat Messages\n",
    "\n",
    "`ChatCompletionOptions` are defined with the information which tools, or in other words, local native functions exist and are ready to be called if the LLM requests it."
   ]
  },
  {
   "cell_type": "code",
   "execution_count": 3,
   "metadata": {
    "dotnet_interactive": {
     "language": "csharp"
    },
    "polyglot_notebook": {
     "kernelName": "csharp"
    }
   },
   "outputs": [
    {
     "name": "stdout",
     "output_type": "stream",
     "text": [
      "Chat Messages created...\r\n"
     ]
    }
   ],
   "source": [
    "//Define Chat Completion Options\n",
    "ChatCompletionOptions chatCompletionOptions = new()\n",
    "{\n",
    "    Tools = { getSportEventResultTool, getSportEventWinnerTool },\n",
    "};\n",
    "\n",
    "//Define Chat Messages\n",
    "string systemMessage = \"\"; \n",
    "List<string> userMessages = new List<string> { \"Who won the Super Bowl in 2024? And what was the result?\" };\n",
    "List<ChatMessage> chatMessages = new List<ChatMessage>();\n",
    "\n",
    "chatMessages.Add(new SystemChatMessage(systemMessage)); \n",
    "chatMessages.AddRange(userMessages.Select(message => new UserChatMessage(message)));\n",
    "\n",
    "Console.WriteLine(\"Chat Messages created...\");"
   ]
  },
  {
   "cell_type": "markdown",
   "metadata": {},
   "source": [
    "## Step 4: Call Chat Completion\n",
    "\n",
    "The chat completion endpoint of the deployed LLM is called with the previously defined `ChatCompletionOptions`. \n",
    "\n",
    "The response from the LLM is checked and local functions are called if requested by the LLM."
   ]
  },
  {
   "cell_type": "code",
   "execution_count": 4,
   "metadata": {
    "dotnet_interactive": {
     "language": "csharp"
    },
    "polyglot_notebook": {
     "kernelName": "csharp"
    }
   },
   "outputs": [
    {
     "name": "stdout",
     "output_type": "stream",
     "text": [
      "GetSportEventWinner(Super Bowl, 2024) - Called\n",
      "GetSportEventResult(Super Bowl, 2024) - Called\n",
      "Model response: \n",
      " The Kansas City Chiefs won the Super Bowl in 2024, with a result of 24-1.\n"
     ]
    }
   ],
   "source": [
    "//Call chat completion (with tools)\n",
    "ChatCompletion chatCompletion = await chatClient.CompleteChatAsync(\n",
    "    messages: chatMessages,\n",
    "    options: chatCompletionOptions\n",
    ");\n",
    "\n",
    "//Check Response\n",
    "while (chatCompletion.FinishReason == ChatFinishReason.ToolCalls)\n",
    "{\n",
    "    // Add a new assistant message to the conversation history that includes the tool calls\n",
    "    chatMessages.Add(new AssistantChatMessage(chatCompletion));\n",
    "\n",
    "    foreach (ChatToolCall toolCall in chatCompletion.ToolCalls)\n",
    "    {\n",
    "        chatMessages.Add(\n",
    "            new ToolChatMessage(\n",
    "                toolCall.Id, \n",
    "                CallLocalFunctions(toolCall)\n",
    "            )\n",
    "        );\n",
    "    }\n",
    "\n",
    "    chatCompletion = await chatClient.CompleteChatAsync(\n",
    "        messages: chatMessages,\n",
    "        options: chatCompletionOptions\n",
    "    );\n",
    "}\n",
    "\n",
    "foreach (ChatMessageContentPart chatMessageContentPart in chatCompletion.Content){\n",
    "    Console.WriteLine($\"Model response: \\n {chatMessageContentPart}\"); \n",
    "}"
   ]
  }
 ],
 "metadata": {
  "kernelspec": {
   "display_name": ".NET (C#)",
   "language": "C#",
   "name": ".net-csharp"
  },
  "language_info": {
   "name": "polyglot-notebook"
  },
  "polyglot_notebook": {
   "kernelInfo": {
    "defaultKernelName": "csharp",
    "items": [
     {
      "aliases": [],
      "languageName": "csharp",
      "name": "csharp"
     }
    ]
   }
  }
 },
 "nbformat": 4,
 "nbformat_minor": 2
}
